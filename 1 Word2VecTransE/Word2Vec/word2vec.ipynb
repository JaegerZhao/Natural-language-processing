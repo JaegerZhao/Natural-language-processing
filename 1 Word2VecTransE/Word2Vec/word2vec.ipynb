{
 "cells": [
  {
   "cell_type": "markdown",
   "metadata": {},
   "source": [
    "## 1 vector_size 的影响"
   ]
  },
  {
   "cell_type": "code",
   "execution_count": 1,
   "metadata": {},
   "outputs": [
    {
     "name": "stdout",
     "output_type": "stream",
     "text": [
      "Total time: 21 s\n"
     ]
    },
    {
     "name": "stderr",
     "output_type": "stream",
     "text": [
      "2024-04-27 23:52:53,553 : INFO : collecting all words and their counts\n",
      "2024-04-27 23:52:53,555 : INFO : PROGRESS: at sentence #0, processed 0 words, keeping 0 word types\n",
      "2024-04-27 23:52:56,081 : INFO : collected 253854 word types from a corpus of 17005207 raw words and 1701 sentences\n",
      "2024-04-27 23:52:56,082 : INFO : Creating a fresh vocabulary\n",
      "2024-04-27 23:52:56,200 : INFO : Word2Vec lifecycle event {'msg': 'effective_min_count=10 retains 47134 unique words (18.57% of original 253854, drops 206720)', 'datetime': '2024-04-27T23:52:56.186479', 'gensim': '4.3.0', 'python': '3.11.5 | packaged by Anaconda, Inc. | (main, Sep 11 2023, 13:26:23) [MSC v.1916 64 bit (AMD64)]', 'platform': 'Windows-10-10.0.22621-SP0', 'event': 'prepare_vocab'}\n",
      "2024-04-27 23:52:56,201 : INFO : Word2Vec lifecycle event {'msg': 'effective_min_count=10 leaves 16561031 word corpus (97.39% of original 17005207, drops 444176)', 'datetime': '2024-04-27T23:52:56.200412', 'gensim': '4.3.0', 'python': '3.11.5 | packaged by Anaconda, Inc. | (main, Sep 11 2023, 13:26:23) [MSC v.1916 64 bit (AMD64)]', 'platform': 'Windows-10-10.0.22621-SP0', 'event': 'prepare_vocab'}\n",
      "2024-04-27 23:52:56,312 : INFO : deleting the raw counts dictionary of 253854 items\n",
      "2024-04-27 23:52:56,315 : INFO : sample=0.001 downsamples 38 most-common words\n",
      "2024-04-27 23:52:56,315 : INFO : Word2Vec lifecycle event {'msg': 'downsampling leaves estimated 12333563.370024087 word corpus (74.5%% of prior 16561031)', 'datetime': '2024-04-27T23:52:56.315483', 'gensim': '4.3.0', 'python': '3.11.5 | packaged by Anaconda, Inc. | (main, Sep 11 2023, 13:26:23) [MSC v.1916 64 bit (AMD64)]', 'platform': 'Windows-10-10.0.22621-SP0', 'event': 'prepare_vocab'}\n",
      "2024-04-27 23:52:56,482 : INFO : estimated required memory for 47134 words and 50 dimensions: 42420600 bytes\n",
      "2024-04-27 23:52:56,482 : INFO : resetting layer weights\n",
      "2024-04-27 23:52:56,489 : INFO : Word2Vec lifecycle event {'update': False, 'trim_rule': 'None', 'datetime': '2024-04-27T23:52:56.489508', 'gensim': '4.3.0', 'python': '3.11.5 | packaged by Anaconda, Inc. | (main, Sep 11 2023, 13:26:23) [MSC v.1916 64 bit (AMD64)]', 'platform': 'Windows-10-10.0.22621-SP0', 'event': 'build_vocab'}\n",
      "2024-04-27 23:52:56,489 : INFO : Word2Vec lifecycle event {'msg': 'training model with 16 workers on 47134 vocabulary and 50 features, using sg=0 hs=0 sample=0.001 negative=5 window=10 shrink_windows=True', 'datetime': '2024-04-27T23:52:56.489508', 'gensim': '4.3.0', 'python': '3.11.5 | packaged by Anaconda, Inc. | (main, Sep 11 2023, 13:26:23) [MSC v.1916 64 bit (AMD64)]', 'platform': 'Windows-10-10.0.22621-SP0', 'event': 'train'}\n",
      "2024-04-27 23:52:57,496 : INFO : EPOCH 0 - PROGRESS: at 27.63% examples, 3394584 words/s, in_qsize 23, out_qsize 0\n",
      "2024-04-27 23:52:58,500 : INFO : EPOCH 0 - PROGRESS: at 55.85% examples, 3439722 words/s, in_qsize 24, out_qsize 1\n",
      "2024-04-27 23:52:59,501 : INFO : EPOCH 0 - PROGRESS: at 83.48% examples, 3425084 words/s, in_qsize 0, out_qsize 0\n",
      "2024-04-27 23:53:00,060 : INFO : EPOCH 0: training on 17005207 raw words (12332506 effective words) took 3.6s, 3457065 effective words/s\n",
      "2024-04-27 23:53:01,063 : INFO : EPOCH 1 - PROGRESS: at 28.69% examples, 3534036 words/s, in_qsize 0, out_qsize 0\n",
      "2024-04-27 23:53:02,066 : INFO : EPOCH 1 - PROGRESS: at 57.61% examples, 3555319 words/s, in_qsize 0, out_qsize 0\n",
      "2024-04-27 23:53:03,067 : INFO : EPOCH 1 - PROGRESS: at 86.65% examples, 3559560 words/s, in_qsize 1, out_qsize 0\n",
      "2024-04-27 23:53:03,509 : INFO : EPOCH 1: training on 17005207 raw words (12332685 effective words) took 3.4s, 3577940 effective words/s\n",
      "2024-04-27 23:53:04,511 : INFO : EPOCH 2 - PROGRESS: at 30.39% examples, 3746378 words/s, in_qsize 0, out_qsize 0\n",
      "2024-04-27 23:53:05,513 : INFO : EPOCH 2 - PROGRESS: at 61.26% examples, 3784189 words/s, in_qsize 2, out_qsize 0\n",
      "2024-04-27 23:53:06,513 : INFO : EPOCH 2 - PROGRESS: at 91.83% examples, 3774420 words/s, in_qsize 0, out_qsize 1\n",
      "2024-04-27 23:53:06,779 : INFO : EPOCH 2: training on 17005207 raw words (12333719 effective words) took 3.3s, 3773493 effective words/s\n",
      "2024-04-27 23:53:07,780 : INFO : EPOCH 3 - PROGRESS: at 29.81% examples, 3676459 words/s, in_qsize 0, out_qsize 0\n",
      "2024-04-27 23:53:08,782 : INFO : EPOCH 3 - PROGRESS: at 59.85% examples, 3697938 words/s, in_qsize 0, out_qsize 0\n",
      "2024-04-27 23:53:09,789 : INFO : EPOCH 3 - PROGRESS: at 88.89% examples, 3646175 words/s, in_qsize 3, out_qsize 1\n",
      "2024-04-27 23:53:10,238 : INFO : EPOCH 3: training on 17005207 raw words (12333478 effective words) took 3.5s, 3566946 effective words/s\n",
      "2024-04-27 23:53:11,241 : INFO : EPOCH 4 - PROGRESS: at 25.04% examples, 3078152 words/s, in_qsize 0, out_qsize 0\n",
      "2024-04-27 23:53:12,241 : INFO : EPOCH 4 - PROGRESS: at 50.44% examples, 3117276 words/s, in_qsize 0, out_qsize 0\n",
      "2024-04-27 23:53:13,242 : INFO : EPOCH 4 - PROGRESS: at 80.48% examples, 3310697 words/s, in_qsize 0, out_qsize 0\n",
      "2024-04-27 23:53:14,010 : INFO : EPOCH 4: training on 17005207 raw words (12334082 effective words) took 3.8s, 3271524 effective words/s\n",
      "2024-04-27 23:53:14,010 : INFO : Word2Vec lifecycle event {'msg': 'training on 85026035 raw words (61666470 effective words) took 17.5s, 3519582 effective words/s', 'datetime': '2024-04-27T23:53:14.010437', 'gensim': '4.3.0', 'python': '3.11.5 | packaged by Anaconda, Inc. | (main, Sep 11 2023, 13:26:23) [MSC v.1916 64 bit (AMD64)]', 'platform': 'Windows-10-10.0.22621-SP0', 'event': 'train'}\n",
      "2024-04-27 23:53:14,010 : INFO : Word2Vec lifecycle event {'params': 'Word2Vec<vocab=47134, vector_size=50, alpha=0.025>', 'datetime': '2024-04-27T23:53:14.010437', 'gensim': '4.3.0', 'python': '3.11.5 | packaged by Anaconda, Inc. | (main, Sep 11 2023, 13:26:23) [MSC v.1916 64 bit (AMD64)]', 'platform': 'Windows-10-10.0.22621-SP0', 'event': 'created'}\n",
      "2024-04-27 23:53:14,010 : INFO : Word2Vec lifecycle event {'fname_or_handle': 'word2vec_gensim', 'separately': 'None', 'sep_limit': 10485760, 'ignore': frozenset(), 'datetime': '2024-04-27T23:53:14.010437', 'gensim': '4.3.0', 'python': '3.11.5 | packaged by Anaconda, Inc. | (main, Sep 11 2023, 13:26:23) [MSC v.1916 64 bit (AMD64)]', 'platform': 'Windows-10-10.0.22621-SP0', 'event': 'saving'}\n",
      "2024-04-27 23:53:14,010 : INFO : not storing attribute cum_table\n",
      "2024-04-27 23:53:14,029 : INFO : saved word2vec_gensim\n",
      "2024-04-27 23:53:14,045 : INFO : storing vocabulary in vocabulary\n",
      "2024-04-27 23:53:14,074 : INFO : storing 47134x50 projection weights into word2vec_org\n"
     ]
    }
   ],
   "source": [
    "# vector_size=50\n",
    "!python word2vec.py"
   ]
  },
  {
   "cell_type": "code",
   "execution_count": 2,
   "metadata": {},
   "outputs": [
    {
     "name": "stdout",
     "output_type": "stream",
     "text": [
      "{\"score\": 0.6606661257461373, \"errorMsg\": \"success\", \"code\": 0, \"data\": [{\"score\": 0.6606661257461373}]}\n"
     ]
    }
   ],
   "source": [
    "!python evaluation.py score.npy"
   ]
  },
  {
   "cell_type": "code",
   "execution_count": 3,
   "metadata": {},
   "outputs": [
    {
     "name": "stdout",
     "output_type": "stream",
     "text": [
      "Total time: 57 s\n"
     ]
    },
    {
     "name": "stderr",
     "output_type": "stream",
     "text": [
      "2024-04-27 23:55:23,273 : INFO : collecting all words and their counts\n",
      "2024-04-27 23:55:23,273 : INFO : PROGRESS: at sentence #0, processed 0 words, keeping 0 word types\n",
      "2024-04-27 23:55:26,010 : INFO : collected 253854 word types from a corpus of 17005207 raw words and 1701 sentences\n",
      "2024-04-27 23:55:26,010 : INFO : Creating a fresh vocabulary\n",
      "2024-04-27 23:55:26,132 : INFO : Word2Vec lifecycle event {'msg': 'effective_min_count=10 retains 47134 unique words (18.57% of original 253854, drops 206720)', 'datetime': '2024-04-27T23:55:26.114405', 'gensim': '4.3.0', 'python': '3.11.5 | packaged by Anaconda, Inc. | (main, Sep 11 2023, 13:26:23) [MSC v.1916 64 bit (AMD64)]', 'platform': 'Windows-10-10.0.22621-SP0', 'event': 'prepare_vocab'}\n",
      "2024-04-27 23:55:26,132 : INFO : Word2Vec lifecycle event {'msg': 'effective_min_count=10 leaves 16561031 word corpus (97.39% of original 17005207, drops 444176)', 'datetime': '2024-04-27T23:55:26.132036', 'gensim': '4.3.0', 'python': '3.11.5 | packaged by Anaconda, Inc. | (main, Sep 11 2023, 13:26:23) [MSC v.1916 64 bit (AMD64)]', 'platform': 'Windows-10-10.0.22621-SP0', 'event': 'prepare_vocab'}\n",
      "2024-04-27 23:55:26,252 : INFO : deleting the raw counts dictionary of 253854 items\n",
      "2024-04-27 23:55:26,258 : INFO : sample=0.001 downsamples 38 most-common words\n",
      "2024-04-27 23:55:26,259 : INFO : Word2Vec lifecycle event {'msg': 'downsampling leaves estimated 12333563.370024087 word corpus (74.5%% of prior 16561031)', 'datetime': '2024-04-27T23:55:26.258130', 'gensim': '4.3.0', 'python': '3.11.5 | packaged by Anaconda, Inc. | (main, Sep 11 2023, 13:26:23) [MSC v.1916 64 bit (AMD64)]', 'platform': 'Windows-10-10.0.22621-SP0', 'event': 'prepare_vocab'}\n",
      "2024-04-27 23:55:26,422 : INFO : estimated required memory for 47134 words and 100 dimensions: 61274200 bytes\n",
      "2024-04-27 23:55:26,422 : INFO : resetting layer weights\n",
      "2024-04-27 23:55:26,435 : INFO : Word2Vec lifecycle event {'update': False, 'trim_rule': 'None', 'datetime': '2024-04-27T23:55:26.435838', 'gensim': '4.3.0', 'python': '3.11.5 | packaged by Anaconda, Inc. | (main, Sep 11 2023, 13:26:23) [MSC v.1916 64 bit (AMD64)]', 'platform': 'Windows-10-10.0.22621-SP0', 'event': 'build_vocab'}\n",
      "2024-04-27 23:55:26,435 : INFO : Word2Vec lifecycle event {'msg': 'training model with 16 workers on 47134 vocabulary and 100 features, using sg=0 hs=0 sample=0.001 negative=5 window=10 shrink_windows=True', 'datetime': '2024-04-27T23:55:26.435838', 'gensim': '4.3.0', 'python': '3.11.5 | packaged by Anaconda, Inc. | (main, Sep 11 2023, 13:26:23) [MSC v.1916 64 bit (AMD64)]', 'platform': 'Windows-10-10.0.22621-SP0', 'event': 'train'}\n",
      "2024-04-27 23:55:27,441 : INFO : EPOCH 0 - PROGRESS: at 18.81% examples, 2307092 words/s, in_qsize 0, out_qsize 1\n",
      "2024-04-27 23:55:28,441 : INFO : EPOCH 0 - PROGRESS: at 42.09% examples, 2600430 words/s, in_qsize 0, out_qsize 0\n",
      "2024-04-27 23:55:29,441 : INFO : EPOCH 0 - PROGRESS: at 64.20% examples, 2644798 words/s, in_qsize 1, out_qsize 0\n",
      "2024-04-27 23:55:30,443 : INFO : EPOCH 0 - PROGRESS: at 88.48% examples, 2727669 words/s, in_qsize 1, out_qsize 0\n",
      "2024-04-27 23:55:30,931 : INFO : EPOCH 0: training on 17005207 raw words (12333501 effective words) took 4.5s, 2746462 effective words/s\n",
      "2024-04-27 23:55:31,933 : INFO : EPOCH 1 - PROGRESS: at 23.87% examples, 2932552 words/s, in_qsize 0, out_qsize 0\n",
      "2024-04-27 23:55:32,931 : INFO : EPOCH 1 - PROGRESS: at 48.27% examples, 2980003 words/s, in_qsize 0, out_qsize 0\n",
      "2024-04-27 23:55:33,944 : INFO : EPOCH 1 - PROGRESS: at 65.02% examples, 2669064 words/s, in_qsize 0, out_qsize 0\n",
      "2024-04-27 23:55:34,943 : INFO : EPOCH 1 - PROGRESS: at 81.13% examples, 2495825 words/s, in_qsize 0, out_qsize 0\n",
      "2024-04-27 23:55:35,952 : INFO : EPOCH 1 - PROGRESS: at 99.06% examples, 2434683 words/s, in_qsize 0, out_qsize 0\n",
      "2024-04-27 23:55:35,992 : INFO : EPOCH 1: training on 17005207 raw words (12333964 effective words) took 5.1s, 2437705 effective words/s\n",
      "2024-04-27 23:55:36,998 : INFO : EPOCH 2 - PROGRESS: at 18.17% examples, 2221422 words/s, in_qsize 0, out_qsize 0\n",
      "2024-04-27 23:55:38,001 : INFO : EPOCH 2 - PROGRESS: at 37.15% examples, 2289253 words/s, in_qsize 0, out_qsize 1\n",
      "2024-04-27 23:55:39,042 : INFO : EPOCH 2 - PROGRESS: at 51.21% examples, 2074234 words/s, in_qsize 8, out_qsize 0\n",
      "2024-04-27 23:55:40,033 : INFO : EPOCH 2 - PROGRESS: at 55.38% examples, 1690126 words/s, in_qsize 29, out_qsize 2\n",
      "2024-04-27 23:55:41,454 : INFO : EPOCH 2 - PROGRESS: at 57.26% examples, 1297182 words/s, in_qsize 31, out_qsize 6\n",
      "2024-04-27 23:55:42,471 : INFO : EPOCH 2 - PROGRESS: at 63.67% examples, 1215713 words/s, in_qsize 30, out_qsize 2\n",
      "2024-04-27 23:55:43,477 : INFO : EPOCH 2 - PROGRESS: at 70.19% examples, 1159767 words/s, in_qsize 31, out_qsize 0\n",
      "2024-04-27 23:55:44,477 : INFO : EPOCH 2 - PROGRESS: at 77.37% examples, 1125319 words/s, in_qsize 31, out_qsize 0\n",
      "2024-04-27 23:55:45,495 : INFO : EPOCH 2 - PROGRESS: at 84.36% examples, 1096001 words/s, in_qsize 31, out_qsize 1\n",
      "2024-04-27 23:55:46,522 : INFO : EPOCH 2 - PROGRESS: at 90.83% examples, 1065110 words/s, in_qsize 30, out_qsize 1\n",
      "2024-04-27 23:55:47,539 : INFO : EPOCH 2 - PROGRESS: at 97.35% examples, 1040254 words/s, in_qsize 32, out_qsize 1\n",
      "2024-04-27 23:55:47,852 : INFO : EPOCH 2: training on 17005207 raw words (12333940 effective words) took 11.9s, 1040021 effective words/s\n",
      "2024-04-27 23:55:48,872 : INFO : EPOCH 3 - PROGRESS: at 6.29% examples, 763248 words/s, in_qsize 29, out_qsize 0\n",
      "2024-04-27 23:55:49,866 : INFO : EPOCH 3 - PROGRESS: at 12.46% examples, 759230 words/s, in_qsize 23, out_qsize 0\n",
      "2024-04-27 23:55:50,885 : INFO : EPOCH 3 - PROGRESS: at 18.69% examples, 758361 words/s, in_qsize 30, out_qsize 2\n",
      "2024-04-27 23:55:51,912 : INFO : EPOCH 3 - PROGRESS: at 25.40% examples, 772313 words/s, in_qsize 31, out_qsize 0\n",
      "2024-04-27 23:55:52,928 : INFO : EPOCH 3 - PROGRESS: at 32.16% examples, 783348 words/s, in_qsize 29, out_qsize 2\n",
      "2024-04-27 23:55:53,945 : INFO : EPOCH 3 - PROGRESS: at 39.45% examples, 802242 words/s, in_qsize 28, out_qsize 3\n",
      "2024-04-27 23:55:54,939 : INFO : EPOCH 3 - PROGRESS: at 46.33% examples, 808784 words/s, in_qsize 31, out_qsize 0\n",
      "2024-04-27 23:55:55,950 : INFO : EPOCH 3 - PROGRESS: at 53.26% examples, 814817 words/s, in_qsize 31, out_qsize 0\n",
      "2024-04-27 23:55:56,978 : INFO : EPOCH 3 - PROGRESS: at 60.79% examples, 825294 words/s, in_qsize 29, out_qsize 2\n",
      "2024-04-27 23:55:57,995 : INFO : EPOCH 3 - PROGRESS: at 69.02% examples, 842787 words/s, in_qsize 29, out_qsize 2\n",
      "2024-04-27 23:55:58,999 : INFO : EPOCH 3 - PROGRESS: at 76.31% examples, 847014 words/s, in_qsize 31, out_qsize 1\n",
      "2024-04-27 23:56:00,005 : INFO : EPOCH 3 - PROGRESS: at 83.60% examples, 850165 words/s, in_qsize 23, out_qsize 0\n",
      "2024-04-27 23:56:01,007 : INFO : EPOCH 3 - PROGRESS: at 90.24% examples, 847589 words/s, in_qsize 32, out_qsize 0\n",
      "2024-04-27 23:56:02,005 : INFO : EPOCH 3 - PROGRESS: at 97.88% examples, 853565 words/s, in_qsize 32, out_qsize 0\n",
      "2024-04-27 23:56:02,255 : INFO : EPOCH 3: training on 17005207 raw words (12336392 effective words) took 14.4s, 857223 effective words/s\n",
      "2024-04-27 23:56:03,254 : INFO : EPOCH 4 - PROGRESS: at 5.82% examples, 712088 words/s, in_qsize 30, out_qsize 1\n",
      "2024-04-27 23:56:04,268 : INFO : EPOCH 4 - PROGRESS: at 12.70% examples, 774671 words/s, in_qsize 32, out_qsize 0\n",
      "2024-04-27 23:56:05,261 : INFO : EPOCH 4 - PROGRESS: at 19.99% examples, 813959 words/s, in_qsize 31, out_qsize 0\n",
      "2024-04-27 23:56:06,269 : INFO : EPOCH 4 - PROGRESS: at 26.81% examples, 822746 words/s, in_qsize 30, out_qsize 0\n",
      "2024-04-27 23:56:07,279 : INFO : EPOCH 4 - PROGRESS: at 33.80% examples, 830928 words/s, in_qsize 32, out_qsize 3\n",
      "2024-04-27 23:56:08,310 : INFO : EPOCH 4 - PROGRESS: at 41.27% examples, 843055 words/s, in_qsize 30, out_qsize 1\n",
      "2024-04-27 23:56:09,324 : INFO : EPOCH 4 - PROGRESS: at 48.21% examples, 843854 words/s, in_qsize 31, out_qsize 1\n",
      "2024-04-27 23:56:10,354 : INFO : EPOCH 4 - PROGRESS: at 55.03% examples, 840546 words/s, in_qsize 29, out_qsize 2\n",
      "2024-04-27 23:56:11,367 : INFO : EPOCH 4 - PROGRESS: at 61.61% examples, 836615 words/s, in_qsize 30, out_qsize 4\n",
      "2024-04-27 23:56:12,375 : INFO : EPOCH 4 - PROGRESS: at 68.61% examples, 837910 words/s, in_qsize 29, out_qsize 2\n",
      "2024-04-27 23:56:13,419 : INFO : EPOCH 4 - PROGRESS: at 75.49% examples, 836223 words/s, in_qsize 30, out_qsize 2\n",
      "2024-04-27 23:56:14,423 : INFO : EPOCH 4 - PROGRESS: at 82.89% examples, 841168 words/s, in_qsize 27, out_qsize 0\n",
      "2024-04-27 23:56:15,446 : INFO : EPOCH 4 - PROGRESS: at 89.48% examples, 837631 words/s, in_qsize 30, out_qsize 0\n",
      "2024-04-27 23:56:16,452 : INFO : EPOCH 4 - PROGRESS: at 96.00% examples, 834763 words/s, in_qsize 31, out_qsize 0\n",
      "2024-04-27 23:56:17,026 : INFO : EPOCH 4: training on 17005207 raw words (12331900 effective words) took 14.8s, 835229 effective words/s\n",
      "2024-04-27 23:56:17,026 : INFO : Word2Vec lifecycle event {'msg': 'training on 85026035 raw words (61669697 effective words) took 50.6s, 1218972 effective words/s', 'datetime': '2024-04-27T23:56:17.026799', 'gensim': '4.3.0', 'python': '3.11.5 | packaged by Anaconda, Inc. | (main, Sep 11 2023, 13:26:23) [MSC v.1916 64 bit (AMD64)]', 'platform': 'Windows-10-10.0.22621-SP0', 'event': 'train'}\n",
      "2024-04-27 23:56:17,026 : INFO : Word2Vec lifecycle event {'params': 'Word2Vec<vocab=47134, vector_size=100, alpha=0.025>', 'datetime': '2024-04-27T23:56:17.026799', 'gensim': '4.3.0', 'python': '3.11.5 | packaged by Anaconda, Inc. | (main, Sep 11 2023, 13:26:23) [MSC v.1916 64 bit (AMD64)]', 'platform': 'Windows-10-10.0.22621-SP0', 'event': 'created'}\n",
      "2024-04-27 23:56:17,026 : INFO : Word2Vec lifecycle event {'fname_or_handle': 'word2vec_gensim', 'separately': 'None', 'sep_limit': 10485760, 'ignore': frozenset(), 'datetime': '2024-04-27T23:56:17.026799', 'gensim': '4.3.0', 'python': '3.11.5 | packaged by Anaconda, Inc. | (main, Sep 11 2023, 13:26:23) [MSC v.1916 64 bit (AMD64)]', 'platform': 'Windows-10-10.0.22621-SP0', 'event': 'saving'}\n",
      "2024-04-27 23:56:17,026 : INFO : not storing attribute cum_table\n",
      "2024-04-27 23:56:17,114 : INFO : saved word2vec_gensim\n",
      "2024-04-27 23:56:17,155 : INFO : storing vocabulary in vocabulary\n",
      "2024-04-27 23:56:17,257 : INFO : storing 47134x100 projection weights into word2vec_org\n"
     ]
    }
   ],
   "source": [
    "# vector_size=100\n",
    "!python word2vec.py"
   ]
  },
  {
   "cell_type": "code",
   "execution_count": 4,
   "metadata": {},
   "outputs": [
    {
     "name": "stdout",
     "output_type": "stream",
     "text": [
      "{\"score\": 0.692237913064484, \"errorMsg\": \"success\", \"code\": 0, \"data\": [{\"score\": 0.692237913064484}]}\n"
     ]
    }
   ],
   "source": [
    "!python evaluation.py score.npy"
   ]
  },
  {
   "cell_type": "code",
   "execution_count": 5,
   "metadata": {},
   "outputs": [
    {
     "name": "stdout",
     "output_type": "stream",
     "text": [
      "Total time: 75 s"
     ]
    },
    {
     "name": "stderr",
     "output_type": "stream",
     "text": [
      "2024-04-27 23:59:09,613 : INFO : collecting all words and their counts\n",
      "2024-04-27 23:59:09,615 : INFO : PROGRESS: at sentence #0, processed 0 words, keeping 0 word types\n",
      "2024-04-27 23:59:12,671 : INFO : collected 253854 word types from a corpus of 17005207 raw words and 1701 sentences\n",
      "2024-04-27 23:59:12,671 : INFO : Creating a fresh vocabulary\n",
      "2024-04-27 23:59:12,798 : INFO : Word2Vec lifecycle event {'msg': 'effective_min_count=10 retains 47134 unique words (18.57% of original 253854, drops 206720)', 'datetime': '2024-04-27T23:59:12.786004', 'gensim': '4.3.0', 'python': '3.11.5 | packaged by Anaconda, Inc. | (main, Sep 11 2023, 13:26:23) [MSC v.1916 64 bit (AMD64)]', 'platform': 'Windows-10-10.0.22621-SP0', 'event': 'prepare_vocab'}\n",
      "2024-04-27 23:59:12,798 : INFO : Word2Vec lifecycle event {'msg': 'effective_min_count=10 leaves 16561031 word corpus (97.39% of original 17005207, drops 444176)', 'datetime': '2024-04-27T23:59:12.798464', 'gensim': '4.3.0', 'python': '3.11.5 | packaged by Anaconda, Inc. | (main, Sep 11 2023, 13:26:23) [MSC v.1916 64 bit (AMD64)]', 'platform': 'Windows-10-10.0.22621-SP0', 'event': 'prepare_vocab'}\n",
      "2024-04-27 23:59:12,919 : INFO : deleting the raw counts dictionary of 253854 items\n",
      "2024-04-27 23:59:12,925 : INFO : sample=0.001 downsamples 38 most-common words\n",
      "2024-04-27 23:59:12,925 : INFO : Word2Vec lifecycle event {'msg': 'downsampling leaves estimated 12333563.370024087 word corpus (74.5%% of prior 16561031)', 'datetime': '2024-04-27T23:59:12.925349', 'gensim': '4.3.0', 'python': '3.11.5 | packaged by Anaconda, Inc. | (main, Sep 11 2023, 13:26:23) [MSC v.1916 64 bit (AMD64)]', 'platform': 'Windows-10-10.0.22621-SP0', 'event': 'prepare_vocab'}\n",
      "2024-04-27 23:59:13,104 : INFO : estimated required memory for 47134 words and 150 dimensions: 80127800 bytes\n",
      "2024-04-27 23:59:13,104 : INFO : resetting layer weights\n",
      "2024-04-27 23:59:13,119 : INFO : Word2Vec lifecycle event {'update': False, 'trim_rule': 'None', 'datetime': '2024-04-27T23:59:13.119294', 'gensim': '4.3.0', 'python': '3.11.5 | packaged by Anaconda, Inc. | (main, Sep 11 2023, 13:26:23) [MSC v.1916 64 bit (AMD64)]', 'platform': 'Windows-10-10.0.22621-SP0', 'event': 'build_vocab'}\n",
      "2024-04-27 23:59:13,119 : INFO : Word2Vec lifecycle event {'msg': 'training model with 16 workers on 47134 vocabulary and 150 features, using sg=0 hs=0 sample=0.001 negative=5 window=10 shrink_windows=True', 'datetime': '2024-04-27T23:59:13.119294', 'gensim': '4.3.0', 'python': '3.11.5 | packaged by Anaconda, Inc. | (main, Sep 11 2023, 13:26:23) [MSC v.1916 64 bit (AMD64)]', 'platform': 'Windows-10-10.0.22621-SP0', 'event': 'train'}\n",
      "2024-04-27 23:59:14,125 : INFO : EPOCH 0 - PROGRESS: at 22.16% examples, 2721838 words/s, in_qsize 1, out_qsize 0\n",
      "2024-04-27 23:59:15,125 : INFO : EPOCH 0 - PROGRESS: at 45.15% examples, 2791138 words/s, in_qsize 0, out_qsize 1\n",
      "2024-04-27 23:59:16,134 : INFO : EPOCH 0 - PROGRESS: at 67.14% examples, 2762447 words/s, in_qsize 0, out_qsize 0\n",
      "2024-04-27 23:59:17,156 : INFO : EPOCH 0 - PROGRESS: at 80.25% examples, 2458576 words/s, in_qsize 13, out_qsize 0\n",
      "2024-04-27 23:59:18,192 : INFO : EPOCH 0 - PROGRESS: at 84.89% examples, 2068240 words/s, in_qsize 31, out_qsize 1\n",
      "2024-04-27 23:59:19,216 : INFO : EPOCH 0 - PROGRESS: at 91.06% examples, 1846532 words/s, in_qsize 32, out_qsize 0\n",
      "2024-04-27 23:59:20,222 : INFO : EPOCH 0 - PROGRESS: at 97.12% examples, 1688204 words/s, in_qsize 29, out_qsize 2\n",
      "2024-04-27 23:59:20,569 : INFO : EPOCH 0: training on 17005207 raw words (12335571 effective words) took 7.5s, 1655780 effective words/s\n",
      "2024-04-27 23:59:21,609 : INFO : EPOCH 1 - PROGRESS: at 5.88% examples, 701134 words/s, in_qsize 31, out_qsize 1\n",
      "2024-04-27 23:59:22,608 : INFO : EPOCH 1 - PROGRESS: at 11.76% examples, 708670 words/s, in_qsize 30, out_qsize 0\n",
      "2024-04-27 23:59:23,623 : INFO : EPOCH 1 - PROGRESS: at 17.81% examples, 717467 words/s, in_qsize 28, out_qsize 3\n",
      "2024-04-27 23:59:24,646 : INFO : EPOCH 1 - PROGRESS: at 24.16% examples, 730740 words/s, in_qsize 32, out_qsize 0\n",
      "2024-04-27 23:59:25,663 : INFO : EPOCH 1 - PROGRESS: at 30.04% examples, 728206 words/s, in_qsize 28, out_qsize 3\n",
      "2024-04-27 23:59:26,677 : INFO : EPOCH 1 - PROGRESS: at 36.33% examples, 736561 words/s, in_qsize 31, out_qsize 0\n",
      "2024-04-27 23:59:27,675 : INFO : EPOCH 1 - PROGRESS: at 42.21% examples, 734973 words/s, in_qsize 27, out_qsize 3\n",
      "2024-04-27 23:59:28,683 : INFO : EPOCH 1 - PROGRESS: at 48.27% examples, 736284 words/s, in_qsize 29, out_qsize 1\n",
      "2024-04-27 23:59:29,705 : INFO : EPOCH 1 - PROGRESS: at 53.85% examples, 729569 words/s, in_qsize 31, out_qsize 0\n",
      "2024-04-27 23:59:30,748 : INFO : EPOCH 1 - PROGRESS: at 59.73% examples, 726653 words/s, in_qsize 30, out_qsize 2\n",
      "2024-04-27 23:59:31,759 : INFO : EPOCH 1 - PROGRESS: at 65.49% examples, 724720 words/s, in_qsize 31, out_qsize 1\n",
      "2024-04-27 23:59:32,781 : INFO : EPOCH 1 - PROGRESS: at 71.55% examples, 725488 words/s, in_qsize 28, out_qsize 4\n",
      "2024-04-27 23:59:33,784 : INFO : EPOCH 1 - PROGRESS: at 77.84% examples, 728056 words/s, in_qsize 29, out_qsize 2\n",
      "2024-04-27 23:59:34,813 : INFO : EPOCH 1 - PROGRESS: at 84.13% examples, 729493 words/s, in_qsize 28, out_qsize 4\n",
      "2024-04-27 23:59:35,826 : INFO : EPOCH 1 - PROGRESS: at 90.42% examples, 732218 words/s, in_qsize 31, out_qsize 0\n",
      "2024-04-27 23:59:36,827 : INFO : EPOCH 1 - PROGRESS: at 96.47% examples, 732649 words/s, in_qsize 29, out_qsize 2\n",
      "2024-04-27 23:59:37,343 : INFO : EPOCH 1: training on 17005207 raw words (12333611 effective words) took 16.8s, 735705 effective words/s\n",
      "2024-04-27 23:59:38,360 : INFO : EPOCH 2 - PROGRESS: at 5.23% examples, 641914 words/s, in_qsize 32, out_qsize 0\n",
      "2024-04-27 23:59:39,355 : INFO : EPOCH 2 - PROGRESS: at 10.76% examples, 656371 words/s, in_qsize 29, out_qsize 4\n",
      "2024-04-27 23:59:40,385 : INFO : EPOCH 2 - PROGRESS: at 17.11% examples, 691771 words/s, in_qsize 29, out_qsize 2\n",
      "2024-04-27 23:59:41,396 : INFO : EPOCH 2 - PROGRESS: at 22.93% examples, 697287 words/s, in_qsize 31, out_qsize 1\n",
      "2024-04-27 23:59:42,403 : INFO : EPOCH 2 - PROGRESS: at 29.10% examples, 711160 words/s, in_qsize 31, out_qsize 0\n",
      "2024-04-27 23:59:43,418 : INFO : EPOCH 2 - PROGRESS: at 34.98% examples, 713061 words/s, in_qsize 30, out_qsize 1\n",
      "2024-04-27 23:59:44,422 : INFO : EPOCH 2 - PROGRESS: at 41.39% examples, 723884 words/s, in_qsize 31, out_qsize 1\n",
      "2024-04-27 23:59:45,427 : INFO : EPOCH 2 - PROGRESS: at 47.85% examples, 733112 words/s, in_qsize 31, out_qsize 0\n",
      "2024-04-27 23:59:46,427 : INFO : EPOCH 2 - PROGRESS: at 53.03% examples, 723074 words/s, in_qsize 31, out_qsize 0\n",
      "2024-04-27 23:59:47,436 : INFO : EPOCH 2 - PROGRESS: at 59.02% examples, 724277 words/s, in_qsize 32, out_qsize 0\n",
      "2024-04-27 23:59:48,436 : INFO : EPOCH 2 - PROGRESS: at 65.02% examples, 725805 words/s, in_qsize 31, out_qsize 0\n",
      "2024-04-27 23:59:49,444 : INFO : EPOCH 2 - PROGRESS: at 71.96% examples, 736298 words/s, in_qsize 30, out_qsize 1\n",
      "2024-04-27 23:59:50,449 : INFO : EPOCH 2 - PROGRESS: at 78.19% examples, 737375 words/s, in_qsize 32, out_qsize 1\n",
      "2024-04-27 23:59:51,457 : INFO : EPOCH 2 - PROGRESS: at 84.13% examples, 736555 words/s, in_qsize 32, out_qsize 0\n",
      "2024-04-27 23:59:52,484 : INFO : EPOCH 2 - PROGRESS: at 89.95% examples, 734018 words/s, in_qsize 31, out_qsize 0\n",
      "2024-04-27 23:59:53,509 : INFO : EPOCH 2 - PROGRESS: at 96.36% examples, 735795 words/s, in_qsize 31, out_qsize 0\n",
      "2024-04-27 23:59:54,093 : INFO : EPOCH 2: training on 17005207 raw words (12334485 effective words) took 16.7s, 736790 effective words/s\n",
      "2024-04-27 23:59:55,121 : INFO : EPOCH 3 - PROGRESS: at 6.06% examples, 725671 words/s, in_qsize 30, out_qsize 1\n",
      "2024-04-27 23:59:56,127 : INFO : EPOCH 3 - PROGRESS: at 11.88% examples, 717747 words/s, in_qsize 29, out_qsize 2\n",
      "2024-04-27 23:59:57,145 : INFO : EPOCH 3 - PROGRESS: at 18.52% examples, 745838 words/s, in_qsize 30, out_qsize 1\n",
      "2024-04-27 23:59:58,170 : INFO : EPOCH 3 - PROGRESS: at 25.28% examples, 765023 words/s, in_qsize 26, out_qsize 1\n",
      "2024-04-27 23:59:59,175 : INFO : EPOCH 3 - PROGRESS: at 31.75% examples, 772795 words/s, in_qsize 31, out_qsize 0\n",
      "2024-04-28 00:00:00,236 : INFO : EPOCH 3 - PROGRESS: at 37.80% examples, 762270 words/s, in_qsize 30, out_qsize 2\n",
      "2024-04-28 00:00:01,239 : INFO : EPOCH 3 - PROGRESS: at 45.15% examples, 782271 words/s, in_qsize 31, out_qsize 0\n",
      "2024-04-28 00:00:02,249 : INFO : EPOCH 3 - PROGRESS: at 51.62% examples, 783560 words/s, in_qsize 27, out_qsize 2\n",
      "2024-04-28 00:00:03,255 : INFO : EPOCH 3 - PROGRESS: at 57.79% examples, 781114 words/s, in_qsize 28, out_qsize 0\n",
      "2024-04-28 00:00:04,280 : INFO : EPOCH 3 - PROGRESS: at 64.08% examples, 778827 words/s, in_qsize 30, out_qsize 1\n",
      "2024-04-28 00:00:05,287 : INFO : EPOCH 3 - PROGRESS: at 70.25% examples, 777047 words/s, in_qsize 31, out_qsize 1\n",
      "2024-04-28 00:00:06,313 : INFO : EPOCH 3 - PROGRESS: at 76.95% examples, 778610 words/s, in_qsize 29, out_qsize 1\n",
      "2024-04-28 00:00:07,337 : INFO : EPOCH 3 - PROGRESS: at 83.13% examples, 775356 words/s, in_qsize 31, out_qsize 0\n",
      "2024-04-28 00:00:08,349 : INFO : EPOCH 3 - PROGRESS: at 88.95% examples, 770706 words/s, in_qsize 31, out_qsize 0\n",
      "2024-04-28 00:00:09,361 : INFO : EPOCH 3 - PROGRESS: at 94.71% examples, 766083 words/s, in_qsize 30, out_qsize 3\n",
      "2024-04-28 00:00:10,198 : INFO : EPOCH 3: training on 17005207 raw words (12335567 effective words) took 16.1s, 766429 effective words/s\n",
      "2024-04-28 00:00:11,247 : INFO : EPOCH 4 - PROGRESS: at 4.35% examples, 513256 words/s, in_qsize 24, out_qsize 1\n",
      "2024-04-28 00:00:12,267 : INFO : EPOCH 4 - PROGRESS: at 9.41% examples, 557428 words/s, in_qsize 30, out_qsize 1\n",
      "2024-04-28 00:00:13,271 : INFO : EPOCH 4 - PROGRESS: at 14.46% examples, 577180 words/s, in_qsize 31, out_qsize 1\n",
      "2024-04-28 00:00:14,275 : INFO : EPOCH 4 - PROGRESS: at 20.46% examples, 616750 words/s, in_qsize 29, out_qsize 2\n",
      "2024-04-28 00:00:15,278 : INFO : EPOCH 4 - PROGRESS: at 26.04% examples, 631513 words/s, in_qsize 29, out_qsize 1\n",
      "2024-04-28 00:00:16,288 : INFO : EPOCH 4 - PROGRESS: at 31.45% examples, 638152 words/s, in_qsize 31, out_qsize 0\n",
      "2024-04-28 00:00:17,302 : INFO : EPOCH 4 - PROGRESS: at 37.15% examples, 646765 words/s, in_qsize 30, out_qsize 1\n",
      "2024-04-28 00:00:18,307 : INFO : EPOCH 4 - PROGRESS: at 44.68% examples, 681486 words/s, in_qsize 7, out_qsize 0\n",
      "2024-04-28 00:00:19,312 : INFO : EPOCH 4 - PROGRESS: at 58.73% examples, 797505 words/s, in_qsize 0, out_qsize 0\n",
      "2024-04-28 00:00:20,316 : INFO : EPOCH 4 - PROGRESS: at 75.01% examples, 917434 words/s, in_qsize 0, out_qsize 1\n",
      "2024-04-28 00:00:21,323 : INFO : EPOCH 4 - PROGRESS: at 90.42% examples, 1004046 words/s, in_qsize 0, out_qsize 0\n",
      "2024-04-28 00:00:21,944 : INFO : EPOCH 4: training on 17005207 raw words (12335466 effective words) took 11.7s, 1050642 effective words/s\n",
      "2024-04-28 00:00:21,944 : INFO : Word2Vec lifecycle event {'msg': 'training on 85026035 raw words (61674700 effective words) took 68.8s, 896166 effective words/s', 'datetime': '2024-04-28T00:00:21.944479', 'gensim': '4.3.0', 'python': '3.11.5 | packaged by Anaconda, Inc. | (main, Sep 11 2023, 13:26:23) [MSC v.1916 64 bit (AMD64)]', 'platform': 'Windows-10-10.0.22621-SP0', 'event': 'train'}\n",
      "2024-04-28 00:00:21,944 : INFO : Word2Vec lifecycle event {'params': 'Word2Vec<vocab=47134, vector_size=150, alpha=0.025>', 'datetime': '2024-04-28T00:00:21.944479', 'gensim': '4.3.0', 'python': '3.11.5 | packaged by Anaconda, Inc. | (main, Sep 11 2023, 13:26:23) [MSC v.1916 64 bit (AMD64)]', 'platform': 'Windows-10-10.0.22621-SP0', 'event': 'created'}\n",
      "2024-04-28 00:00:21,944 : INFO : Word2Vec lifecycle event {'fname_or_handle': 'word2vec_gensim', 'separately': 'None', 'sep_limit': 10485760, 'ignore': frozenset(), 'datetime': '2024-04-28T00:00:21.944479', 'gensim': '4.3.0', 'python': '3.11.5 | packaged by Anaconda, Inc. | (main, Sep 11 2023, 13:26:23) [MSC v.1916 64 bit (AMD64)]', 'platform': 'Windows-10-10.0.22621-SP0', 'event': 'saving'}\n",
      "2024-04-28 00:00:21,944 : INFO : not storing attribute cum_table\n",
      "2024-04-28 00:00:22,005 : INFO : saved word2vec_gensim\n",
      "2024-04-28 00:00:22,035 : INFO : storing vocabulary in vocabulary\n",
      "2024-04-28 00:00:22,077 : INFO : storing 47134x150 projection weights into word2vec_org\n"
     ]
    },
    {
     "name": "stdout",
     "output_type": "stream",
     "text": [
      "\n"
     ]
    }
   ],
   "source": [
    "# vector_size=150\n",
    "!python word2vec.py"
   ]
  },
  {
   "cell_type": "code",
   "execution_count": 7,
   "metadata": {},
   "outputs": [
    {
     "name": "stdout",
     "output_type": "stream",
     "text": [
      "{\"score\": 0.6924479511296131, \"errorMsg\": \"success\", \"code\": 0, \"data\": [{\"score\": 0.6924479511296131}]}\n"
     ]
    }
   ],
   "source": [
    "!python evaluation.py score.npy"
   ]
  },
  {
   "cell_type": "code",
   "execution_count": 8,
   "metadata": {},
   "outputs": [
    {
     "name": "stdout",
     "output_type": "stream",
     "text": [
      "Total time: 96 s"
     ]
    },
    {
     "name": "stderr",
     "output_type": "stream",
     "text": [
      "2024-04-28 00:04:06,194 : INFO : collecting all words and their counts\n",
      "2024-04-28 00:04:06,194 : INFO : PROGRESS: at sentence #0, processed 0 words, keeping 0 word types\n",
      "2024-04-28 00:04:09,865 : INFO : collected 253854 word types from a corpus of 17005207 raw words and 1701 sentences\n",
      "2024-04-28 00:04:09,865 : INFO : Creating a fresh vocabulary\n",
      "2024-04-28 00:04:10,037 : INFO : Word2Vec lifecycle event {'msg': 'effective_min_count=10 retains 47134 unique words (18.57% of original 253854, drops 206720)', 'datetime': '2024-04-28T00:04:10.010276', 'gensim': '4.3.0', 'python': '3.11.5 | packaged by Anaconda, Inc. | (main, Sep 11 2023, 13:26:23) [MSC v.1916 64 bit (AMD64)]', 'platform': 'Windows-10-10.0.22621-SP0', 'event': 'prepare_vocab'}\n",
      "2024-04-28 00:04:10,037 : INFO : Word2Vec lifecycle event {'msg': 'effective_min_count=10 leaves 16561031 word corpus (97.39% of original 17005207, drops 444176)', 'datetime': '2024-04-28T00:04:10.037744', 'gensim': '4.3.0', 'python': '3.11.5 | packaged by Anaconda, Inc. | (main, Sep 11 2023, 13:26:23) [MSC v.1916 64 bit (AMD64)]', 'platform': 'Windows-10-10.0.22621-SP0', 'event': 'prepare_vocab'}\n",
      "2024-04-28 00:04:10,215 : INFO : deleting the raw counts dictionary of 253854 items\n",
      "2024-04-28 00:04:10,222 : INFO : sample=0.001 downsamples 38 most-common words\n",
      "2024-04-28 00:04:10,224 : INFO : Word2Vec lifecycle event {'msg': 'downsampling leaves estimated 12333563.370024087 word corpus (74.5%% of prior 16561031)', 'datetime': '2024-04-28T00:04:10.224228', 'gensim': '4.3.0', 'python': '3.11.5 | packaged by Anaconda, Inc. | (main, Sep 11 2023, 13:26:23) [MSC v.1916 64 bit (AMD64)]', 'platform': 'Windows-10-10.0.22621-SP0', 'event': 'prepare_vocab'}\n",
      "2024-04-28 00:04:10,449 : INFO : estimated required memory for 47134 words and 200 dimensions: 98981400 bytes\n",
      "2024-04-28 00:04:10,449 : INFO : resetting layer weights\n",
      "2024-04-28 00:04:10,489 : INFO : Word2Vec lifecycle event {'update': False, 'trim_rule': 'None', 'datetime': '2024-04-28T00:04:10.489216', 'gensim': '4.3.0', 'python': '3.11.5 | packaged by Anaconda, Inc. | (main, Sep 11 2023, 13:26:23) [MSC v.1916 64 bit (AMD64)]', 'platform': 'Windows-10-10.0.22621-SP0', 'event': 'build_vocab'}\n",
      "2024-04-28 00:04:10,489 : INFO : Word2Vec lifecycle event {'msg': 'training model with 16 workers on 47134 vocabulary and 200 features, using sg=0 hs=0 sample=0.001 negative=5 window=10 shrink_windows=True', 'datetime': '2024-04-28T00:04:10.489216', 'gensim': '4.3.0', 'python': '3.11.5 | packaged by Anaconda, Inc. | (main, Sep 11 2023, 13:26:23) [MSC v.1916 64 bit (AMD64)]', 'platform': 'Windows-10-10.0.22621-SP0', 'event': 'train'}\n",
      "2024-04-28 00:04:11,496 : INFO : EPOCH 0 - PROGRESS: at 13.05% examples, 1594882 words/s, in_qsize 0, out_qsize 0\n",
      "2024-04-28 00:04:12,501 : INFO : EPOCH 0 - PROGRESS: at 25.69% examples, 1576612 words/s, in_qsize 0, out_qsize 0\n",
      "2024-04-28 00:04:13,505 : INFO : EPOCH 0 - PROGRESS: at 40.04% examples, 1643574 words/s, in_qsize 0, out_qsize 1\n",
      "2024-04-28 00:04:14,507 : INFO : EPOCH 0 - PROGRESS: at 54.26% examples, 1673007 words/s, in_qsize 0, out_qsize 0\n",
      "2024-04-28 00:04:15,508 : INFO : EPOCH 0 - PROGRESS: at 65.73% examples, 1621395 words/s, in_qsize 0, out_qsize 0\n",
      "2024-04-28 00:04:16,515 : INFO : EPOCH 0 - PROGRESS: at 78.42% examples, 1608635 words/s, in_qsize 0, out_qsize 1\n",
      "2024-04-28 00:04:17,518 : INFO : EPOCH 0 - PROGRESS: at 91.30% examples, 1604439 words/s, in_qsize 0, out_qsize 0\n",
      "2024-04-28 00:04:18,194 : INFO : EPOCH 0: training on 17005207 raw words (12333711 effective words) took 7.7s, 1602016 effective words/s\n",
      "2024-04-28 00:04:19,197 : INFO : EPOCH 1 - PROGRESS: at 12.46% examples, 1524539 words/s, in_qsize 0, out_qsize 0\n",
      "2024-04-28 00:04:20,198 : INFO : EPOCH 1 - PROGRESS: at 25.22% examples, 1549521 words/s, in_qsize 0, out_qsize 0\n",
      "2024-04-28 00:04:21,201 : INFO : EPOCH 1 - PROGRESS: at 37.51% examples, 1542591 words/s, in_qsize 0, out_qsize 0\n",
      "2024-04-28 00:04:22,202 : INFO : EPOCH 1 - PROGRESS: at 50.15% examples, 1548197 words/s, in_qsize 0, out_qsize 0\n",
      "2024-04-28 00:04:23,210 : INFO : EPOCH 1 - PROGRESS: at 62.79% examples, 1548842 words/s, in_qsize 0, out_qsize 1\n",
      "2024-04-28 00:04:24,212 : INFO : EPOCH 1 - PROGRESS: at 74.43% examples, 1530693 words/s, in_qsize 0, out_qsize 0\n",
      "2024-04-28 00:04:25,226 : INFO : EPOCH 1 - PROGRESS: at 83.42% examples, 1464872 words/s, in_qsize 0, out_qsize 0\n",
      "2024-04-28 00:04:26,229 : INFO : EPOCH 1 - PROGRESS: at 93.77% examples, 1440382 words/s, in_qsize 0, out_qsize 0\n",
      "2024-04-28 00:04:26,954 : INFO : EPOCH 1: training on 17005207 raw words (12333559 effective words) took 8.8s, 1408400 effective words/s\n",
      "2024-04-28 00:04:27,960 : INFO : EPOCH 2 - PROGRESS: at 10.11% examples, 1234886 words/s, in_qsize 0, out_qsize 0\n",
      "2024-04-28 00:04:28,963 : INFO : EPOCH 2 - PROGRESS: at 21.28% examples, 1303323 words/s, in_qsize 0, out_qsize 0\n",
      "2024-04-28 00:04:29,964 : INFO : EPOCH 2 - PROGRESS: at 32.39% examples, 1330795 words/s, in_qsize 0, out_qsize 0\n",
      "2024-04-28 00:04:30,970 : INFO : EPOCH 2 - PROGRESS: at 43.03% examples, 1326601 words/s, in_qsize 0, out_qsize 0\n",
      "2024-04-28 00:04:31,970 : INFO : EPOCH 2 - PROGRESS: at 53.26% examples, 1314133 words/s, in_qsize 0, out_qsize 0\n",
      "2024-04-28 00:04:32,971 : INFO : EPOCH 2 - PROGRESS: at 62.26% examples, 1280728 words/s, in_qsize 0, out_qsize 0\n",
      "2024-04-28 00:04:33,976 : INFO : EPOCH 2 - PROGRESS: at 70.08% examples, 1235097 words/s, in_qsize 0, out_qsize 0\n",
      "2024-04-28 00:04:35,002 : INFO : EPOCH 2 - PROGRESS: at 75.13% examples, 1154938 words/s, in_qsize 31, out_qsize 1\n",
      "2024-04-28 00:04:36,018 : INFO : EPOCH 2 - PROGRESS: at 78.95% examples, 1076018 words/s, in_qsize 31, out_qsize 0\n",
      "2024-04-28 00:04:37,058 : INFO : EPOCH 2 - PROGRESS: at 83.25% examples, 1017294 words/s, in_qsize 29, out_qsize 0\n",
      "2024-04-28 00:04:38,076 : INFO : EPOCH 2 - PROGRESS: at 86.42% examples, 959405 words/s, in_qsize 31, out_qsize 0\n",
      "2024-04-28 00:04:39,092 : INFO : EPOCH 2 - PROGRESS: at 90.53% examples, 921192 words/s, in_qsize 18, out_qsize 2\n",
      "2024-04-28 00:04:40,095 : INFO : EPOCH 2 - PROGRESS: at 94.06% examples, 883517 words/s, in_qsize 31, out_qsize 0\n",
      "2024-04-28 00:04:41,129 : INFO : EPOCH 2 - PROGRESS: at 98.00% examples, 853037 words/s, in_qsize 31, out_qsize 0\n",
      "2024-04-28 00:04:41,515 : INFO : EPOCH 2: training on 17005207 raw words (12333978 effective words) took 14.6s, 847312 effective words/s\n",
      "2024-04-28 00:04:42,531 : INFO : EPOCH 3 - PROGRESS: at 3.29% examples, 404051 words/s, in_qsize 26, out_qsize 0\n",
      "2024-04-28 00:04:43,546 : INFO : EPOCH 3 - PROGRESS: at 7.17% examples, 433188 words/s, in_qsize 31, out_qsize 0\n",
      "2024-04-28 00:04:44,604 : INFO : EPOCH 3 - PROGRESS: at 11.05% examples, 438093 words/s, in_qsize 31, out_qsize 1\n",
      "2024-04-28 00:04:45,672 : INFO : EPOCH 3 - PROGRESS: at 15.23% examples, 449358 words/s, in_qsize 24, out_qsize 2\n",
      "2024-04-28 00:04:46,672 : INFO : EPOCH 3 - PROGRESS: at 19.40% examples, 462125 words/s, in_qsize 22, out_qsize 1\n",
      "2024-04-28 00:04:47,704 : INFO : EPOCH 3 - PROGRESS: at 22.69% examples, 450922 words/s, in_qsize 28, out_qsize 4\n",
      "2024-04-28 00:04:48,766 : INFO : EPOCH 3 - PROGRESS: at 26.69% examples, 453631 words/s, in_qsize 31, out_qsize 0\n",
      "2024-04-28 00:04:49,792 : INFO : EPOCH 3 - PROGRESS: at 30.75% examples, 458803 words/s, in_qsize 32, out_qsize 0\n",
      "2024-04-28 00:04:50,896 : INFO : EPOCH 3 - PROGRESS: at 34.10% examples, 449331 words/s, in_qsize 27, out_qsize 5\n",
      "2024-04-28 00:04:51,899 : INFO : EPOCH 3 - PROGRESS: at 38.21% examples, 455069 words/s, in_qsize 28, out_qsize 0\n",
      "2024-04-28 00:04:52,914 : INFO : EPOCH 3 - PROGRESS: at 41.74% examples, 452827 words/s, in_qsize 27, out_qsize 5\n",
      "2024-04-28 00:04:53,923 : INFO : EPOCH 3 - PROGRESS: at 46.03% examples, 458919 words/s, in_qsize 19, out_qsize 0\n",
      "2024-04-28 00:04:54,964 : INFO : EPOCH 3 - PROGRESS: at 49.97% examples, 459673 words/s, in_qsize 23, out_qsize 2\n",
      "2024-04-28 00:04:55,990 : INFO : EPOCH 3 - PROGRESS: at 53.67% examples, 458761 words/s, in_qsize 30, out_qsize 2\n",
      "2024-04-28 00:04:57,005 : INFO : EPOCH 3 - PROGRESS: at 57.91% examples, 462568 words/s, in_qsize 28, out_qsize 3\n",
      "2024-04-28 00:04:58,010 : INFO : EPOCH 3 - PROGRESS: at 61.96% examples, 464801 words/s, in_qsize 32, out_qsize 1\n",
      "2024-04-28 00:04:59,108 : INFO : EPOCH 3 - PROGRESS: at 66.20% examples, 465540 words/s, in_qsize 32, out_qsize 0\n",
      "2024-04-28 00:05:00,163 : INFO : EPOCH 3 - PROGRESS: at 70.25% examples, 466114 words/s, in_qsize 31, out_qsize 0\n",
      "2024-04-28 00:05:01,203 : INFO : EPOCH 3 - PROGRESS: at 74.43% examples, 467845 words/s, in_qsize 31, out_qsize 1\n",
      "2024-04-28 00:05:02,226 : INFO : EPOCH 3 - PROGRESS: at 78.54% examples, 468388 words/s, in_qsize 32, out_qsize 0\n",
      "2024-04-28 00:05:03,236 : INFO : EPOCH 3 - PROGRESS: at 82.89% examples, 471129 words/s, in_qsize 30, out_qsize 1\n",
      "2024-04-28 00:05:04,238 : INFO : EPOCH 3 - PROGRESS: at 86.71% examples, 471082 words/s, in_qsize 30, out_qsize 1\n",
      "2024-04-28 00:05:05,286 : INFO : EPOCH 3 - PROGRESS: at 89.89% examples, 466903 words/s, in_qsize 30, out_qsize 1\n",
      "2024-04-28 00:05:06,349 : INFO : EPOCH 3 - PROGRESS: at 94.00% examples, 467143 words/s, in_qsize 31, out_qsize 0\n",
      "2024-04-28 00:05:07,373 : INFO : EPOCH 3 - PROGRESS: at 97.71% examples, 466199 words/s, in_qsize 30, out_qsize 1\n",
      "2024-04-28 00:05:07,936 : INFO : EPOCH 3: training on 17005207 raw words (12332726 effective words) took 26.4s, 466905 effective words/s\n",
      "2024-04-28 00:05:09,006 : INFO : EPOCH 4 - PROGRESS: at 2.59% examples, 309152 words/s, in_qsize 31, out_qsize 0\n",
      "2024-04-28 00:05:10,014 : INFO : EPOCH 4 - PROGRESS: at 6.64% examples, 396925 words/s, in_qsize 31, out_qsize 0\n",
      "2024-04-28 00:05:11,043 : INFO : EPOCH 4 - PROGRESS: at 10.52% examples, 418489 words/s, in_qsize 30, out_qsize 2\n",
      "2024-04-28 00:05:12,056 : INFO : EPOCH 4 - PROGRESS: at 14.34% examples, 429759 words/s, in_qsize 32, out_qsize 0\n",
      "2024-04-28 00:05:13,058 : INFO : EPOCH 4 - PROGRESS: at 17.75% examples, 427739 words/s, in_qsize 31, out_qsize 0\n",
      "2024-04-28 00:05:14,073 : INFO : EPOCH 4 - PROGRESS: at 21.63% examples, 435102 words/s, in_qsize 28, out_qsize 4\n",
      "2024-04-28 00:05:15,077 : INFO : EPOCH 4 - PROGRESS: at 25.87% examples, 447858 words/s, in_qsize 32, out_qsize 0\n",
      "2024-04-28 00:05:16,090 : INFO : EPOCH 4 - PROGRESS: at 29.81% examples, 452680 words/s, in_qsize 30, out_qsize 0\n",
      "2024-04-28 00:05:17,100 : INFO : EPOCH 4 - PROGRESS: at 33.27% examples, 449934 words/s, in_qsize 31, out_qsize 0\n",
      "2024-04-28 00:05:18,103 : INFO : EPOCH 4 - PROGRESS: at 37.39% examples, 455952 words/s, in_qsize 30, out_qsize 0\n",
      "2024-04-28 00:05:19,115 : INFO : EPOCH 4 - PROGRESS: at 40.45% examples, 448458 words/s, in_qsize 30, out_qsize 2\n",
      "2024-04-28 00:05:20,184 : INFO : EPOCH 4 - PROGRESS: at 44.09% examples, 446140 words/s, in_qsize 17, out_qsize 1\n",
      "2024-04-28 00:05:21,223 : INFO : EPOCH 4 - PROGRESS: at 47.91% examples, 446918 words/s, in_qsize 31, out_qsize 0\n",
      "2024-04-28 00:05:22,228 : INFO : EPOCH 4 - PROGRESS: at 51.68% examples, 448046 words/s, in_qsize 31, out_qsize 0\n",
      "2024-04-28 00:05:23,241 : INFO : EPOCH 4 - PROGRESS: at 55.61% examples, 450382 words/s, in_qsize 31, out_qsize 0\n",
      "2024-04-28 00:05:24,277 : INFO : EPOCH 4 - PROGRESS: at 59.26% examples, 449378 words/s, in_qsize 30, out_qsize 1\n",
      "2024-04-28 00:05:25,321 : INFO : EPOCH 4 - PROGRESS: at 62.90% examples, 448332 words/s, in_qsize 31, out_qsize 0\n",
      "2024-04-28 00:05:26,331 : INFO : EPOCH 4 - PROGRESS: at 66.73% examples, 449336 words/s, in_qsize 25, out_qsize 2\n",
      "2024-04-28 00:05:27,350 : INFO : EPOCH 4 - PROGRESS: at 70.19% examples, 447901 words/s, in_qsize 23, out_qsize 6\n",
      "2024-04-28 00:05:28,363 : INFO : EPOCH 4 - PROGRESS: at 74.96% examples, 454492 words/s, in_qsize 29, out_qsize 2\n",
      "2024-04-28 00:05:29,367 : INFO : EPOCH 4 - PROGRESS: at 79.01% examples, 455860 words/s, in_qsize 26, out_qsize 6\n",
      "2024-04-28 00:05:30,416 : INFO : EPOCH 4 - PROGRESS: at 83.60% examples, 459654 words/s, in_qsize 31, out_qsize 1\n",
      "2024-04-28 00:05:31,417 : INFO : EPOCH 4 - PROGRESS: at 88.54% examples, 465971 words/s, in_qsize 25, out_qsize 0\n",
      "2024-04-28 00:05:32,460 : INFO : EPOCH 4 - PROGRESS: at 92.12% examples, 464092 words/s, in_qsize 32, out_qsize 0\n",
      "2024-04-28 00:05:33,520 : INFO : EPOCH 4 - PROGRESS: at 95.47% examples, 460999 words/s, in_qsize 31, out_qsize 0\n",
      "2024-04-28 00:05:34,357 : INFO : EPOCH 4: training on 17005207 raw words (12332180 effective words) took 26.4s, 467295 effective words/s\n",
      "2024-04-28 00:05:34,357 : INFO : Word2Vec lifecycle event {'msg': 'training on 85026035 raw words (61666154 effective words) took 83.9s, 735272 effective words/s', 'datetime': '2024-04-28T00:05:34.357696', 'gensim': '4.3.0', 'python': '3.11.5 | packaged by Anaconda, Inc. | (main, Sep 11 2023, 13:26:23) [MSC v.1916 64 bit (AMD64)]', 'platform': 'Windows-10-10.0.22621-SP0', 'event': 'train'}\n",
      "2024-04-28 00:05:34,357 : INFO : Word2Vec lifecycle event {'params': 'Word2Vec<vocab=47134, vector_size=200, alpha=0.025>', 'datetime': '2024-04-28T00:05:34.357696', 'gensim': '4.3.0', 'python': '3.11.5 | packaged by Anaconda, Inc. | (main, Sep 11 2023, 13:26:23) [MSC v.1916 64 bit (AMD64)]', 'platform': 'Windows-10-10.0.22621-SP0', 'event': 'created'}\n",
      "2024-04-28 00:05:34,359 : INFO : Word2Vec lifecycle event {'fname_or_handle': 'word2vec_gensim', 'separately': 'None', 'sep_limit': 10485760, 'ignore': frozenset(), 'datetime': '2024-04-28T00:05:34.357696', 'gensim': '4.3.0', 'python': '3.11.5 | packaged by Anaconda, Inc. | (main, Sep 11 2023, 13:26:23) [MSC v.1916 64 bit (AMD64)]', 'platform': 'Windows-10-10.0.22621-SP0', 'event': 'saving'}\n",
      "2024-04-28 00:05:34,359 : INFO : not storing attribute cum_table\n",
      "2024-04-28 00:05:34,506 : INFO : saved word2vec_gensim\n",
      "2024-04-28 00:05:34,556 : INFO : storing vocabulary in vocabulary\n",
      "2024-04-28 00:05:34,673 : INFO : storing 47134x200 projection weights into word2vec_org\n"
     ]
    },
    {
     "name": "stdout",
     "output_type": "stream",
     "text": [
      "\n"
     ]
    }
   ],
   "source": [
    "# vector_size=200\n",
    "!python word2vec.py"
   ]
  },
  {
   "cell_type": "code",
   "execution_count": 9,
   "metadata": {},
   "outputs": [
    {
     "name": "stdout",
     "output_type": "stream",
     "text": [
      "{\"score\": 0.6951971378884105, \"errorMsg\": \"success\", \"code\": 0, \"data\": [{\"score\": 0.6951971378884105}]}\n"
     ]
    }
   ],
   "source": [
    "!python evaluation.py score.npy"
   ]
  },
  {
   "cell_type": "code",
   "execution_count": 10,
   "metadata": {},
   "outputs": [
    {
     "name": "stdout",
     "output_type": "stream",
     "text": [
      "Total time: 98 s\n"
     ]
    },
    {
     "name": "stderr",
     "output_type": "stream",
     "text": [
      "2024-04-28 00:07:13,527 : INFO : collecting all words and their counts\n",
      "2024-04-28 00:07:13,527 : INFO : PROGRESS: at sentence #0, processed 0 words, keeping 0 word types\n",
      "2024-04-28 00:07:18,193 : INFO : collected 253854 word types from a corpus of 17005207 raw words and 1701 sentences\n",
      "2024-04-28 00:07:18,193 : INFO : Creating a fresh vocabulary\n",
      "2024-04-28 00:07:18,370 : INFO : Word2Vec lifecycle event {'msg': 'effective_min_count=10 retains 47134 unique words (18.57% of original 253854, drops 206720)', 'datetime': '2024-04-28T00:07:18.350073', 'gensim': '4.3.0', 'python': '3.11.5 | packaged by Anaconda, Inc. | (main, Sep 11 2023, 13:26:23) [MSC v.1916 64 bit (AMD64)]', 'platform': 'Windows-10-10.0.22621-SP0', 'event': 'prepare_vocab'}\n",
      "2024-04-28 00:07:18,370 : INFO : Word2Vec lifecycle event {'msg': 'effective_min_count=10 leaves 16561031 word corpus (97.39% of original 17005207, drops 444176)', 'datetime': '2024-04-28T00:07:18.370081', 'gensim': '4.3.0', 'python': '3.11.5 | packaged by Anaconda, Inc. | (main, Sep 11 2023, 13:26:23) [MSC v.1916 64 bit (AMD64)]', 'platform': 'Windows-10-10.0.22621-SP0', 'event': 'prepare_vocab'}\n",
      "2024-04-28 00:07:18,513 : INFO : deleting the raw counts dictionary of 253854 items\n",
      "2024-04-28 00:07:18,515 : INFO : sample=0.001 downsamples 38 most-common words\n",
      "2024-04-28 00:07:18,515 : INFO : Word2Vec lifecycle event {'msg': 'downsampling leaves estimated 12333563.370024087 word corpus (74.5%% of prior 16561031)', 'datetime': '2024-04-28T00:07:18.515036', 'gensim': '4.3.0', 'python': '3.11.5 | packaged by Anaconda, Inc. | (main, Sep 11 2023, 13:26:23) [MSC v.1916 64 bit (AMD64)]', 'platform': 'Windows-10-10.0.22621-SP0', 'event': 'prepare_vocab'}\n",
      "2024-04-28 00:07:18,715 : INFO : estimated required memory for 47134 words and 250 dimensions: 117835000 bytes\n",
      "2024-04-28 00:07:18,715 : INFO : resetting layer weights\n",
      "2024-04-28 00:07:18,750 : INFO : Word2Vec lifecycle event {'update': False, 'trim_rule': 'None', 'datetime': '2024-04-28T00:07:18.750045', 'gensim': '4.3.0', 'python': '3.11.5 | packaged by Anaconda, Inc. | (main, Sep 11 2023, 13:26:23) [MSC v.1916 64 bit (AMD64)]', 'platform': 'Windows-10-10.0.22621-SP0', 'event': 'build_vocab'}\n",
      "2024-04-28 00:07:18,750 : INFO : Word2Vec lifecycle event {'msg': 'training model with 16 workers on 47134 vocabulary and 250 features, using sg=0 hs=0 sample=0.001 negative=5 window=10 shrink_windows=True', 'datetime': '2024-04-28T00:07:18.750045', 'gensim': '4.3.0', 'python': '3.11.5 | packaged by Anaconda, Inc. | (main, Sep 11 2023, 13:26:23) [MSC v.1916 64 bit (AMD64)]', 'platform': 'Windows-10-10.0.22621-SP0', 'event': 'train'}\n",
      "2024-04-28 00:07:19,755 : INFO : EPOCH 0 - PROGRESS: at 11.23% examples, 1367580 words/s, in_qsize 0, out_qsize 0\n",
      "2024-04-28 00:07:20,761 : INFO : EPOCH 0 - PROGRESS: at 23.40% examples, 1435692 words/s, in_qsize 0, out_qsize 0\n",
      "2024-04-28 00:07:21,767 : INFO : EPOCH 0 - PROGRESS: at 35.68% examples, 1465252 words/s, in_qsize 0, out_qsize 0\n",
      "2024-04-28 00:07:22,770 : INFO : EPOCH 0 - PROGRESS: at 48.62% examples, 1498103 words/s, in_qsize 0, out_qsize 1\n",
      "2024-04-28 00:07:23,775 : INFO : EPOCH 0 - PROGRESS: at 57.67% examples, 1421064 words/s, in_qsize 0, out_qsize 0\n",
      "2024-04-28 00:07:24,784 : INFO : EPOCH 0 - PROGRESS: at 65.73% examples, 1348827 words/s, in_qsize 0, out_qsize 0\n",
      "2024-04-28 00:07:25,779 : INFO : EPOCH 0 - PROGRESS: at 76.37% examples, 1342811 words/s, in_qsize 0, out_qsize 0\n",
      "2024-04-28 00:07:26,781 : INFO : EPOCH 0 - PROGRESS: at 88.54% examples, 1360951 words/s, in_qsize 0, out_qsize 0\n",
      "2024-04-28 00:07:27,791 : INFO : EPOCH 0 - PROGRESS: at 99.65% examples, 1360334 words/s, in_qsize 6, out_qsize 10\n",
      "2024-04-28 00:07:27,815 : INFO : EPOCH 0: training on 17005207 raw words (12334957 effective words) took 9.1s, 1361659 effective words/s\n",
      "2024-04-28 00:07:28,824 : INFO : EPOCH 1 - PROGRESS: at 6.88% examples, 836290 words/s, in_qsize 0, out_qsize 0\n",
      "2024-04-28 00:07:29,830 : INFO : EPOCH 1 - PROGRESS: at 17.58% examples, 1072475 words/s, in_qsize 0, out_qsize 0\n",
      "2024-04-28 00:07:30,840 : INFO : EPOCH 1 - PROGRESS: at 27.51% examples, 1120787 words/s, in_qsize 0, out_qsize 2\n",
      "2024-04-28 00:07:31,851 : INFO : EPOCH 1 - PROGRESS: at 36.45% examples, 1117668 words/s, in_qsize 0, out_qsize 1\n",
      "2024-04-28 00:07:32,851 : INFO : EPOCH 1 - PROGRESS: at 47.44% examples, 1165487 words/s, in_qsize 0, out_qsize 0\n",
      "2024-04-28 00:07:33,856 : INFO : EPOCH 1 - PROGRESS: at 57.85% examples, 1184766 words/s, in_qsize 0, out_qsize 0\n",
      "2024-04-28 00:07:34,858 : INFO : EPOCH 1 - PROGRESS: at 67.67% examples, 1188839 words/s, in_qsize 0, out_qsize 0\n",
      "2024-04-28 00:07:35,862 : INFO : EPOCH 1 - PROGRESS: at 79.07% examples, 1213414 words/s, in_qsize 0, out_qsize 0\n",
      "2024-04-28 00:07:36,870 : INFO : EPOCH 1 - PROGRESS: at 89.01% examples, 1213771 words/s, in_qsize 0, out_qsize 1\n",
      "2024-04-28 00:07:37,874 : INFO : EPOCH 1 - PROGRESS: at 98.65% examples, 1210174 words/s, in_qsize 0, out_qsize 0\n",
      "2024-04-28 00:07:37,988 : INFO : EPOCH 1: training on 17005207 raw words (12334096 effective words) took 10.2s, 1212838 effective words/s\n",
      "2024-04-28 00:07:38,999 : INFO : EPOCH 2 - PROGRESS: at 6.58% examples, 800220 words/s, in_qsize 0, out_qsize 0\n",
      "2024-04-28 00:07:40,015 : INFO : EPOCH 2 - PROGRESS: at 13.64% examples, 826392 words/s, in_qsize 0, out_qsize 0\n",
      "2024-04-28 00:07:41,015 : INFO : EPOCH 2 - PROGRESS: at 21.46% examples, 871356 words/s, in_qsize 0, out_qsize 0\n",
      "2024-04-28 00:07:42,031 : INFO : EPOCH 2 - PROGRESS: at 30.75% examples, 939581 words/s, in_qsize 0, out_qsize 1\n",
      "2024-04-28 00:07:43,036 : INFO : EPOCH 2 - PROGRESS: at 40.51% examples, 992660 words/s, in_qsize 0, out_qsize 0\n",
      "2024-04-28 00:07:44,039 : INFO : EPOCH 2 - PROGRESS: at 50.15% examples, 1025375 words/s, in_qsize 0, out_qsize 0\n",
      "2024-04-28 00:07:45,041 : INFO : EPOCH 2 - PROGRESS: at 59.91% examples, 1051352 words/s, in_qsize 0, out_qsize 0\n",
      "2024-04-28 00:07:46,045 : INFO : EPOCH 2 - PROGRESS: at 69.84% examples, 1072947 words/s, in_qsize 0, out_qsize 0\n",
      "2024-04-28 00:07:47,051 : INFO : EPOCH 2 - PROGRESS: at 79.19% examples, 1079524 words/s, in_qsize 0, out_qsize 0\n",
      "2024-04-28 00:07:48,049 : INFO : EPOCH 2 - PROGRESS: at 88.89% examples, 1090927 words/s, in_qsize 0, out_qsize 0\n",
      "2024-04-28 00:07:49,054 : INFO : EPOCH 2 - PROGRESS: at 92.42% examples, 1031178 words/s, in_qsize 32, out_qsize 0\n",
      "2024-04-28 00:07:50,080 : INFO : EPOCH 2 - PROGRESS: at 96.12% examples, 981342 words/s, in_qsize 25, out_qsize 0\n",
      "2024-04-28 00:07:51,039 : INFO : EPOCH 2: training on 17005207 raw words (12334933 effective words) took 13.0s, 945529 effective words/s\n",
      "2024-04-28 00:07:52,076 : INFO : EPOCH 3 - PROGRESS: at 2.47% examples, 296498 words/s, in_qsize 32, out_qsize 0\n",
      "2024-04-28 00:07:53,094 : INFO : EPOCH 3 - PROGRESS: at 6.17% examples, 368567 words/s, in_qsize 31, out_qsize 0\n",
      "2024-04-28 00:07:54,123 : INFO : EPOCH 3 - PROGRESS: at 9.17% examples, 364121 words/s, in_qsize 32, out_qsize 0\n",
      "2024-04-28 00:07:55,146 : INFO : EPOCH 3 - PROGRESS: at 12.40% examples, 369851 words/s, in_qsize 27, out_qsize 2\n",
      "2024-04-28 00:07:56,212 : INFO : EPOCH 3 - PROGRESS: at 15.64% examples, 370490 words/s, in_qsize 32, out_qsize 0\n",
      "2024-04-28 00:07:57,224 : INFO : EPOCH 3 - PROGRESS: at 19.11% examples, 379166 words/s, in_qsize 32, out_qsize 0\n",
      "2024-04-28 00:07:58,239 : INFO : EPOCH 3 - PROGRESS: at 21.93% examples, 373938 words/s, in_qsize 31, out_qsize 0\n",
      "2024-04-28 00:07:59,260 : INFO : EPOCH 3 - PROGRESS: at 24.63% examples, 368540 words/s, in_qsize 27, out_qsize 5\n",
      "2024-04-28 00:08:00,336 : INFO : EPOCH 3 - PROGRESS: at 28.16% examples, 373433 words/s, in_qsize 32, out_qsize 1\n",
      "2024-04-28 00:08:01,348 : INFO : EPOCH 3 - PROGRESS: at 30.86% examples, 369475 words/s, in_qsize 32, out_qsize 0\n",
      "2024-04-28 00:08:02,387 : INFO : EPOCH 3 - PROGRESS: at 34.16% examples, 371895 words/s, in_qsize 30, out_qsize 2\n",
      "2024-04-28 00:08:03,444 : INFO : EPOCH 3 - PROGRESS: at 37.04% examples, 369121 words/s, in_qsize 25, out_qsize 6\n",
      "2024-04-28 00:08:04,487 : INFO : EPOCH 3 - PROGRESS: at 40.45% examples, 371740 words/s, in_qsize 32, out_qsize 1\n",
      "2024-04-28 00:08:05,499 : INFO : EPOCH 3 - PROGRESS: at 44.21% examples, 377927 words/s, in_qsize 31, out_qsize 1\n",
      "2024-04-28 00:08:06,499 : INFO : EPOCH 3 - PROGRESS: at 47.21% examples, 377564 words/s, in_qsize 32, out_qsize 0\n",
      "2024-04-28 00:08:07,502 : INFO : EPOCH 3 - PROGRESS: at 51.09% examples, 383664 words/s, in_qsize 29, out_qsize 0\n",
      "2024-04-28 00:08:08,505 : INFO : EPOCH 3 - PROGRESS: at 54.38% examples, 385090 words/s, in_qsize 30, out_qsize 0\n",
      "2024-04-28 00:08:09,569 : INFO : EPOCH 3 - PROGRESS: at 58.14% examples, 388104 words/s, in_qsize 30, out_qsize 0\n",
      "2024-04-28 00:08:10,713 : INFO : EPOCH 3 - PROGRESS: at 61.73% examples, 388145 words/s, in_qsize 30, out_qsize 2\n",
      "2024-04-28 00:08:11,796 : INFO : EPOCH 3 - PROGRESS: at 65.96% examples, 392996 words/s, in_qsize 30, out_qsize 2\n",
      "2024-04-28 00:08:12,806 : INFO : EPOCH 3 - PROGRESS: at 71.08% examples, 403984 words/s, in_qsize 30, out_qsize 1\n",
      "2024-04-28 00:08:13,824 : INFO : EPOCH 3 - PROGRESS: at 75.84% examples, 411372 words/s, in_qsize 32, out_qsize 0\n",
      "2024-04-28 00:08:14,886 : INFO : EPOCH 3 - PROGRESS: at 81.01% examples, 419431 words/s, in_qsize 27, out_qsize 5\n",
      "2024-04-28 00:08:15,930 : INFO : EPOCH 3 - PROGRESS: at 86.18% examples, 427329 words/s, in_qsize 31, out_qsize 0\n",
      "2024-04-28 00:08:16,956 : INFO : EPOCH 3 - PROGRESS: at 90.83% examples, 432643 words/s, in_qsize 18, out_qsize 2\n",
      "2024-04-28 00:08:17,986 : INFO : EPOCH 3 - PROGRESS: at 95.18% examples, 435789 words/s, in_qsize 27, out_qsize 4\n",
      "2024-04-28 00:08:18,924 : INFO : EPOCH 3: training on 17005207 raw words (12332062 effective words) took 27.9s, 442310 effective words/s\n",
      "2024-04-28 00:08:19,937 : INFO : EPOCH 4 - PROGRESS: at 3.76% examples, 463530 words/s, in_qsize 32, out_qsize 0\n",
      "2024-04-28 00:08:20,957 : INFO : EPOCH 4 - PROGRESS: at 8.76% examples, 527750 words/s, in_qsize 29, out_qsize 0\n",
      "2024-04-28 00:08:21,990 : INFO : EPOCH 4 - PROGRESS: at 13.58% examples, 543673 words/s, in_qsize 31, out_qsize 0\n",
      "2024-04-28 00:08:23,048 : INFO : EPOCH 4 - PROGRESS: at 18.64% examples, 555394 words/s, in_qsize 31, out_qsize 0\n",
      "2024-04-28 00:08:24,061 : INFO : EPOCH 4 - PROGRESS: at 22.75% examples, 544869 words/s, in_qsize 31, out_qsize 0\n",
      "2024-04-28 00:08:25,062 : INFO : EPOCH 4 - PROGRESS: at 27.28% examples, 547916 words/s, in_qsize 28, out_qsize 5\n",
      "2024-04-28 00:08:26,105 : INFO : EPOCH 4 - PROGRESS: at 31.45% examples, 541186 words/s, in_qsize 32, out_qsize 0\n",
      "2024-04-28 00:08:27,111 : INFO : EPOCH 4 - PROGRESS: at 36.16% examples, 546053 words/s, in_qsize 32, out_qsize 0\n",
      "2024-04-28 00:08:28,154 : INFO : EPOCH 4 - PROGRESS: at 40.68% examples, 544949 words/s, in_qsize 31, out_qsize 0\n",
      "2024-04-28 00:08:29,166 : INFO : EPOCH 4 - PROGRESS: at 46.21% examples, 558287 words/s, in_qsize 23, out_qsize 0\n",
      "2024-04-28 00:08:30,199 : INFO : EPOCH 4 - PROGRESS: at 50.50% examples, 554367 words/s, in_qsize 31, out_qsize 0\n",
      "2024-04-28 00:08:31,257 : INFO : EPOCH 4 - PROGRESS: at 55.61% examples, 558158 words/s, in_qsize 26, out_qsize 6\n",
      "2024-04-28 00:08:32,262 : INFO : EPOCH 4 - PROGRESS: at 60.38% examples, 560227 words/s, in_qsize 32, out_qsize 1\n",
      "2024-04-28 00:08:33,259 : INFO : EPOCH 4 - PROGRESS: at 64.90% examples, 560116 words/s, in_qsize 31, out_qsize 0\n",
      "2024-04-28 00:08:34,316 : INFO : EPOCH 4 - PROGRESS: at 69.78% examples, 560897 words/s, in_qsize 20, out_qsize 12\n",
      "2024-04-28 00:08:35,340 : INFO : EPOCH 4 - PROGRESS: at 74.84% examples, 564090 words/s, in_qsize 30, out_qsize 1\n",
      "2024-04-28 00:08:36,426 : INFO : EPOCH 4 - PROGRESS: at 78.54% examples, 554147 words/s, in_qsize 29, out_qsize 11\n",
      "2024-04-28 00:08:37,456 : INFO : EPOCH 4 - PROGRESS: at 83.54% examples, 556551 words/s, in_qsize 31, out_qsize 1\n",
      "2024-04-28 00:08:38,464 : INFO : EPOCH 4 - PROGRESS: at 88.24% examples, 557520 words/s, in_qsize 28, out_qsize 0\n",
      "2024-04-28 00:08:39,548 : INFO : EPOCH 4 - PROGRESS: at 92.77% examples, 555248 words/s, in_qsize 32, out_qsize 1\n",
      "2024-04-28 00:08:40,558 : INFO : EPOCH 4 - PROGRESS: at 98.06% examples, 559200 words/s, in_qsize 32, out_qsize 0\n",
      "2024-04-28 00:08:40,950 : INFO : EPOCH 4: training on 17005207 raw words (12334034 effective words) took 22.0s, 560129 effective words/s\n",
      "2024-04-28 00:08:40,950 : INFO : Word2Vec lifecycle event {'msg': 'training on 85026035 raw words (61670082 effective words) took 82.2s, 750251 effective words/s', 'datetime': '2024-04-28T00:08:40.950295', 'gensim': '4.3.0', 'python': '3.11.5 | packaged by Anaconda, Inc. | (main, Sep 11 2023, 13:26:23) [MSC v.1916 64 bit (AMD64)]', 'platform': 'Windows-10-10.0.22621-SP0', 'event': 'train'}\n",
      "2024-04-28 00:08:40,951 : INFO : Word2Vec lifecycle event {'params': 'Word2Vec<vocab=47134, vector_size=250, alpha=0.025>', 'datetime': '2024-04-28T00:08:40.951852', 'gensim': '4.3.0', 'python': '3.11.5 | packaged by Anaconda, Inc. | (main, Sep 11 2023, 13:26:23) [MSC v.1916 64 bit (AMD64)]', 'platform': 'Windows-10-10.0.22621-SP0', 'event': 'created'}\n",
      "2024-04-28 00:08:40,951 : INFO : Word2Vec lifecycle event {'fname_or_handle': 'word2vec_gensim', 'separately': 'None', 'sep_limit': 10485760, 'ignore': frozenset(), 'datetime': '2024-04-28T00:08:40.951852', 'gensim': '4.3.0', 'python': '3.11.5 | packaged by Anaconda, Inc. | (main, Sep 11 2023, 13:26:23) [MSC v.1916 64 bit (AMD64)]', 'platform': 'Windows-10-10.0.22621-SP0', 'event': 'saving'}\n",
      "2024-04-28 00:08:40,951 : INFO : storing np array 'vectors' to word2vec_gensim.wv.vectors.npy\n",
      "2024-04-28 00:08:41,013 : INFO : storing np array 'syn1neg' to word2vec_gensim.syn1neg.npy\n",
      "2024-04-28 00:08:41,055 : INFO : not storing attribute cum_table\n",
      "2024-04-28 00:08:41,086 : INFO : saved word2vec_gensim\n",
      "2024-04-28 00:08:41,108 : INFO : storing vocabulary in vocabulary\n",
      "2024-04-28 00:08:41,456 : INFO : storing 47134x250 projection weights into word2vec_org\n"
     ]
    }
   ],
   "source": [
    "# vector_size=250\n",
    "!python word2vec.py"
   ]
  },
  {
   "cell_type": "code",
   "execution_count": 11,
   "metadata": {},
   "outputs": [
    {
     "name": "stdout",
     "output_type": "stream",
     "text": [
      "{\"score\": 0.6807892808556052, \"errorMsg\": \"success\", \"code\": 0, \"data\": [{\"score\": 0.6807892808556052}]}\n"
     ]
    }
   ],
   "source": [
    "!python evaluation.py score.npy"
   ]
  },
  {
   "cell_type": "code",
   "execution_count": 12,
   "metadata": {},
   "outputs": [
    {
     "name": "stdout",
     "output_type": "stream",
     "text": [
      "Total time: 51 s\n"
     ]
    },
    {
     "name": "stderr",
     "output_type": "stream",
     "text": [
      "2024-04-28 00:09:49,671 : INFO : collecting all words and their counts\n",
      "2024-04-28 00:09:49,671 : INFO : PROGRESS: at sentence #0, processed 0 words, keeping 0 word types\n",
      "2024-04-28 00:09:52,910 : INFO : collected 253854 word types from a corpus of 17005207 raw words and 1701 sentences\n",
      "2024-04-28 00:09:52,910 : INFO : Creating a fresh vocabulary\n",
      "2024-04-28 00:09:53,049 : INFO : Word2Vec lifecycle event {'msg': 'effective_min_count=10 retains 47134 unique words (18.57% of original 253854, drops 206720)', 'datetime': '2024-04-28T00:09:53.031330', 'gensim': '4.3.0', 'python': '3.11.5 | packaged by Anaconda, Inc. | (main, Sep 11 2023, 13:26:23) [MSC v.1916 64 bit (AMD64)]', 'platform': 'Windows-10-10.0.22621-SP0', 'event': 'prepare_vocab'}\n",
      "2024-04-28 00:09:53,049 : INFO : Word2Vec lifecycle event {'msg': 'effective_min_count=10 leaves 16561031 word corpus (97.39% of original 17005207, drops 444176)', 'datetime': '2024-04-28T00:09:53.049741', 'gensim': '4.3.0', 'python': '3.11.5 | packaged by Anaconda, Inc. | (main, Sep 11 2023, 13:26:23) [MSC v.1916 64 bit (AMD64)]', 'platform': 'Windows-10-10.0.22621-SP0', 'event': 'prepare_vocab'}\n",
      "2024-04-28 00:09:53,171 : INFO : deleting the raw counts dictionary of 253854 items\n",
      "2024-04-28 00:09:53,171 : INFO : sample=0.001 downsamples 38 most-common words\n",
      "2024-04-28 00:09:53,171 : INFO : Word2Vec lifecycle event {'msg': 'downsampling leaves estimated 12333563.370024087 word corpus (74.5%% of prior 16561031)', 'datetime': '2024-04-28T00:09:53.171541', 'gensim': '4.3.0', 'python': '3.11.5 | packaged by Anaconda, Inc. | (main, Sep 11 2023, 13:26:23) [MSC v.1916 64 bit (AMD64)]', 'platform': 'Windows-10-10.0.22621-SP0', 'event': 'prepare_vocab'}\n",
      "2024-04-28 00:09:53,348 : INFO : estimated required memory for 47134 words and 300 dimensions: 136688600 bytes\n",
      "2024-04-28 00:09:53,348 : INFO : resetting layer weights\n",
      "2024-04-28 00:09:53,396 : INFO : Word2Vec lifecycle event {'update': False, 'trim_rule': 'None', 'datetime': '2024-04-28T00:09:53.396269', 'gensim': '4.3.0', 'python': '3.11.5 | packaged by Anaconda, Inc. | (main, Sep 11 2023, 13:26:23) [MSC v.1916 64 bit (AMD64)]', 'platform': 'Windows-10-10.0.22621-SP0', 'event': 'build_vocab'}\n",
      "2024-04-28 00:09:53,396 : INFO : Word2Vec lifecycle event {'msg': 'training model with 16 workers on 47134 vocabulary and 300 features, using sg=0 hs=0 sample=0.001 negative=5 window=10 shrink_windows=True', 'datetime': '2024-04-28T00:09:53.396269', 'gensim': '4.3.0', 'python': '3.11.5 | packaged by Anaconda, Inc. | (main, Sep 11 2023, 13:26:23) [MSC v.1916 64 bit (AMD64)]', 'platform': 'Windows-10-10.0.22621-SP0', 'event': 'train'}\n",
      "2024-04-28 00:09:54,401 : INFO : EPOCH 0 - PROGRESS: at 13.29% examples, 1623037 words/s, in_qsize 0, out_qsize 0\n",
      "2024-04-28 00:09:55,406 : INFO : EPOCH 0 - PROGRESS: at 24.04% examples, 1476202 words/s, in_qsize 0, out_qsize 0\n",
      "2024-04-28 00:09:56,409 : INFO : EPOCH 0 - PROGRESS: at 38.21% examples, 1570386 words/s, in_qsize 0, out_qsize 0\n",
      "2024-04-28 00:09:57,409 : INFO : EPOCH 0 - PROGRESS: at 51.09% examples, 1576295 words/s, in_qsize 0, out_qsize 0\n",
      "2024-04-28 00:09:58,409 : INFO : EPOCH 0 - PROGRESS: at 66.26% examples, 1636161 words/s, in_qsize 0, out_qsize 0\n",
      "2024-04-28 00:09:59,412 : INFO : EPOCH 0 - PROGRESS: at 81.72% examples, 1678095 words/s, in_qsize 0, out_qsize 0\n",
      "2024-04-28 00:10:00,409 : INFO : EPOCH 0 - PROGRESS: at 95.30% examples, 1676477 words/s, in_qsize 0, out_qsize 0\n",
      "2024-04-28 00:10:00,761 : INFO : EPOCH 0: training on 17005207 raw words (12333718 effective words) took 7.4s, 1675472 effective words/s\n",
      "2024-04-28 00:10:01,769 : INFO : EPOCH 1 - PROGRESS: at 11.93% examples, 1455911 words/s, in_qsize 0, out_qsize 0\n",
      "2024-04-28 00:10:02,771 : INFO : EPOCH 1 - PROGRESS: at 23.16% examples, 1419514 words/s, in_qsize 0, out_qsize 0\n",
      "2024-04-28 00:10:03,774 : INFO : EPOCH 1 - PROGRESS: at 35.04% examples, 1439777 words/s, in_qsize 0, out_qsize 0\n",
      "2024-04-28 00:10:04,775 : INFO : EPOCH 1 - PROGRESS: at 45.74% examples, 1410857 words/s, in_qsize 0, out_qsize 0\n",
      "2024-04-28 00:10:05,782 : INFO : EPOCH 1 - PROGRESS: at 56.67% examples, 1397781 words/s, in_qsize 0, out_qsize 0\n",
      "2024-04-28 00:10:06,789 : INFO : EPOCH 1 - PROGRESS: at 67.02% examples, 1376145 words/s, in_qsize 0, out_qsize 1\n",
      "2024-04-28 00:10:07,794 : INFO : EPOCH 1 - PROGRESS: at 80.07% examples, 1405944 words/s, in_qsize 0, out_qsize 0\n",
      "2024-04-28 00:10:08,800 : INFO : EPOCH 1 - PROGRESS: at 92.18% examples, 1415476 words/s, in_qsize 1, out_qsize 0\n",
      "2024-04-28 00:10:09,441 : INFO : EPOCH 1: training on 17005207 raw words (12334987 effective words) took 8.7s, 1421071 effective words/s\n",
      "2024-04-28 00:10:10,453 : INFO : EPOCH 2 - PROGRESS: at 10.88% examples, 1321138 words/s, in_qsize 0, out_qsize 0\n",
      "2024-04-28 00:10:11,463 : INFO : EPOCH 2 - PROGRESS: at 24.69% examples, 1507892 words/s, in_qsize 0, out_qsize 2\n",
      "2024-04-28 00:10:12,464 : INFO : EPOCH 2 - PROGRESS: at 37.92% examples, 1555175 words/s, in_qsize 0, out_qsize 0\n",
      "2024-04-28 00:10:13,471 : INFO : EPOCH 2 - PROGRESS: at 51.44% examples, 1581482 words/s, in_qsize 0, out_qsize 0\n",
      "2024-04-28 00:10:14,473 : INFO : EPOCH 2 - PROGRESS: at 64.02% examples, 1576335 words/s, in_qsize 0, out_qsize 0\n",
      "2024-04-28 00:10:15,474 : INFO : EPOCH 2 - PROGRESS: at 73.43% examples, 1507815 words/s, in_qsize 0, out_qsize 0\n",
      "2024-04-28 00:10:16,488 : INFO : EPOCH 2 - PROGRESS: at 85.71% examples, 1502977 words/s, in_qsize 0, out_qsize 2\n",
      "2024-04-28 00:10:17,502 : INFO : EPOCH 2 - PROGRESS: at 97.82% examples, 1498590 words/s, in_qsize 0, out_qsize 0\n",
      "2024-04-28 00:10:17,662 : INFO : EPOCH 2: training on 17005207 raw words (12334344 effective words) took 8.2s, 1501578 effective words/s\n",
      "2024-04-28 00:10:18,667 : INFO : EPOCH 3 - PROGRESS: at 11.70% examples, 1428594 words/s, in_qsize 0, out_qsize 0\n",
      "2024-04-28 00:10:19,676 : INFO : EPOCH 3 - PROGRESS: at 24.99% examples, 1529453 words/s, in_qsize 0, out_qsize 1\n",
      "2024-04-28 00:10:20,676 : INFO : EPOCH 3 - PROGRESS: at 37.80% examples, 1552039 words/s, in_qsize 0, out_qsize 0\n",
      "2024-04-28 00:10:21,677 : INFO : EPOCH 3 - PROGRESS: at 49.50% examples, 1526143 words/s, in_qsize 0, out_qsize 0\n",
      "2024-04-28 00:10:22,684 : INFO : EPOCH 3 - PROGRESS: at 61.73% examples, 1521702 words/s, in_qsize 0, out_qsize 0\n",
      "2024-04-28 00:10:23,693 : INFO : EPOCH 3 - PROGRESS: at 72.66% examples, 1491494 words/s, in_qsize 0, out_qsize 0\n",
      "2024-04-28 00:10:24,696 : INFO : EPOCH 3 - PROGRESS: at 84.60% examples, 1485298 words/s, in_qsize 0, out_qsize 0\n",
      "2024-04-28 00:10:25,697 : INFO : EPOCH 3 - PROGRESS: at 96.24% examples, 1478442 words/s, in_qsize 0, out_qsize 0\n",
      "2024-04-28 00:10:25,979 : INFO : EPOCH 3: training on 17005207 raw words (12333499 effective words) took 8.3s, 1483061 effective words/s\n",
      "2024-04-28 00:10:26,988 : INFO : EPOCH 4 - PROGRESS: at 12.93% examples, 1575923 words/s, in_qsize 0, out_qsize 0\n",
      "2024-04-28 00:10:27,999 : INFO : EPOCH 4 - PROGRESS: at 25.87% examples, 1582879 words/s, in_qsize 0, out_qsize 1\n",
      "2024-04-28 00:10:29,002 : INFO : EPOCH 4 - PROGRESS: at 36.39% examples, 1491757 words/s, in_qsize 0, out_qsize 1\n",
      "2024-04-28 00:10:30,009 : INFO : EPOCH 4 - PROGRESS: at 43.15% examples, 1325686 words/s, in_qsize 0, out_qsize 0\n",
      "2024-04-28 00:10:31,017 : INFO : EPOCH 4 - PROGRESS: at 54.32% examples, 1335576 words/s, in_qsize 0, out_qsize 1\n",
      "2024-04-28 00:10:32,030 : INFO : EPOCH 4 - PROGRESS: at 64.79% examples, 1325567 words/s, in_qsize 0, out_qsize 1\n",
      "2024-04-28 00:10:33,033 : INFO : EPOCH 4 - PROGRESS: at 74.72% examples, 1311785 words/s, in_qsize 0, out_qsize 0\n",
      "2024-04-28 00:10:34,035 : INFO : EPOCH 4 - PROGRESS: at 87.71% examples, 1345133 words/s, in_qsize 0, out_qsize 2\n",
      "2024-04-28 00:10:35,002 : INFO : EPOCH 4: training on 17005207 raw words (12334055 effective words) took 9.0s, 1367527 effective words/s\n",
      "2024-04-28 00:10:35,002 : INFO : Word2Vec lifecycle event {'msg': 'training on 85026035 raw words (61670603 effective words) took 41.6s, 1482150 effective words/s', 'datetime': '2024-04-28T00:10:35.002364', 'gensim': '4.3.0', 'python': '3.11.5 | packaged by Anaconda, Inc. | (main, Sep 11 2023, 13:26:23) [MSC v.1916 64 bit (AMD64)]', 'platform': 'Windows-10-10.0.22621-SP0', 'event': 'train'}\n",
      "2024-04-28 00:10:35,002 : INFO : Word2Vec lifecycle event {'params': 'Word2Vec<vocab=47134, vector_size=300, alpha=0.025>', 'datetime': '2024-04-28T00:10:35.002364', 'gensim': '4.3.0', 'python': '3.11.5 | packaged by Anaconda, Inc. | (main, Sep 11 2023, 13:26:23) [MSC v.1916 64 bit (AMD64)]', 'platform': 'Windows-10-10.0.22621-SP0', 'event': 'created'}\n",
      "2024-04-28 00:10:35,002 : INFO : Word2Vec lifecycle event {'fname_or_handle': 'word2vec_gensim', 'separately': 'None', 'sep_limit': 10485760, 'ignore': frozenset(), 'datetime': '2024-04-28T00:10:35.002364', 'gensim': '4.3.0', 'python': '3.11.5 | packaged by Anaconda, Inc. | (main, Sep 11 2023, 13:26:23) [MSC v.1916 64 bit (AMD64)]', 'platform': 'Windows-10-10.0.22621-SP0', 'event': 'saving'}\n",
      "2024-04-28 00:10:35,002 : INFO : storing np array 'vectors' to word2vec_gensim.wv.vectors.npy\n",
      "2024-04-28 00:10:35,044 : INFO : storing np array 'syn1neg' to word2vec_gensim.syn1neg.npy\n",
      "2024-04-28 00:10:35,074 : INFO : not storing attribute cum_table\n",
      "2024-04-28 00:10:35,088 : INFO : saved word2vec_gensim\n",
      "2024-04-28 00:10:35,104 : INFO : storing vocabulary in vocabulary\n",
      "2024-04-28 00:10:35,142 : INFO : storing 47134x300 projection weights into word2vec_org\n"
     ]
    }
   ],
   "source": [
    "# vector_size=300\n",
    "!python word2vec.py"
   ]
  },
  {
   "cell_type": "code",
   "execution_count": 13,
   "metadata": {},
   "outputs": [
    {
     "name": "stdout",
     "output_type": "stream",
     "text": [
      "{\"score\": 0.6903557686853921, \"errorMsg\": \"success\", \"code\": 0, \"data\": [{\"score\": 0.6903557686853921}]}\n"
     ]
    }
   ],
   "source": [
    "!python evaluation.py score.npy"
   ]
  },
  {
   "cell_type": "code",
   "execution_count": 22,
   "metadata": {},
   "outputs": [
    {
     "data": {
      "image/png": "[encoded data removed]",
      "text/plain": [
       "<Figure size 640x480 with 2 Axes>"
      ]
     },
     "metadata": {},
     "output_type": "display_data"
    }
   ],
   "source": [
    "import matplotlib.pyplot as plt\n",
    "\n",
    "# 数据\n",
    "vector_size = [50, 100, 150, 200, 250, 300]\n",
    "score = [0.6606661257461373, 0.692237913064484, 0.6924479511296131, 0.6951971378884105, 0.6807892808556052, 0.6903557686853921]\n",
    "time = [21, 57, 75, 96, 98, 51]\n",
    "\n",
    "# 创建画布和坐标轴对象\n",
    "fig, ax1 = plt.subplots()\n",
    "\n",
    "# 绘制score折线图\n",
    "ax1.plot(vector_size, score, '-', marker='o', label='Score')\n",
    "ax1.set_xlabel('Vector Size')\n",
    "ax1.set_ylabel('Score')\n",
    "ax1.tick_params('y')\n",
    "ax1.set_xticks(vector_size)\n",
    "\n",
    "# 创建第二个坐标轴对象，共享x轴\n",
    "ax2 = ax1.twinx()\n",
    "# 绘制time折线图\n",
    "ax2.plot(vector_size, time, '--', marker='s', label='Time',color='orange')\n",
    "ax2.set_ylabel('Time (s)')\n",
    "ax2.tick_params('y')\n",
    "\n",
    "# 添加图例\n",
    "lines1, labels1 = ax1.get_legend_handles_labels()\n",
    "lines2, labels2 = ax2.get_legend_handles_labels()\n",
    "lines = lines1 + lines2\n",
    "labels = labels1 + labels2\n",
    "ax1.legend(lines, labels, loc='upper right')\n",
    "\n",
    "# 添加网格线\n",
    "ax1.grid(True)\n",
    "\n",
    "# 显示图形\n",
    "plt.show()\n"
   ]
  },
  {
   "cell_type": "markdown",
   "metadata": {},
   "source": [
    "## 2 window对模型影响"
   ]
  },
  {
   "cell_type": "code",
   "execution_count": 23,
   "metadata": {},
   "outputs": [
    {
     "name": "stdout",
     "output_type": "stream",
     "text": [
      "Total time: 50 s"
     ]
    },
    {
     "name": "stderr",
     "output_type": "stream",
     "text": [
      "2024-04-28 00:48:59,952 : INFO : collecting all words and their counts\n",
      "2024-04-28 00:48:59,953 : INFO : PROGRESS: at sentence #0, processed 0 words, keeping 0 word types\n",
      "2024-04-28 00:49:03,025 : INFO : collected 253854 word types from a corpus of 17005207 raw words and 1701 sentences\n",
      "2024-04-28 00:49:03,025 : INFO : Creating a fresh vocabulary\n",
      "2024-04-28 00:49:03,160 : INFO : Word2Vec lifecycle event {'msg': 'effective_min_count=10 retains 47134 unique words (18.57% of original 253854, drops 206720)', 'datetime': '2024-04-28T00:49:03.140772', 'gensim': '4.3.0', 'python': '3.11.5 | packaged by Anaconda, Inc. | (main, Sep 11 2023, 13:26:23) [MSC v.1916 64 bit (AMD64)]', 'platform': 'Windows-10-10.0.22621-SP0', 'event': 'prepare_vocab'}\n",
      "2024-04-28 00:49:03,160 : INFO : Word2Vec lifecycle event {'msg': 'effective_min_count=10 leaves 16561031 word corpus (97.39% of original 17005207, drops 444176)', 'datetime': '2024-04-28T00:49:03.160433', 'gensim': '4.3.0', 'python': '3.11.5 | packaged by Anaconda, Inc. | (main, Sep 11 2023, 13:26:23) [MSC v.1916 64 bit (AMD64)]', 'platform': 'Windows-10-10.0.22621-SP0', 'event': 'prepare_vocab'}\n",
      "2024-04-28 00:49:03,282 : INFO : deleting the raw counts dictionary of 253854 items\n",
      "2024-04-28 00:49:03,287 : INFO : sample=0.001 downsamples 38 most-common words\n",
      "2024-04-28 00:49:03,287 : INFO : Word2Vec lifecycle event {'msg': 'downsampling leaves estimated 12333563.370024087 word corpus (74.5%% of prior 16561031)', 'datetime': '2024-04-28T00:49:03.287356', 'gensim': '4.3.0', 'python': '3.11.5 | packaged by Anaconda, Inc. | (main, Sep 11 2023, 13:26:23) [MSC v.1916 64 bit (AMD64)]', 'platform': 'Windows-10-10.0.22621-SP0', 'event': 'prepare_vocab'}\n",
      "2024-04-28 00:49:03,466 : INFO : estimated required memory for 47134 words and 200 dimensions: 98981400 bytes\n",
      "2024-04-28 00:49:03,466 : INFO : resetting layer weights\n",
      "2024-04-28 00:49:03,497 : INFO : Word2Vec lifecycle event {'update': False, 'trim_rule': 'None', 'datetime': '2024-04-28T00:49:03.497176', 'gensim': '4.3.0', 'python': '3.11.5 | packaged by Anaconda, Inc. | (main, Sep 11 2023, 13:26:23) [MSC v.1916 64 bit (AMD64)]', 'platform': 'Windows-10-10.0.22621-SP0', 'event': 'build_vocab'}\n",
      "2024-04-28 00:49:03,498 : INFO : Word2Vec lifecycle event {'msg': 'training model with 16 workers on 47134 vocabulary and 200 features, using sg=0 hs=0 sample=0.001 negative=5 window=5 shrink_windows=True', 'datetime': '2024-04-28T00:49:03.498176', 'gensim': '4.3.0', 'python': '3.11.5 | packaged by Anaconda, Inc. | (main, Sep 11 2023, 13:26:23) [MSC v.1916 64 bit (AMD64)]', 'platform': 'Windows-10-10.0.22621-SP0', 'event': 'train'}\n",
      "2024-04-28 00:49:04,503 : INFO : EPOCH 0 - PROGRESS: at 16.40% examples, 2007610 words/s, in_qsize 0, out_qsize 0\n",
      "2024-04-28 00:49:05,506 : INFO : EPOCH 0 - PROGRESS: at 29.98% examples, 1844668 words/s, in_qsize 0, out_qsize 0\n",
      "2024-04-28 00:49:06,510 : INFO : EPOCH 0 - PROGRESS: at 42.92% examples, 1763777 words/s, in_qsize 0, out_qsize 0\n",
      "2024-04-28 00:49:07,514 : INFO : EPOCH 0 - PROGRESS: at 59.49% examples, 1833730 words/s, in_qsize 0, out_qsize 0\n",
      "2024-04-28 00:49:08,515 : INFO : EPOCH 0 - PROGRESS: at 77.19% examples, 1900949 words/s, in_qsize 0, out_qsize 0\n",
      "2024-04-28 00:49:09,518 : INFO : EPOCH 0 - PROGRESS: at 89.71% examples, 1840452 words/s, in_qsize 0, out_qsize 0\n",
      "2024-04-28 00:49:10,360 : INFO : EPOCH 0: training on 17005207 raw words (12331989 effective words) took 6.9s, 1797880 effective words/s\n",
      "2024-04-28 00:49:11,385 : INFO : EPOCH 1 - PROGRESS: at 16.99% examples, 2078622 words/s, in_qsize 0, out_qsize 0\n",
      "2024-04-28 00:49:12,386 : INFO : EPOCH 1 - PROGRESS: at 35.04% examples, 2161319 words/s, in_qsize 1, out_qsize 0\n",
      "2024-04-28 00:49:13,387 : INFO : EPOCH 1 - PROGRESS: at 52.85% examples, 2175204 words/s, in_qsize 0, out_qsize 0\n",
      "2024-04-28 00:49:14,390 : INFO : EPOCH 1 - PROGRESS: at 69.55% examples, 2146246 words/s, in_qsize 0, out_qsize 1\n",
      "2024-04-28 00:49:15,390 : INFO : EPOCH 1 - PROGRESS: at 86.89% examples, 2140982 words/s, in_qsize 0, out_qsize 0\n",
      "2024-04-28 00:49:16,112 : INFO : EPOCH 1: training on 17005207 raw words (12332930 effective words) took 5.7s, 2152579 effective words/s\n",
      "2024-04-28 00:49:17,115 : INFO : EPOCH 2 - PROGRESS: at 18.87% examples, 2315692 words/s, in_qsize 0, out_qsize 0\n",
      "2024-04-28 00:49:18,118 : INFO : EPOCH 2 - PROGRESS: at 37.39% examples, 2307035 words/s, in_qsize 0, out_qsize 0\n",
      "2024-04-28 00:49:19,121 : INFO : EPOCH 2 - PROGRESS: at 55.03% examples, 2264482 words/s, in_qsize 0, out_qsize 0\n",
      "2024-04-28 00:49:20,124 : INFO : EPOCH 2 - PROGRESS: at 70.49% examples, 2174779 words/s, in_qsize 0, out_qsize 0\n",
      "2024-04-28 00:49:21,125 : INFO : EPOCH 2 - PROGRESS: at 86.30% examples, 2126480 words/s, in_qsize 0, out_qsize 0\n",
      "2024-04-28 00:49:22,009 : INFO : EPOCH 2: training on 17005207 raw words (12332589 effective words) took 5.9s, 2092263 effective words/s\n",
      "2024-04-28 00:49:23,017 : INFO : EPOCH 3 - PROGRESS: at 15.34% examples, 1869532 words/s, in_qsize 1, out_qsize 1\n",
      "2024-04-28 00:49:24,023 : INFO : EPOCH 3 - PROGRESS: at 28.04% examples, 1718417 words/s, in_qsize 0, out_qsize 0\n",
      "2024-04-28 00:49:25,025 : INFO : EPOCH 3 - PROGRESS: at 35.51% examples, 1456767 words/s, in_qsize 1, out_qsize 0\n",
      "2024-04-28 00:49:26,027 : INFO : EPOCH 3 - PROGRESS: at 48.85% examples, 1504800 words/s, in_qsize 0, out_qsize 0\n",
      "2024-04-28 00:49:27,026 : INFO : EPOCH 3 - PROGRESS: at 64.90% examples, 1600709 words/s, in_qsize 0, out_qsize 0\n",
      "2024-04-28 00:49:28,032 : INFO : EPOCH 3 - PROGRESS: at 75.72% examples, 1554594 words/s, in_qsize 0, out_qsize 0\n",
      "2024-04-28 00:49:29,033 : INFO : EPOCH 3 - PROGRESS: at 93.42% examples, 1641751 words/s, in_qsize 1, out_qsize 0\n",
      "2024-04-28 00:49:29,492 : INFO : EPOCH 3: training on 17005207 raw words (12334036 effective words) took 7.5s, 1649029 effective words/s\n",
      "2024-04-28 00:49:30,504 : INFO : EPOCH 4 - PROGRESS: at 8.82% examples, 1071123 words/s, in_qsize 0, out_qsize 1\n",
      "2024-04-28 00:49:31,505 : INFO : EPOCH 4 - PROGRESS: at 23.46% examples, 1435384 words/s, in_qsize 0, out_qsize 1\n",
      "2024-04-28 00:49:32,509 : INFO : EPOCH 4 - PROGRESS: at 36.45% examples, 1495564 words/s, in_qsize 0, out_qsize 0\n",
      "2024-04-28 00:49:33,513 : INFO : EPOCH 4 - PROGRESS: at 45.21% examples, 1391321 words/s, in_qsize 0, out_qsize 0\n",
      "2024-04-28 00:49:34,527 : INFO : EPOCH 4 - PROGRESS: at 53.97% examples, 1326435 words/s, in_qsize 0, out_qsize 0\n",
      "2024-04-28 00:49:35,546 : INFO : EPOCH 4 - PROGRESS: at 59.91% examples, 1223849 words/s, in_qsize 27, out_qsize 1\n",
      "2024-04-28 00:49:36,572 : INFO : EPOCH 4 - PROGRESS: at 65.78% examples, 1149375 words/s, in_qsize 32, out_qsize 0\n",
      "2024-04-28 00:49:37,582 : INFO : EPOCH 4 - PROGRESS: at 71.43% examples, 1091592 words/s, in_qsize 32, out_qsize 1\n",
      "2024-04-28 00:49:38,598 : INFO : EPOCH 4 - PROGRESS: at 77.25% examples, 1048226 words/s, in_qsize 30, out_qsize 1\n",
      "2024-04-28 00:49:39,605 : INFO : EPOCH 4 - PROGRESS: at 82.72% examples, 1009845 words/s, in_qsize 31, out_qsize 0\n",
      "2024-04-28 00:49:40,601 : INFO : EPOCH 4 - PROGRESS: at 88.59% examples, 984103 words/s, in_qsize 29, out_qsize 2\n",
      "2024-04-28 00:49:41,614 : INFO : EPOCH 4 - PROGRESS: at 94.47% examples, 961786 words/s, in_qsize 32, out_qsize 1\n",
      "2024-04-28 00:49:42,475 : INFO : EPOCH 4: training on 17005207 raw words (12332554 effective words) took 13.0s, 950151 effective words/s\n",
      "2024-04-28 00:49:42,475 : INFO : Word2Vec lifecycle event {'msg': 'training on 85026035 raw words (61664098 effective words) took 39.0s, 1582008 effective words/s', 'datetime': '2024-04-28T00:49:42.475343', 'gensim': '4.3.0', 'python': '3.11.5 | packaged by Anaconda, Inc. | (main, Sep 11 2023, 13:26:23) [MSC v.1916 64 bit (AMD64)]', 'platform': 'Windows-10-10.0.22621-SP0', 'event': 'train'}\n",
      "2024-04-28 00:49:42,475 : INFO : Word2Vec lifecycle event {'params': 'Word2Vec<vocab=47134, vector_size=200, alpha=0.025>', 'datetime': '2024-04-28T00:49:42.475343', 'gensim': '4.3.0', 'python': '3.11.5 | packaged by Anaconda, Inc. | (main, Sep 11 2023, 13:26:23) [MSC v.1916 64 bit (AMD64)]', 'platform': 'Windows-10-10.0.22621-SP0', 'event': 'created'}\n",
      "2024-04-28 00:49:42,475 : INFO : Word2Vec lifecycle event {'fname_or_handle': 'word2vec_gensim', 'separately': 'None', 'sep_limit': 10485760, 'ignore': frozenset(), 'datetime': '2024-04-28T00:49:42.475343', 'gensim': '4.3.0', 'python': '3.11.5 | packaged by Anaconda, Inc. | (main, Sep 11 2023, 13:26:23) [MSC v.1916 64 bit (AMD64)]', 'platform': 'Windows-10-10.0.22621-SP0', 'event': 'saving'}\n",
      "2024-04-28 00:49:42,480 : INFO : not storing attribute cum_table\n",
      "2024-04-28 00:49:42,622 : INFO : saved word2vec_gensim\n",
      "2024-04-28 00:49:42,672 : INFO : storing vocabulary in vocabulary\n",
      "2024-04-28 00:49:42,817 : INFO : storing 47134x200 projection weights into word2vec_org\n"
     ]
    },
    {
     "name": "stdout",
     "output_type": "stream",
     "text": [
      "\n"
     ]
    }
   ],
   "source": [
    "# window=5\n",
    "!python word2vec.py"
   ]
  },
  {
   "cell_type": "code",
   "execution_count": 24,
   "metadata": {},
   "outputs": [
    {
     "name": "stdout",
     "output_type": "stream",
     "text": [
      "{\"score\": 0.6440411455933666, \"errorMsg\": \"success\", \"code\": 0, \"data\": [{\"score\": 0.6440411455933666}]}\n"
     ]
    }
   ],
   "source": [
    "!python evaluation.py score.npy"
   ]
  },
  {
   "cell_type": "code",
   "execution_count": 25,
   "metadata": {},
   "outputs": [
    {
     "name": "stdout",
     "output_type": "stream",
     "text": [
      "Total time: 49 s\n"
     ]
    },
    {
     "name": "stderr",
     "output_type": "stream",
     "text": [
      "2024-04-28 00:52:51,419 : INFO : collecting all words and their counts\n",
      "2024-04-28 00:52:51,420 : INFO : PROGRESS: at sentence #0, processed 0 words, keeping 0 word types\n",
      "2024-04-28 00:52:54,305 : INFO : collected 253854 word types from a corpus of 17005207 raw words and 1701 sentences\n",
      "2024-04-28 00:52:54,305 : INFO : Creating a fresh vocabulary\n",
      "2024-04-28 00:52:54,444 : INFO : Word2Vec lifecycle event {'msg': 'effective_min_count=10 retains 47134 unique words (18.57% of original 253854, drops 206720)', 'datetime': '2024-04-28T00:52:54.430795', 'gensim': '4.3.0', 'python': '3.11.5 | packaged by Anaconda, Inc. | (main, Sep 11 2023, 13:26:23) [MSC v.1916 64 bit (AMD64)]', 'platform': 'Windows-10-10.0.22621-SP0', 'event': 'prepare_vocab'}\n",
      "2024-04-28 00:52:54,444 : INFO : Word2Vec lifecycle event {'msg': 'effective_min_count=10 leaves 16561031 word corpus (97.39% of original 17005207, drops 444176)', 'datetime': '2024-04-28T00:52:54.444973', 'gensim': '4.3.0', 'python': '3.11.5 | packaged by Anaconda, Inc. | (main, Sep 11 2023, 13:26:23) [MSC v.1916 64 bit (AMD64)]', 'platform': 'Windows-10-10.0.22621-SP0', 'event': 'prepare_vocab'}\n",
      "2024-04-28 00:52:54,571 : INFO : deleting the raw counts dictionary of 253854 items\n",
      "2024-04-28 00:52:54,578 : INFO : sample=0.001 downsamples 38 most-common words\n",
      "2024-04-28 00:52:54,578 : INFO : Word2Vec lifecycle event {'msg': 'downsampling leaves estimated 12333563.370024087 word corpus (74.5%% of prior 16561031)', 'datetime': '2024-04-28T00:52:54.578875', 'gensim': '4.3.0', 'python': '3.11.5 | packaged by Anaconda, Inc. | (main, Sep 11 2023, 13:26:23) [MSC v.1916 64 bit (AMD64)]', 'platform': 'Windows-10-10.0.22621-SP0', 'event': 'prepare_vocab'}\n",
      "2024-04-28 00:52:54,781 : INFO : estimated required memory for 47134 words and 200 dimensions: 98981400 bytes\n",
      "2024-04-28 00:52:54,781 : INFO : resetting layer weights\n",
      "2024-04-28 00:52:54,808 : INFO : Word2Vec lifecycle event {'update': False, 'trim_rule': 'None', 'datetime': '2024-04-28T00:52:54.808875', 'gensim': '4.3.0', 'python': '3.11.5 | packaged by Anaconda, Inc. | (main, Sep 11 2023, 13:26:23) [MSC v.1916 64 bit (AMD64)]', 'platform': 'Windows-10-10.0.22621-SP0', 'event': 'build_vocab'}\n",
      "2024-04-28 00:52:54,808 : INFO : Word2Vec lifecycle event {'msg': 'training model with 16 workers on 47134 vocabulary and 200 features, using sg=0 hs=0 sample=0.001 negative=5 window=10 shrink_windows=True', 'datetime': '2024-04-28T00:52:54.808875', 'gensim': '4.3.0', 'python': '3.11.5 | packaged by Anaconda, Inc. | (main, Sep 11 2023, 13:26:23) [MSC v.1916 64 bit (AMD64)]', 'platform': 'Windows-10-10.0.22621-SP0', 'event': 'train'}\n",
      "2024-04-28 00:52:55,813 : INFO : EPOCH 0 - PROGRESS: at 16.52% examples, 2024581 words/s, in_qsize 0, out_qsize 0\n",
      "2024-04-28 00:52:56,816 : INFO : EPOCH 0 - PROGRESS: at 30.34% examples, 1869595 words/s, in_qsize 0, out_qsize 1\n",
      "2024-04-28 00:52:57,815 : INFO : EPOCH 0 - PROGRESS: at 47.09% examples, 1939692 words/s, in_qsize 0, out_qsize 0\n",
      "2024-04-28 00:52:58,816 : INFO : EPOCH 0 - PROGRESS: at 64.02% examples, 1978315 words/s, in_qsize 0, out_qsize 0\n",
      "2024-04-28 00:52:59,823 : INFO : EPOCH 0 - PROGRESS: at 79.13% examples, 1950453 words/s, in_qsize 0, out_qsize 2\n",
      "2024-04-28 00:53:00,825 : INFO : EPOCH 0 - PROGRESS: at 92.12% examples, 1891269 words/s, in_qsize 0, out_qsize 0\n",
      "2024-04-28 00:53:01,353 : INFO : EPOCH 0: training on 17005207 raw words (12334639 effective words) took 6.5s, 1885893 effective words/s\n",
      "2024-04-28 00:53:02,357 : INFO : EPOCH 1 - PROGRESS: at 14.17% examples, 1734693 words/s, in_qsize 0, out_qsize 0\n",
      "2024-04-28 00:53:03,357 : INFO : EPOCH 1 - PROGRESS: at 25.69% examples, 1580482 words/s, in_qsize 0, out_qsize 0\n",
      "2024-04-28 00:53:04,359 : INFO : EPOCH 1 - PROGRESS: at 38.92% examples, 1602149 words/s, in_qsize 0, out_qsize 0\n",
      "2024-04-28 00:53:05,361 : INFO : EPOCH 1 - PROGRESS: at 50.91% examples, 1572538 words/s, in_qsize 0, out_qsize 0\n",
      "2024-04-28 00:53:06,365 : INFO : EPOCH 1 - PROGRESS: at 65.73% examples, 1623003 words/s, in_qsize 0, out_qsize 0\n",
      "2024-04-28 00:53:07,366 : INFO : EPOCH 1 - PROGRESS: at 81.13% examples, 1666571 words/s, in_qsize 0, out_qsize 0\n",
      "2024-04-28 00:53:08,370 : INFO : EPOCH 1 - PROGRESS: at 99.12% examples, 1743275 words/s, in_qsize 1, out_qsize 0\n",
      "2024-04-28 00:53:08,413 : INFO : EPOCH 1: training on 17005207 raw words (12334949 effective words) took 7.1s, 1747962 effective words/s\n",
      "2024-04-28 00:53:09,418 : INFO : EPOCH 2 - PROGRESS: at 19.17% examples, 2344318 words/s, in_qsize 0, out_qsize 1\n",
      "2024-04-28 00:53:10,422 : INFO : EPOCH 2 - PROGRESS: at 36.45% examples, 2245595 words/s, in_qsize 0, out_qsize 0\n",
      "2024-04-28 00:53:11,423 : INFO : EPOCH 2 - PROGRESS: at 54.26% examples, 2230886 words/s, in_qsize 0, out_qsize 0\n",
      "2024-04-28 00:53:12,425 : INFO : EPOCH 2 - PROGRESS: at 67.14% examples, 2071067 words/s, in_qsize 0, out_qsize 0\n",
      "2024-04-28 00:53:13,427 : INFO : EPOCH 2 - PROGRESS: at 81.01% examples, 1995624 words/s, in_qsize 0, out_qsize 1\n",
      "2024-04-28 00:53:14,430 : INFO : EPOCH 2 - PROGRESS: at 96.30% examples, 1975579 words/s, in_qsize 0, out_qsize 0\n",
      "2024-04-28 00:53:14,665 : INFO : EPOCH 2: training on 17005207 raw words (12334071 effective words) took 6.2s, 1973746 effective words/s\n",
      "2024-04-28 00:53:15,677 : INFO : EPOCH 3 - PROGRESS: at 16.58% examples, 2011627 words/s, in_qsize 0, out_qsize 1\n",
      "2024-04-28 00:53:16,680 : INFO : EPOCH 3 - PROGRESS: at 33.10% examples, 2031174 words/s, in_qsize 0, out_qsize 0\n",
      "2024-04-28 00:53:17,683 : INFO : EPOCH 3 - PROGRESS: at 48.38% examples, 1984008 words/s, in_qsize 0, out_qsize 0\n",
      "2024-04-28 00:53:18,683 : INFO : EPOCH 3 - PROGRESS: at 60.44% examples, 1861268 words/s, in_qsize 0, out_qsize 0\n",
      "2024-04-28 00:53:19,686 : INFO : EPOCH 3 - PROGRESS: at 72.13% examples, 1777648 words/s, in_qsize 1, out_qsize 0\n",
      "2024-04-28 00:53:20,696 : INFO : EPOCH 3 - PROGRESS: at 84.60% examples, 1732221 words/s, in_qsize 0, out_qsize 1\n",
      "2024-04-28 00:53:21,697 : INFO : EPOCH 3 - PROGRESS: at 96.83% examples, 1699587 words/s, in_qsize 0, out_qsize 0\n",
      "2024-04-28 00:53:21,887 : INFO : EPOCH 3: training on 17005207 raw words (12334565 effective words) took 7.2s, 1708209 effective words/s\n",
      "2024-04-28 00:53:22,895 : INFO : EPOCH 4 - PROGRESS: at 16.75% examples, 2044685 words/s, in_qsize 0, out_qsize 1\n",
      "2024-04-28 00:53:23,899 : INFO : EPOCH 4 - PROGRESS: at 29.81% examples, 1831390 words/s, in_qsize 0, out_qsize 0\n",
      "2024-04-28 00:53:24,902 : INFO : EPOCH 4 - PROGRESS: at 39.04% examples, 1602158 words/s, in_qsize 0, out_qsize 0\n",
      "2024-04-28 00:53:25,907 : INFO : EPOCH 4 - PROGRESS: at 48.74% examples, 1500608 words/s, in_qsize 0, out_qsize 0\n",
      "2024-04-28 00:53:26,914 : INFO : EPOCH 4 - PROGRESS: at 55.97% examples, 1378407 words/s, in_qsize 0, out_qsize 0\n",
      "2024-04-28 00:53:27,915 : INFO : EPOCH 4 - PROGRESS: at 63.55% examples, 1304920 words/s, in_qsize 0, out_qsize 0\n",
      "2024-04-28 00:53:28,919 : INFO : EPOCH 4 - PROGRESS: at 70.96% examples, 1248977 words/s, in_qsize 0, out_qsize 0\n",
      "2024-04-28 00:53:29,921 : INFO : EPOCH 4 - PROGRESS: at 77.54% examples, 1192364 words/s, in_qsize 0, out_qsize 1\n",
      "2024-04-28 00:53:30,925 : INFO : EPOCH 4 - PROGRESS: at 84.48% examples, 1154273 words/s, in_qsize 0, out_qsize 0\n",
      "2024-04-28 00:53:31,927 : INFO : EPOCH 4 - PROGRESS: at 91.42% examples, 1124180 words/s, in_qsize 0, out_qsize 0\n",
      "2024-04-28 00:53:32,933 : INFO : EPOCH 4 - PROGRESS: at 98.59% examples, 1101233 words/s, in_qsize 0, out_qsize 0\n",
      "2024-04-28 00:53:33,121 : INFO : EPOCH 4: training on 17005207 raw words (12333535 effective words) took 11.2s, 1098260 effective words/s\n",
      "2024-04-28 00:53:33,121 : INFO : Word2Vec lifecycle event {'msg': 'training on 85026035 raw words (61671759 effective words) took 38.3s, 1609681 effective words/s', 'datetime': '2024-04-28T00:53:33.121763', 'gensim': '4.3.0', 'python': '3.11.5 | packaged by Anaconda, Inc. | (main, Sep 11 2023, 13:26:23) [MSC v.1916 64 bit (AMD64)]', 'platform': 'Windows-10-10.0.22621-SP0', 'event': 'train'}\n",
      "2024-04-28 00:53:33,121 : INFO : Word2Vec lifecycle event {'params': 'Word2Vec<vocab=47134, vector_size=200, alpha=0.025>', 'datetime': '2024-04-28T00:53:33.121763', 'gensim': '4.3.0', 'python': '3.11.5 | packaged by Anaconda, Inc. | (main, Sep 11 2023, 13:26:23) [MSC v.1916 64 bit (AMD64)]', 'platform': 'Windows-10-10.0.22621-SP0', 'event': 'created'}\n",
      "2024-04-28 00:53:33,122 : INFO : Word2Vec lifecycle event {'fname_or_handle': 'word2vec_gensim', 'separately': 'None', 'sep_limit': 10485760, 'ignore': frozenset(), 'datetime': '2024-04-28T00:53:33.121763', 'gensim': '4.3.0', 'python': '3.11.5 | packaged by Anaconda, Inc. | (main, Sep 11 2023, 13:26:23) [MSC v.1916 64 bit (AMD64)]', 'platform': 'Windows-10-10.0.22621-SP0', 'event': 'saving'}\n",
      "2024-04-28 00:53:33,122 : INFO : not storing attribute cum_table\n",
      "2024-04-28 00:53:33,271 : INFO : saved word2vec_gensim\n",
      "2024-04-28 00:53:33,329 : INFO : storing vocabulary in vocabulary\n",
      "2024-04-28 00:53:33,414 : INFO : storing 47134x200 projection weights into word2vec_org\n"
     ]
    }
   ],
   "source": [
    "# window=10\n",
    "!python word2vec.py"
   ]
  },
  {
   "cell_type": "code",
   "execution_count": 26,
   "metadata": {},
   "outputs": [
    {
     "name": "stdout",
     "output_type": "stream",
     "text": [
      "{\"score\": 0.684678346325392, \"errorMsg\": \"success\", \"code\": 0, \"data\": [{\"score\": 0.684678346325392}]}\n"
     ]
    }
   ],
   "source": [
    "!python evaluation.py score.npy"
   ]
  },
  {
   "cell_type": "code",
   "execution_count": 27,
   "metadata": {},
   "outputs": [
    {
     "name": "stdout",
     "output_type": "stream",
     "text": [
      "Total time: 44 s"
     ]
    },
    {
     "name": "stderr",
     "output_type": "stream",
     "text": [
      "2024-04-28 00:58:59,636 : INFO : collecting all words and their counts\n",
      "2024-04-28 00:58:59,637 : INFO : PROGRESS: at sentence #0, processed 0 words, keeping 0 word types\n",
      "2024-04-28 00:59:03,065 : INFO : collected 253854 word types from a corpus of 17005207 raw words and 1701 sentences\n",
      "2024-04-28 00:59:03,065 : INFO : Creating a fresh vocabulary\n",
      "2024-04-28 00:59:03,201 : INFO : Word2Vec lifecycle event {'msg': 'effective_min_count=10 retains 47134 unique words (18.57% of original 253854, drops 206720)', 'datetime': '2024-04-28T00:59:03.183454', 'gensim': '4.3.0', 'python': '3.11.5 | packaged by Anaconda, Inc. | (main, Sep 11 2023, 13:26:23) [MSC v.1916 64 bit (AMD64)]', 'platform': 'Windows-10-10.0.22621-SP0', 'event': 'prepare_vocab'}\n",
      "2024-04-28 00:59:03,201 : INFO : Word2Vec lifecycle event {'msg': 'effective_min_count=10 leaves 16561031 word corpus (97.39% of original 17005207, drops 444176)', 'datetime': '2024-04-28T00:59:03.201523', 'gensim': '4.3.0', 'python': '3.11.5 | packaged by Anaconda, Inc. | (main, Sep 11 2023, 13:26:23) [MSC v.1916 64 bit (AMD64)]', 'platform': 'Windows-10-10.0.22621-SP0', 'event': 'prepare_vocab'}\n",
      "2024-04-28 00:59:03,323 : INFO : deleting the raw counts dictionary of 253854 items\n",
      "2024-04-28 00:59:03,328 : INFO : sample=0.001 downsamples 38 most-common words\n",
      "2024-04-28 00:59:03,328 : INFO : Word2Vec lifecycle event {'msg': 'downsampling leaves estimated 12333563.370024087 word corpus (74.5%% of prior 16561031)', 'datetime': '2024-04-28T00:59:03.328679', 'gensim': '4.3.0', 'python': '3.11.5 | packaged by Anaconda, Inc. | (main, Sep 11 2023, 13:26:23) [MSC v.1916 64 bit (AMD64)]', 'platform': 'Windows-10-10.0.22621-SP0', 'event': 'prepare_vocab'}\n",
      "2024-04-28 00:59:03,504 : INFO : estimated required memory for 47134 words and 200 dimensions: 98981400 bytes\n",
      "2024-04-28 00:59:03,504 : INFO : resetting layer weights\n",
      "2024-04-28 00:59:03,535 : INFO : Word2Vec lifecycle event {'update': False, 'trim_rule': 'None', 'datetime': '2024-04-28T00:59:03.535653', 'gensim': '4.3.0', 'python': '3.11.5 | packaged by Anaconda, Inc. | (main, Sep 11 2023, 13:26:23) [MSC v.1916 64 bit (AMD64)]', 'platform': 'Windows-10-10.0.22621-SP0', 'event': 'build_vocab'}\n",
      "2024-04-28 00:59:03,535 : INFO : Word2Vec lifecycle event {'msg': 'training model with 16 workers on 47134 vocabulary and 200 features, using sg=0 hs=0 sample=0.001 negative=5 window=15 shrink_windows=True', 'datetime': '2024-04-28T00:59:03.535653', 'gensim': '4.3.0', 'python': '3.11.5 | packaged by Anaconda, Inc. | (main, Sep 11 2023, 13:26:23) [MSC v.1916 64 bit (AMD64)]', 'platform': 'Windows-10-10.0.22621-SP0', 'event': 'train'}\n",
      "2024-04-28 00:59:04,540 : INFO : EPOCH 0 - PROGRESS: at 16.75% examples, 2051877 words/s, in_qsize 0, out_qsize 0\n",
      "2024-04-28 00:59:05,540 : INFO : EPOCH 0 - PROGRESS: at 30.98% examples, 1909907 words/s, in_qsize 0, out_qsize 0\n",
      "2024-04-28 00:59:06,546 : INFO : EPOCH 0 - PROGRESS: at 41.03% examples, 1686799 words/s, in_qsize 0, out_qsize 0\n",
      "2024-04-28 00:59:07,547 : INFO : EPOCH 0 - PROGRESS: at 55.44% examples, 1710866 words/s, in_qsize 0, out_qsize 0\n",
      "2024-04-28 00:59:08,548 : INFO : EPOCH 0 - PROGRESS: at 70.14% examples, 1731638 words/s, in_qsize 0, out_qsize 0\n",
      "2024-04-28 00:59:09,554 : INFO : EPOCH 0 - PROGRESS: at 85.07% examples, 1745642 words/s, in_qsize 0, out_qsize 0\n",
      "2024-04-28 00:59:10,554 : INFO : EPOCH 0 - PROGRESS: at 99.00% examples, 1740745 words/s, in_qsize 0, out_qsize 1\n",
      "2024-04-28 00:59:10,620 : INFO : EPOCH 0: training on 17005207 raw words (12332944 effective words) took 7.1s, 1741814 effective words/s\n",
      "2024-04-28 00:59:11,630 : INFO : EPOCH 1 - PROGRESS: at 14.11% examples, 1716240 words/s, in_qsize 0, out_qsize 0\n",
      "2024-04-28 00:59:12,636 : INFO : EPOCH 1 - PROGRESS: at 29.45% examples, 1804419 words/s, in_qsize 0, out_qsize 0\n",
      "2024-04-28 00:59:13,637 : INFO : EPOCH 1 - PROGRESS: at 44.33% examples, 1817941 words/s, in_qsize 0, out_qsize 0\n",
      "2024-04-28 00:59:14,641 : INFO : EPOCH 1 - PROGRESS: at 56.20% examples, 1730307 words/s, in_qsize 0, out_qsize 0\n",
      "2024-04-28 00:59:15,646 : INFO : EPOCH 1 - PROGRESS: at 66.37% examples, 1634026 words/s, in_qsize 0, out_qsize 1\n",
      "2024-04-28 00:59:16,650 : INFO : EPOCH 1 - PROGRESS: at 79.01% examples, 1618461 words/s, in_qsize 0, out_qsize 0\n",
      "2024-04-28 00:59:17,656 : INFO : EPOCH 1 - PROGRESS: at 93.71% examples, 1643841 words/s, in_qsize 0, out_qsize 0\n",
      "2024-04-28 00:59:18,041 : INFO : EPOCH 1: training on 17005207 raw words (12331264 effective words) took 7.4s, 1662300 effective words/s\n",
      "2024-04-28 00:59:19,052 : INFO : EPOCH 2 - PROGRESS: at 15.23% examples, 1851990 words/s, in_qsize 0, out_qsize 0\n",
      "2024-04-28 00:59:20,054 : INFO : EPOCH 2 - PROGRESS: at 29.34% examples, 1800259 words/s, in_qsize 0, out_qsize 0\n",
      "2024-04-28 00:59:21,057 : INFO : EPOCH 2 - PROGRESS: at 42.56% examples, 1747488 words/s, in_qsize 0, out_qsize 0\n",
      "2024-04-28 00:59:22,057 : INFO : EPOCH 2 - PROGRESS: at 56.55% examples, 1743456 words/s, in_qsize 0, out_qsize 0\n",
      "2024-04-28 00:59:23,063 : INFO : EPOCH 2 - PROGRESS: at 71.49% examples, 1762325 words/s, in_qsize 0, out_qsize 0\n",
      "2024-04-28 00:59:24,066 : INFO : EPOCH 2 - PROGRESS: at 85.01% examples, 1742822 words/s, in_qsize 0, out_qsize 0\n",
      "2024-04-28 00:59:25,066 : INFO : EPOCH 2 - PROGRESS: at 97.00% examples, 1704415 words/s, in_qsize 0, out_qsize 0\n",
      "2024-04-28 00:59:25,259 : INFO : EPOCH 2: training on 17005207 raw words (12334394 effective words) took 7.2s, 1709707 effective words/s\n",
      "2024-04-28 00:59:26,268 : INFO : EPOCH 3 - PROGRESS: at 13.11% examples, 1595223 words/s, in_qsize 0, out_qsize 0\n",
      "2024-04-28 00:59:27,272 : INFO : EPOCH 3 - PROGRESS: at 27.16% examples, 1664730 words/s, in_qsize 0, out_qsize 1\n",
      "2024-04-28 00:59:28,276 : INFO : EPOCH 3 - PROGRESS: at 41.33% examples, 1695266 words/s, in_qsize 0, out_qsize 0\n",
      "2024-04-28 00:59:29,279 : INFO : EPOCH 3 - PROGRESS: at 54.20% examples, 1669482 words/s, in_qsize 0, out_qsize 0\n",
      "2024-04-28 00:59:30,280 : INFO : EPOCH 3 - PROGRESS: at 67.90% examples, 1673883 words/s, in_qsize 0, out_qsize 0\n",
      "2024-04-28 00:59:31,282 : INFO : EPOCH 3 - PROGRESS: at 82.07% examples, 1683113 words/s, in_qsize 0, out_qsize 0\n",
      "2024-04-28 00:59:32,282 : INFO : EPOCH 3 - PROGRESS: at 96.30% examples, 1692705 words/s, in_qsize 0, out_qsize 0\n",
      "2024-04-28 00:59:32,540 : INFO : EPOCH 3: training on 17005207 raw words (12335229 effective words) took 7.3s, 1694940 effective words/s\n",
      "2024-04-28 00:59:33,543 : INFO : EPOCH 4 - PROGRESS: at 14.46% examples, 1771255 words/s, in_qsize 1, out_qsize 0\n",
      "2024-04-28 00:59:34,544 : INFO : EPOCH 4 - PROGRESS: at 28.75% examples, 1771387 words/s, in_qsize 0, out_qsize 1\n",
      "2024-04-28 00:59:35,545 : INFO : EPOCH 4 - PROGRESS: at 42.50% examples, 1750744 words/s, in_qsize 0, out_qsize 1\n",
      "2024-04-28 00:59:36,547 : INFO : EPOCH 4 - PROGRESS: at 55.20% examples, 1705421 words/s, in_qsize 0, out_qsize 0\n",
      "2024-04-28 00:59:37,551 : INFO : EPOCH 4 - PROGRESS: at 67.55% examples, 1668388 words/s, in_qsize 0, out_qsize 0\n",
      "2024-04-28 00:59:38,552 : INFO : EPOCH 4 - PROGRESS: at 79.72% examples, 1637978 words/s, in_qsize 0, out_qsize 0\n",
      "2024-04-28 00:59:39,558 : INFO : EPOCH 4 - PROGRESS: at 92.00% examples, 1618383 words/s, in_qsize 0, out_qsize 0\n",
      "2024-04-28 00:59:40,168 : INFO : EPOCH 4: training on 17005207 raw words (12333709 effective words) took 7.6s, 1617727 effective words/s\n",
      "2024-04-28 00:59:40,168 : INFO : Word2Vec lifecycle event {'msg': 'training on 85026035 raw words (61667540 effective words) took 36.6s, 1683438 effective words/s', 'datetime': '2024-04-28T00:59:40.168017', 'gensim': '4.3.0', 'python': '3.11.5 | packaged by Anaconda, Inc. | (main, Sep 11 2023, 13:26:23) [MSC v.1916 64 bit (AMD64)]', 'platform': 'Windows-10-10.0.22621-SP0', 'event': 'train'}\n",
      "2024-04-28 00:59:40,168 : INFO : Word2Vec lifecycle event {'params': 'Word2Vec<vocab=47134, vector_size=200, alpha=0.025>', 'datetime': '2024-04-28T00:59:40.168017', 'gensim': '4.3.0', 'python': '3.11.5 | packaged by Anaconda, Inc. | (main, Sep 11 2023, 13:26:23) [MSC v.1916 64 bit (AMD64)]', 'platform': 'Windows-10-10.0.22621-SP0', 'event': 'created'}\n",
      "2024-04-28 00:59:40,168 : INFO : Word2Vec lifecycle event {'fname_or_handle': 'word2vec_gensim', 'separately': 'None', 'sep_limit': 10485760, 'ignore': frozenset(), 'datetime': '2024-04-28T00:59:40.168017', 'gensim': '4.3.0', 'python': '3.11.5 | packaged by Anaconda, Inc. | (main, Sep 11 2023, 13:26:23) [MSC v.1916 64 bit (AMD64)]', 'platform': 'Windows-10-10.0.22621-SP0', 'event': 'saving'}\n",
      "2024-04-28 00:59:40,168 : INFO : not storing attribute cum_table\n",
      "2024-04-28 00:59:40,298 : INFO : saved word2vec_gensim\n",
      "2024-04-28 00:59:40,323 : INFO : storing vocabulary in vocabulary\n",
      "2024-04-28 00:59:40,384 : INFO : storing 47134x200 projection weights into word2vec_org\n"
     ]
    },
    {
     "name": "stdout",
     "output_type": "stream",
     "text": [
      "\n"
     ]
    }
   ],
   "source": [
    "# window=15\n",
    "!python word2vec.py"
   ]
  },
  {
   "cell_type": "code",
   "execution_count": 28,
   "metadata": {},
   "outputs": [
    {
     "name": "stdout",
     "output_type": "stream",
     "text": [
      "{\"score\": 0.7034369918501572, \"errorMsg\": \"success\", \"code\": 0, \"data\": [{\"score\": 0.7034369918501572}]}\n"
     ]
    }
   ],
   "source": [
    "!python evaluation.py score.npy"
   ]
  },
  {
   "cell_type": "code",
   "execution_count": 29,
   "metadata": {},
   "outputs": [
    {
     "name": "stdout",
     "output_type": "stream",
     "text": [
      "Total time: 45 s\n"
     ]
    },
    {
     "name": "stderr",
     "output_type": "stream",
     "text": [
      "2024-04-28 01:01:27,835 : INFO : collecting all words and their counts\n",
      "2024-04-28 01:01:27,835 : INFO : PROGRESS: at sentence #0, processed 0 words, keeping 0 word types\n",
      "2024-04-28 01:01:30,934 : INFO : collected 253854 word types from a corpus of 17005207 raw words and 1701 sentences\n",
      "2024-04-28 01:01:30,934 : INFO : Creating a fresh vocabulary\n",
      "2024-04-28 01:01:31,098 : INFO : Word2Vec lifecycle event {'msg': 'effective_min_count=10 retains 47134 unique words (18.57% of original 253854, drops 206720)', 'datetime': '2024-04-28T01:01:31.080938', 'gensim': '4.3.0', 'python': '3.11.5 | packaged by Anaconda, Inc. | (main, Sep 11 2023, 13:26:23) [MSC v.1916 64 bit (AMD64)]', 'platform': 'Windows-10-10.0.22621-SP0', 'event': 'prepare_vocab'}\n",
      "2024-04-28 01:01:31,098 : INFO : Word2Vec lifecycle event {'msg': 'effective_min_count=10 leaves 16561031 word corpus (97.39% of original 17005207, drops 444176)', 'datetime': '2024-04-28T01:01:31.098913', 'gensim': '4.3.0', 'python': '3.11.5 | packaged by Anaconda, Inc. | (main, Sep 11 2023, 13:26:23) [MSC v.1916 64 bit (AMD64)]', 'platform': 'Windows-10-10.0.22621-SP0', 'event': 'prepare_vocab'}\n",
      "2024-04-28 01:01:31,216 : INFO : deleting the raw counts dictionary of 253854 items\n",
      "2024-04-28 01:01:31,220 : INFO : sample=0.001 downsamples 38 most-common words\n",
      "2024-04-28 01:01:31,220 : INFO : Word2Vec lifecycle event {'msg': 'downsampling leaves estimated 12333563.370024087 word corpus (74.5%% of prior 16561031)', 'datetime': '2024-04-28T01:01:31.220731', 'gensim': '4.3.0', 'python': '3.11.5 | packaged by Anaconda, Inc. | (main, Sep 11 2023, 13:26:23) [MSC v.1916 64 bit (AMD64)]', 'platform': 'Windows-10-10.0.22621-SP0', 'event': 'prepare_vocab'}\n",
      "2024-04-28 01:01:31,404 : INFO : estimated required memory for 47134 words and 200 dimensions: 98981400 bytes\n",
      "2024-04-28 01:01:31,404 : INFO : resetting layer weights\n",
      "2024-04-28 01:01:31,429 : INFO : Word2Vec lifecycle event {'update': False, 'trim_rule': 'None', 'datetime': '2024-04-28T01:01:31.429789', 'gensim': '4.3.0', 'python': '3.11.5 | packaged by Anaconda, Inc. | (main, Sep 11 2023, 13:26:23) [MSC v.1916 64 bit (AMD64)]', 'platform': 'Windows-10-10.0.22621-SP0', 'event': 'build_vocab'}\n",
      "2024-04-28 01:01:31,429 : INFO : Word2Vec lifecycle event {'msg': 'training model with 16 workers on 47134 vocabulary and 200 features, using sg=0 hs=0 sample=0.001 negative=5 window=20 shrink_windows=True', 'datetime': '2024-04-28T01:01:31.429789', 'gensim': '4.3.0', 'python': '3.11.5 | packaged by Anaconda, Inc. | (main, Sep 11 2023, 13:26:23) [MSC v.1916 64 bit (AMD64)]', 'platform': 'Windows-10-10.0.22621-SP0', 'event': 'train'}\n",
      "2024-04-28 01:01:32,436 : INFO : EPOCH 0 - PROGRESS: at 12.52% examples, 1526294 words/s, in_qsize 0, out_qsize 0\n",
      "2024-04-28 01:01:33,441 : INFO : EPOCH 0 - PROGRESS: at 28.22% examples, 1732806 words/s, in_qsize 0, out_qsize 1\n",
      "2024-04-28 01:01:34,444 : INFO : EPOCH 0 - PROGRESS: at 41.21% examples, 1691776 words/s, in_qsize 0, out_qsize 0\n",
      "2024-04-28 01:01:35,443 : INFO : EPOCH 0 - PROGRESS: at 56.85% examples, 1752847 words/s, in_qsize 0, out_qsize 1\n",
      "2024-04-28 01:01:36,449 : INFO : EPOCH 0 - PROGRESS: at 70.49% examples, 1738352 words/s, in_qsize 0, out_qsize 1\n",
      "2024-04-28 01:01:37,455 : INFO : EPOCH 0 - PROGRESS: at 83.66% examples, 1715030 words/s, in_qsize 0, out_qsize 0\n",
      "2024-04-28 01:01:38,455 : INFO : EPOCH 0 - PROGRESS: at 97.12% examples, 1706193 words/s, in_qsize 0, out_qsize 0\n",
      "2024-04-28 01:01:38,646 : INFO : EPOCH 0: training on 17005207 raw words (12333617 effective words) took 7.2s, 1710068 effective words/s\n",
      "2024-04-28 01:01:39,650 : INFO : EPOCH 1 - PROGRESS: at 10.58% examples, 1291975 words/s, in_qsize 0, out_qsize 0\n",
      "2024-04-28 01:01:40,655 : INFO : EPOCH 1 - PROGRESS: at 23.87% examples, 1464007 words/s, in_qsize 0, out_qsize 0\n",
      "2024-04-28 01:01:41,656 : INFO : EPOCH 1 - PROGRESS: at 37.51% examples, 1541340 words/s, in_qsize 0, out_qsize 1\n",
      "2024-04-28 01:01:42,659 : INFO : EPOCH 1 - PROGRESS: at 48.21% examples, 1486771 words/s, in_qsize 0, out_qsize 2\n",
      "2024-04-28 01:01:43,661 : INFO : EPOCH 1 - PROGRESS: at 60.20% examples, 1485803 words/s, in_qsize 0, out_qsize 0\n",
      "2024-04-28 01:01:44,665 : INFO : EPOCH 1 - PROGRESS: at 72.84% examples, 1498063 words/s, in_qsize 0, out_qsize 1\n",
      "2024-04-28 01:01:45,665 : INFO : EPOCH 1 - PROGRESS: at 81.66% examples, 1436788 words/s, in_qsize 0, out_qsize 1\n",
      "2024-04-28 01:01:46,668 : INFO : EPOCH 1 - PROGRESS: at 94.12% examples, 1448387 words/s, in_qsize 0, out_qsize 0\n",
      "2024-04-28 01:01:47,111 : INFO : EPOCH 1: training on 17005207 raw words (12334354 effective words) took 8.5s, 1457500 effective words/s\n",
      "2024-04-28 01:01:48,116 : INFO : EPOCH 2 - PROGRESS: at 13.40% examples, 1639910 words/s, in_qsize 0, out_qsize 0\n",
      "2024-04-28 01:01:49,124 : INFO : EPOCH 2 - PROGRESS: at 27.51% examples, 1687717 words/s, in_qsize 0, out_qsize 0\n",
      "2024-04-28 01:01:50,126 : INFO : EPOCH 2 - PROGRESS: at 41.74% examples, 1713402 words/s, in_qsize 0, out_qsize 0\n",
      "2024-04-28 01:01:51,128 : INFO : EPOCH 2 - PROGRESS: at 55.56% examples, 1711983 words/s, in_qsize 0, out_qsize 0\n",
      "2024-04-28 01:01:52,128 : INFO : EPOCH 2 - PROGRESS: at 69.49% examples, 1714149 words/s, in_qsize 0, out_qsize 2\n",
      "2024-04-28 01:01:53,131 : INFO : EPOCH 2 - PROGRESS: at 80.89% examples, 1659975 words/s, in_qsize 0, out_qsize 0\n",
      "2024-04-28 01:01:54,136 : INFO : EPOCH 2 - PROGRESS: at 91.36% examples, 1605602 words/s, in_qsize 0, out_qsize 0\n",
      "2024-04-28 01:01:54,939 : INFO : EPOCH 2: training on 17005207 raw words (12333094 effective words) took 7.8s, 1576235 effective words/s\n",
      "2024-04-28 01:01:55,948 : INFO : EPOCH 3 - PROGRESS: at 12.93% examples, 1578091 words/s, in_qsize 0, out_qsize 0\n",
      "2024-04-28 01:01:56,951 : INFO : EPOCH 3 - PROGRESS: at 26.57% examples, 1631386 words/s, in_qsize 1, out_qsize 0\n",
      "2024-04-28 01:01:57,956 : INFO : EPOCH 3 - PROGRESS: at 41.27% examples, 1694107 words/s, in_qsize 0, out_qsize 0\n",
      "2024-04-28 01:01:58,958 : INFO : EPOCH 3 - PROGRESS: at 55.09% examples, 1697785 words/s, in_qsize 0, out_qsize 0\n",
      "2024-04-28 01:01:59,960 : INFO : EPOCH 3 - PROGRESS: at 68.78% examples, 1696531 words/s, in_qsize 0, out_qsize 0\n",
      "2024-04-28 01:02:00,964 : INFO : EPOCH 3 - PROGRESS: at 81.42% examples, 1670116 words/s, in_qsize 0, out_qsize 0\n",
      "2024-04-28 01:02:01,979 : INFO : EPOCH 3 - PROGRESS: at 93.18% examples, 1634857 words/s, in_qsize 0, out_qsize 0\n",
      "2024-04-28 01:02:02,520 : INFO : EPOCH 3: training on 17005207 raw words (12334833 effective words) took 7.6s, 1628275 effective words/s\n",
      "2024-04-28 01:02:03,533 : INFO : EPOCH 4 - PROGRESS: at 12.76% examples, 1548886 words/s, in_qsize 0, out_qsize 1\n",
      "2024-04-28 01:02:04,536 : INFO : EPOCH 4 - PROGRESS: at 26.69% examples, 1634119 words/s, in_qsize 0, out_qsize 1\n",
      "2024-04-28 01:02:05,539 : INFO : EPOCH 4 - PROGRESS: at 40.62% examples, 1665839 words/s, in_qsize 0, out_qsize 0\n",
      "2024-04-28 01:02:06,540 : INFO : EPOCH 4 - PROGRESS: at 54.03% examples, 1664503 words/s, in_qsize 0, out_qsize 0\n",
      "2024-04-28 01:02:07,548 : INFO : EPOCH 4 - PROGRESS: at 67.49% examples, 1661913 words/s, in_qsize 0, out_qsize 1\n",
      "2024-04-28 01:02:08,549 : INFO : EPOCH 4 - PROGRESS: at 81.25% examples, 1665160 words/s, in_qsize 0, out_qsize 0\n",
      "2024-04-28 01:02:09,552 : INFO : EPOCH 4 - PROGRESS: at 92.36% examples, 1621798 words/s, in_qsize 0, out_qsize 0\n",
      "2024-04-28 01:02:10,210 : INFO : EPOCH 4: training on 17005207 raw words (12333546 effective words) took 7.7s, 1605043 effective words/s\n",
      "2024-04-28 01:02:10,210 : INFO : Word2Vec lifecycle event {'msg': 'training on 85026035 raw words (61669444 effective words) took 38.8s, 1590228 effective words/s', 'datetime': '2024-04-28T01:02:10.210437', 'gensim': '4.3.0', 'python': '3.11.5 | packaged by Anaconda, Inc. | (main, Sep 11 2023, 13:26:23) [MSC v.1916 64 bit (AMD64)]', 'platform': 'Windows-10-10.0.22621-SP0', 'event': 'train'}\n",
      "2024-04-28 01:02:10,210 : INFO : Word2Vec lifecycle event {'params': 'Word2Vec<vocab=47134, vector_size=200, alpha=0.025>', 'datetime': '2024-04-28T01:02:10.210437', 'gensim': '4.3.0', 'python': '3.11.5 | packaged by Anaconda, Inc. | (main, Sep 11 2023, 13:26:23) [MSC v.1916 64 bit (AMD64)]', 'platform': 'Windows-10-10.0.22621-SP0', 'event': 'created'}\n",
      "2024-04-28 01:02:10,210 : INFO : Word2Vec lifecycle event {'fname_or_handle': 'word2vec_gensim', 'separately': 'None', 'sep_limit': 10485760, 'ignore': frozenset(), 'datetime': '2024-04-28T01:02:10.210991', 'gensim': '4.3.0', 'python': '3.11.5 | packaged by Anaconda, Inc. | (main, Sep 11 2023, 13:26:23) [MSC v.1916 64 bit (AMD64)]', 'platform': 'Windows-10-10.0.22621-SP0', 'event': 'saving'}\n",
      "2024-04-28 01:02:10,210 : INFO : not storing attribute cum_table\n",
      "2024-04-28 01:02:10,308 : INFO : saved word2vec_gensim\n",
      "2024-04-28 01:02:10,360 : INFO : storing vocabulary in vocabulary\n",
      "2024-04-28 01:02:10,420 : INFO : storing 47134x200 projection weights into word2vec_org\n"
     ]
    }
   ],
   "source": [
    "# window=20\n",
    "!python word2vec.py"
   ]
  },
  {
   "cell_type": "code",
   "execution_count": 30,
   "metadata": {},
   "outputs": [
    {
     "name": "stdout",
     "output_type": "stream",
     "text": [
      "{\"score\": 0.7132489339996146, \"errorMsg\": \"success\", \"code\": 0, \"data\": [{\"score\": 0.7132489339996146}]}\n"
     ]
    }
   ],
   "source": [
    "!python evaluation.py score.npy"
   ]
  },
  {
   "cell_type": "code",
   "execution_count": 31,
   "metadata": {},
   "outputs": [
    {
     "name": "stdout",
     "output_type": "stream",
     "text": [
      "Total time: 42 s\n"
     ]
    },
    {
     "name": "stderr",
     "output_type": "stream",
     "text": [
      "2024-04-28 01:03:06,704 : INFO : collecting all words and their counts\n",
      "2024-04-28 01:03:06,704 : INFO : PROGRESS: at sentence #0, processed 0 words, keeping 0 word types\n",
      "2024-04-28 01:03:09,971 : INFO : collected 253854 word types from a corpus of 17005207 raw words and 1701 sentences\n",
      "2024-04-28 01:03:09,971 : INFO : Creating a fresh vocabulary\n",
      "2024-04-28 01:03:10,125 : INFO : Word2Vec lifecycle event {'msg': 'effective_min_count=10 retains 47134 unique words (18.57% of original 253854, drops 206720)', 'datetime': '2024-04-28T01:03:10.095895', 'gensim': '4.3.0', 'python': '3.11.5 | packaged by Anaconda, Inc. | (main, Sep 11 2023, 13:26:23) [MSC v.1916 64 bit (AMD64)]', 'platform': 'Windows-10-10.0.22621-SP0', 'event': 'prepare_vocab'}\n",
      "2024-04-28 01:03:10,125 : INFO : Word2Vec lifecycle event {'msg': 'effective_min_count=10 leaves 16561031 word corpus (97.39% of original 17005207, drops 444176)', 'datetime': '2024-04-28T01:03:10.125813', 'gensim': '4.3.0', 'python': '3.11.5 | packaged by Anaconda, Inc. | (main, Sep 11 2023, 13:26:23) [MSC v.1916 64 bit (AMD64)]', 'platform': 'Windows-10-10.0.22621-SP0', 'event': 'prepare_vocab'}\n",
      "2024-04-28 01:03:10,254 : INFO : deleting the raw counts dictionary of 253854 items\n",
      "2024-04-28 01:03:10,257 : INFO : sample=0.001 downsamples 38 most-common words\n",
      "2024-04-28 01:03:10,257 : INFO : Word2Vec lifecycle event {'msg': 'downsampling leaves estimated 12333563.370024087 word corpus (74.5%% of prior 16561031)', 'datetime': '2024-04-28T01:03:10.257578', 'gensim': '4.3.0', 'python': '3.11.5 | packaged by Anaconda, Inc. | (main, Sep 11 2023, 13:26:23) [MSC v.1916 64 bit (AMD64)]', 'platform': 'Windows-10-10.0.22621-SP0', 'event': 'prepare_vocab'}\n",
      "2024-04-28 01:03:10,438 : INFO : estimated required memory for 47134 words and 200 dimensions: 98981400 bytes\n",
      "2024-04-28 01:03:10,438 : INFO : resetting layer weights\n",
      "2024-04-28 01:03:10,467 : INFO : Word2Vec lifecycle event {'update': False, 'trim_rule': 'None', 'datetime': '2024-04-28T01:03:10.467623', 'gensim': '4.3.0', 'python': '3.11.5 | packaged by Anaconda, Inc. | (main, Sep 11 2023, 13:26:23) [MSC v.1916 64 bit (AMD64)]', 'platform': 'Windows-10-10.0.22621-SP0', 'event': 'build_vocab'}\n",
      "2024-04-28 01:03:10,468 : INFO : Word2Vec lifecycle event {'msg': 'training model with 16 workers on 47134 vocabulary and 200 features, using sg=0 hs=0 sample=0.001 negative=5 window=25 shrink_windows=True', 'datetime': '2024-04-28T01:03:10.468130', 'gensim': '4.3.0', 'python': '3.11.5 | packaged by Anaconda, Inc. | (main, Sep 11 2023, 13:26:23) [MSC v.1916 64 bit (AMD64)]', 'platform': 'Windows-10-10.0.22621-SP0', 'event': 'train'}\n",
      "2024-04-28 01:03:11,473 : INFO : EPOCH 0 - PROGRESS: at 15.70% examples, 1919712 words/s, in_qsize 0, out_qsize 1\n",
      "2024-04-28 01:03:12,473 : INFO : EPOCH 0 - PROGRESS: at 30.86% examples, 1902801 words/s, in_qsize 0, out_qsize 0\n",
      "2024-04-28 01:03:13,474 : INFO : EPOCH 0 - PROGRESS: at 45.50% examples, 1873956 words/s, in_qsize 0, out_qsize 0\n",
      "2024-04-28 01:03:14,479 : INFO : EPOCH 0 - PROGRESS: at 59.61% examples, 1839924 words/s, in_qsize 0, out_qsize 1\n",
      "2024-04-28 01:03:15,481 : INFO : EPOCH 0 - PROGRESS: at 75.66% examples, 1866625 words/s, in_qsize 0, out_qsize 0\n",
      "2024-04-28 01:03:16,482 : INFO : EPOCH 0 - PROGRESS: at 91.48% examples, 1878165 words/s, in_qsize 0, out_qsize 0\n",
      "2024-04-28 01:03:17,005 : INFO : EPOCH 0: training on 17005207 raw words (12332933 effective words) took 6.5s, 1887517 effective words/s\n",
      "2024-04-28 01:03:18,019 : INFO : EPOCH 1 - PROGRESS: at 16.34% examples, 1979090 words/s, in_qsize 0, out_qsize 1\n",
      "2024-04-28 01:03:19,018 : INFO : EPOCH 1 - PROGRESS: at 32.04% examples, 1965618 words/s, in_qsize 0, out_qsize 1\n",
      "2024-04-28 01:03:20,023 : INFO : EPOCH 1 - PROGRESS: at 45.39% examples, 1860789 words/s, in_qsize 0, out_qsize 0\n",
      "2024-04-28 01:03:21,025 : INFO : EPOCH 1 - PROGRESS: at 58.32% examples, 1795381 words/s, in_qsize 0, out_qsize 0\n",
      "2024-04-28 01:03:22,029 : INFO : EPOCH 1 - PROGRESS: at 71.84% examples, 1769837 words/s, in_qsize 0, out_qsize 1\n",
      "2024-04-28 01:03:23,033 : INFO : EPOCH 1 - PROGRESS: at 85.66% examples, 1754889 words/s, in_qsize 0, out_qsize 0\n",
      "2024-04-28 01:03:24,035 : INFO : EPOCH 1 - PROGRESS: at 99.35% examples, 1743985 words/s, in_qsize 0, out_qsize 1\n",
      "2024-04-28 01:03:24,064 : INFO : EPOCH 1: training on 17005207 raw words (12333975 effective words) took 7.1s, 1747863 effective words/s\n",
      "2024-04-28 01:03:25,066 : INFO : EPOCH 2 - PROGRESS: at 13.35% examples, 1634037 words/s, in_qsize 0, out_qsize 0\n",
      "2024-04-28 01:03:26,071 : INFO : EPOCH 2 - PROGRESS: at 26.34% examples, 1618243 words/s, in_qsize 0, out_qsize 0\n",
      "2024-04-28 01:03:27,072 : INFO : EPOCH 2 - PROGRESS: at 39.09% examples, 1607932 words/s, in_qsize 0, out_qsize 1\n",
      "2024-04-28 01:03:28,074 : INFO : EPOCH 2 - PROGRESS: at 52.67% examples, 1625617 words/s, in_qsize 0, out_qsize 0\n",
      "2024-04-28 01:03:29,084 : INFO : EPOCH 2 - PROGRESS: at 66.31% examples, 1634697 words/s, in_qsize 0, out_qsize 0\n",
      "2024-04-28 01:03:30,092 : INFO : EPOCH 2 - PROGRESS: at 79.78% examples, 1634846 words/s, in_qsize 0, out_qsize 1\n",
      "2024-04-28 01:03:31,094 : INFO : EPOCH 2 - PROGRESS: at 93.36% examples, 1639579 words/s, in_qsize 0, out_qsize 0\n",
      "2024-04-28 01:03:31,578 : INFO : EPOCH 2: training on 17005207 raw words (12334077 effective words) took 7.5s, 1642006 effective words/s\n",
      "2024-04-28 01:03:32,592 : INFO : EPOCH 3 - PROGRESS: at 12.29% examples, 1487578 words/s, in_qsize 0, out_qsize 1\n",
      "2024-04-28 01:03:33,600 : INFO : EPOCH 3 - PROGRESS: at 25.16% examples, 1533001 words/s, in_qsize 0, out_qsize 0\n",
      "2024-04-28 01:03:34,604 : INFO : EPOCH 3 - PROGRESS: at 38.80% examples, 1585883 words/s, in_qsize 0, out_qsize 0\n",
      "2024-04-28 01:03:35,608 : INFO : EPOCH 3 - PROGRESS: at 51.85% examples, 1592245 words/s, in_qsize 0, out_qsize 1\n",
      "2024-04-28 01:03:36,616 : INFO : EPOCH 3 - PROGRESS: at 65.02% examples, 1597160 words/s, in_qsize 0, out_qsize 1\n",
      "2024-04-28 01:03:37,624 : INFO : EPOCH 3 - PROGRESS: at 78.31% examples, 1600061 words/s, in_qsize 0, out_qsize 0\n",
      "2024-04-28 01:03:38,627 : INFO : EPOCH 3 - PROGRESS: at 91.24% examples, 1598336 words/s, in_qsize 1, out_qsize 0\n",
      "2024-04-28 01:03:39,241 : INFO : EPOCH 3: training on 17005207 raw words (12335144 effective words) took 7.7s, 1610203 effective words/s\n",
      "2024-04-28 01:03:40,250 : INFO : EPOCH 4 - PROGRESS: at 13.40% examples, 1630705 words/s, in_qsize 0, out_qsize 0\n",
      "2024-04-28 01:03:41,256 : INFO : EPOCH 4 - PROGRESS: at 26.63% examples, 1629571 words/s, in_qsize 0, out_qsize 0\n",
      "2024-04-28 01:03:42,257 : INFO : EPOCH 4 - PROGRESS: at 39.74% examples, 1630236 words/s, in_qsize 0, out_qsize 0\n",
      "2024-04-28 01:03:43,262 : INFO : EPOCH 4 - PROGRESS: at 53.20% examples, 1637257 words/s, in_qsize 0, out_qsize 0\n",
      "2024-04-28 01:03:44,262 : INFO : EPOCH 4 - PROGRESS: at 66.61% examples, 1641491 words/s, in_qsize 0, out_qsize 1\n",
      "2024-04-28 01:03:45,270 : INFO : EPOCH 4 - PROGRESS: at 79.54% examples, 1629386 words/s, in_qsize 0, out_qsize 0\n",
      "2024-04-28 01:03:46,270 : INFO : EPOCH 4 - PROGRESS: at 93.00% examples, 1633114 words/s, in_qsize 0, out_qsize 0\n",
      "2024-04-28 01:03:46,763 : INFO : EPOCH 4: training on 17005207 raw words (12332273 effective words) took 7.5s, 1639979 effective words/s\n",
      "2024-04-28 01:03:46,764 : INFO : Word2Vec lifecycle event {'msg': 'training on 85026035 raw words (61668402 effective words) took 36.3s, 1699007 effective words/s', 'datetime': '2024-04-28T01:03:46.764810', 'gensim': '4.3.0', 'python': '3.11.5 | packaged by Anaconda, Inc. | (main, Sep 11 2023, 13:26:23) [MSC v.1916 64 bit (AMD64)]', 'platform': 'Windows-10-10.0.22621-SP0', 'event': 'train'}\n",
      "2024-04-28 01:03:46,764 : INFO : Word2Vec lifecycle event {'params': 'Word2Vec<vocab=47134, vector_size=200, alpha=0.025>', 'datetime': '2024-04-28T01:03:46.764810', 'gensim': '4.3.0', 'python': '3.11.5 | packaged by Anaconda, Inc. | (main, Sep 11 2023, 13:26:23) [MSC v.1916 64 bit (AMD64)]', 'platform': 'Windows-10-10.0.22621-SP0', 'event': 'created'}\n",
      "2024-04-28 01:03:46,764 : INFO : Word2Vec lifecycle event {'fname_or_handle': 'word2vec_gensim', 'separately': 'None', 'sep_limit': 10485760, 'ignore': frozenset(), 'datetime': '2024-04-28T01:03:46.764810', 'gensim': '4.3.0', 'python': '3.11.5 | packaged by Anaconda, Inc. | (main, Sep 11 2023, 13:26:23) [MSC v.1916 64 bit (AMD64)]', 'platform': 'Windows-10-10.0.22621-SP0', 'event': 'saving'}\n",
      "2024-04-28 01:03:46,764 : INFO : not storing attribute cum_table\n",
      "2024-04-28 01:03:46,844 : INFO : saved word2vec_gensim\n",
      "2024-04-28 01:03:46,863 : INFO : storing vocabulary in vocabulary\n",
      "2024-04-28 01:03:46,893 : INFO : storing 47134x200 projection weights into word2vec_org\n"
     ]
    }
   ],
   "source": [
    "# window=25\n",
    "!python word2vec.py"
   ]
  },
  {
   "cell_type": "code",
   "execution_count": 32,
   "metadata": {},
   "outputs": [
    {
     "name": "stdout",
     "output_type": "stream",
     "text": [
      "{\"score\": 0.7193900469514843, \"errorMsg\": \"success\", \"code\": 0, \"data\": [{\"score\": 0.7193900469514843}]}\n"
     ]
    }
   ],
   "source": [
    "!python evaluation.py score.npy"
   ]
  },
  {
   "cell_type": "code",
   "execution_count": 35,
   "metadata": {},
   "outputs": [
    {
     "name": "stdout",
     "output_type": "stream",
     "text": [
      "Total time: 47 s\n"
     ]
    },
    {
     "name": "stderr",
     "output_type": "stream",
     "text": [
      "2024-04-28 01:07:06,276 : INFO : collecting all words and their counts\n",
      "2024-04-28 01:07:06,278 : INFO : PROGRESS: at sentence #0, processed 0 words, keeping 0 word types\n",
      "2024-04-28 01:07:09,318 : INFO : collected 253854 word types from a corpus of 17005207 raw words and 1701 sentences\n",
      "2024-04-28 01:07:09,318 : INFO : Creating a fresh vocabulary\n",
      "2024-04-28 01:07:09,454 : INFO : Word2Vec lifecycle event {'msg': 'effective_min_count=10 retains 47134 unique words (18.57% of original 253854, drops 206720)', 'datetime': '2024-04-28T01:07:09.436168', 'gensim': '4.3.0', 'python': '3.11.5 | packaged by Anaconda, Inc. | (main, Sep 11 2023, 13:26:23) [MSC v.1916 64 bit (AMD64)]', 'platform': 'Windows-10-10.0.22621-SP0', 'event': 'prepare_vocab'}\n",
      "2024-04-28 01:07:09,455 : INFO : Word2Vec lifecycle event {'msg': 'effective_min_count=10 leaves 16561031 word corpus (97.39% of original 17005207, drops 444176)', 'datetime': '2024-04-28T01:07:09.455636', 'gensim': '4.3.0', 'python': '3.11.5 | packaged by Anaconda, Inc. | (main, Sep 11 2023, 13:26:23) [MSC v.1916 64 bit (AMD64)]', 'platform': 'Windows-10-10.0.22621-SP0', 'event': 'prepare_vocab'}\n",
      "2024-04-28 01:07:09,579 : INFO : deleting the raw counts dictionary of 253854 items\n",
      "2024-04-28 01:07:09,583 : INFO : sample=0.001 downsamples 38 most-common words\n",
      "2024-04-28 01:07:09,583 : INFO : Word2Vec lifecycle event {'msg': 'downsampling leaves estimated 12333563.370024087 word corpus (74.5%% of prior 16561031)', 'datetime': '2024-04-28T01:07:09.583936', 'gensim': '4.3.0', 'python': '3.11.5 | packaged by Anaconda, Inc. | (main, Sep 11 2023, 13:26:23) [MSC v.1916 64 bit (AMD64)]', 'platform': 'Windows-10-10.0.22621-SP0', 'event': 'prepare_vocab'}\n",
      "2024-04-28 01:07:09,761 : INFO : estimated required memory for 47134 words and 200 dimensions: 98981400 bytes\n",
      "2024-04-28 01:07:09,761 : INFO : resetting layer weights\n",
      "2024-04-28 01:07:09,794 : INFO : Word2Vec lifecycle event {'update': False, 'trim_rule': 'None', 'datetime': '2024-04-28T01:07:09.794121', 'gensim': '4.3.0', 'python': '3.11.5 | packaged by Anaconda, Inc. | (main, Sep 11 2023, 13:26:23) [MSC v.1916 64 bit (AMD64)]', 'platform': 'Windows-10-10.0.22621-SP0', 'event': 'build_vocab'}\n",
      "2024-04-28 01:07:09,794 : INFO : Word2Vec lifecycle event {'msg': 'training model with 16 workers on 47134 vocabulary and 200 features, using sg=0 hs=0 sample=0.001 negative=5 window=30 shrink_windows=True', 'datetime': '2024-04-28T01:07:09.794121', 'gensim': '4.3.0', 'python': '3.11.5 | packaged by Anaconda, Inc. | (main, Sep 11 2023, 13:26:23) [MSC v.1916 64 bit (AMD64)]', 'platform': 'Windows-10-10.0.22621-SP0', 'event': 'train'}\n",
      "2024-04-28 01:07:10,804 : INFO : EPOCH 0 - PROGRESS: at 12.40% examples, 1512300 words/s, in_qsize 0, out_qsize 0\n",
      "2024-04-28 01:07:11,809 : INFO : EPOCH 0 - PROGRESS: at 25.51% examples, 1563041 words/s, in_qsize 0, out_qsize 0\n",
      "2024-04-28 01:07:12,810 : INFO : EPOCH 0 - PROGRESS: at 37.27% examples, 1530675 words/s, in_qsize 0, out_qsize 0\n",
      "2024-04-28 01:07:13,813 : INFO : EPOCH 0 - PROGRESS: at 49.74% examples, 1532858 words/s, in_qsize 0, out_qsize 0\n",
      "2024-04-28 01:07:14,820 : INFO : EPOCH 0 - PROGRESS: at 62.85% examples, 1548739 words/s, in_qsize 0, out_qsize 0\n",
      "2024-04-28 01:07:15,821 : INFO : EPOCH 0 - PROGRESS: at 75.49% examples, 1550022 words/s, in_qsize 0, out_qsize 0\n",
      "2024-04-28 01:07:16,826 : INFO : EPOCH 0 - PROGRESS: at 88.77% examples, 1559504 words/s, in_qsize 0, out_qsize 1\n",
      "2024-04-28 01:07:17,607 : INFO : EPOCH 0: training on 17005207 raw words (12334746 effective words) took 7.8s, 1579905 effective words/s\n",
      "2024-04-28 01:07:18,615 : INFO : EPOCH 1 - PROGRESS: at 13.40% examples, 1632580 words/s, in_qsize 0, out_qsize 0\n",
      "2024-04-28 01:07:19,620 : INFO : EPOCH 1 - PROGRESS: at 25.22% examples, 1543268 words/s, in_qsize 0, out_qsize 0\n",
      "2024-04-28 01:07:20,624 : INFO : EPOCH 1 - PROGRESS: at 37.33% examples, 1530328 words/s, in_qsize 0, out_qsize 0\n",
      "2024-04-28 01:07:21,626 : INFO : EPOCH 1 - PROGRESS: at 49.91% examples, 1536782 words/s, in_qsize 0, out_qsize 1\n",
      "2024-04-28 01:07:22,626 : INFO : EPOCH 1 - PROGRESS: at 62.73% examples, 1546480 words/s, in_qsize 1, out_qsize 0\n",
      "2024-04-28 01:07:23,628 : INFO : EPOCH 1 - PROGRESS: at 75.07% examples, 1542494 words/s, in_qsize 0, out_qsize 1\n",
      "2024-04-28 01:07:24,646 : INFO : EPOCH 1 - PROGRESS: at 86.89% examples, 1523983 words/s, in_qsize 0, out_qsize 1\n",
      "2024-04-28 01:07:25,657 : INFO : EPOCH 1 - PROGRESS: at 99.06% examples, 1518367 words/s, in_qsize 0, out_qsize 0\n",
      "2024-04-28 01:07:25,714 : INFO : EPOCH 1: training on 17005207 raw words (12333665 effective words) took 8.1s, 1521851 effective words/s\n",
      "2024-04-28 01:07:26,725 : INFO : EPOCH 2 - PROGRESS: at 11.82% examples, 1434881 words/s, in_qsize 0, out_qsize 1\n",
      "2024-04-28 01:07:27,725 : INFO : EPOCH 2 - PROGRESS: at 23.81% examples, 1459397 words/s, in_qsize 0, out_qsize 3\n",
      "2024-04-28 01:07:28,732 : INFO : EPOCH 2 - PROGRESS: at 35.74% examples, 1465666 words/s, in_qsize 1, out_qsize 0\n",
      "2024-04-28 01:07:29,732 : INFO : EPOCH 2 - PROGRESS: at 47.62% examples, 1466647 words/s, in_qsize 0, out_qsize 0\n",
      "2024-04-28 01:07:30,734 : INFO : EPOCH 2 - PROGRESS: at 59.32% examples, 1462501 words/s, in_qsize 0, out_qsize 0\n",
      "2024-04-28 01:07:31,736 : INFO : EPOCH 2 - PROGRESS: at 71.08% examples, 1461006 words/s, in_qsize 0, out_qsize 0\n",
      "2024-04-28 01:07:32,736 : INFO : EPOCH 2 - PROGRESS: at 82.89% examples, 1457698 words/s, in_qsize 0, out_qsize 2\n",
      "2024-04-28 01:07:33,747 : INFO : EPOCH 2 - PROGRESS: at 94.83% examples, 1457197 words/s, in_qsize 0, out_qsize 0\n",
      "2024-04-28 01:07:34,151 : INFO : EPOCH 2: training on 17005207 raw words (12334090 effective words) took 8.4s, 1462548 effective words/s\n",
      "2024-04-28 01:07:35,159 : INFO : EPOCH 3 - PROGRESS: at 12.52% examples, 1524020 words/s, in_qsize 0, out_qsize 0\n",
      "2024-04-28 01:07:36,166 : INFO : EPOCH 3 - PROGRESS: at 24.69% examples, 1509032 words/s, in_qsize 0, out_qsize 0\n",
      "2024-04-28 01:07:37,170 : INFO : EPOCH 3 - PROGRESS: at 36.45% examples, 1493739 words/s, in_qsize 0, out_qsize 0\n",
      "2024-04-28 01:07:38,170 : INFO : EPOCH 3 - PROGRESS: at 47.68% examples, 1467656 words/s, in_qsize 0, out_qsize 0\n",
      "2024-04-28 01:07:39,171 : INFO : EPOCH 3 - PROGRESS: at 59.20% examples, 1459314 words/s, in_qsize 0, out_qsize 0\n",
      "2024-04-28 01:07:40,182 : INFO : EPOCH 3 - PROGRESS: at 70.84% examples, 1453754 words/s, in_qsize 0, out_qsize 0\n",
      "2024-04-28 01:07:41,186 : INFO : EPOCH 3 - PROGRESS: at 82.72% examples, 1451535 words/s, in_qsize 0, out_qsize 0\n",
      "2024-04-28 01:07:42,198 : INFO : EPOCH 3 - PROGRESS: at 94.83% examples, 1454370 words/s, in_qsize 0, out_qsize 0\n",
      "2024-04-28 01:07:42,644 : INFO : EPOCH 3: training on 17005207 raw words (12334241 effective words) took 8.5s, 1452744 effective words/s\n",
      "2024-04-28 01:07:43,651 : INFO : EPOCH 4 - PROGRESS: at 11.88% examples, 1447553 words/s, in_qsize 0, out_qsize 0\n",
      "2024-04-28 01:07:44,656 : INFO : EPOCH 4 - PROGRESS: at 23.81% examples, 1458891 words/s, in_qsize 0, out_qsize 0\n",
      "2024-04-28 01:07:45,662 : INFO : EPOCH 4 - PROGRESS: at 35.45% examples, 1453782 words/s, in_qsize 0, out_qsize 1\n",
      "2024-04-28 01:07:46,669 : INFO : EPOCH 4 - PROGRESS: at 47.50% examples, 1461063 words/s, in_qsize 0, out_qsize 0\n",
      "2024-04-28 01:07:47,676 : INFO : EPOCH 4 - PROGRESS: at 60.55% examples, 1489497 words/s, in_qsize 0, out_qsize 0\n",
      "2024-04-28 01:07:48,678 : INFO : EPOCH 4 - PROGRESS: at 73.49% examples, 1507530 words/s, in_qsize 0, out_qsize 0\n",
      "2024-04-28 01:07:49,680 : INFO : EPOCH 4 - PROGRESS: at 86.18% examples, 1512858 words/s, in_qsize 0, out_qsize 1\n",
      "2024-04-28 01:07:50,681 : INFO : EPOCH 4 - PROGRESS: at 98.47% examples, 1511902 words/s, in_qsize 0, out_qsize 0\n",
      "2024-04-28 01:07:50,799 : INFO : EPOCH 4: training on 17005207 raw words (12333624 effective words) took 8.2s, 1513123 effective words/s\n",
      "2024-04-28 01:07:50,799 : INFO : Word2Vec lifecycle event {'msg': 'training on 85026035 raw words (61670366 effective words) took 41.0s, 1503972 effective words/s', 'datetime': '2024-04-28T01:07:50.799137', 'gensim': '4.3.0', 'python': '3.11.5 | packaged by Anaconda, Inc. | (main, Sep 11 2023, 13:26:23) [MSC v.1916 64 bit (AMD64)]', 'platform': 'Windows-10-10.0.22621-SP0', 'event': 'train'}\n",
      "2024-04-28 01:07:50,799 : INFO : Word2Vec lifecycle event {'params': 'Word2Vec<vocab=47134, vector_size=200, alpha=0.025>', 'datetime': '2024-04-28T01:07:50.799137', 'gensim': '4.3.0', 'python': '3.11.5 | packaged by Anaconda, Inc. | (main, Sep 11 2023, 13:26:23) [MSC v.1916 64 bit (AMD64)]', 'platform': 'Windows-10-10.0.22621-SP0', 'event': 'created'}\n",
      "2024-04-28 01:07:50,799 : INFO : Word2Vec lifecycle event {'fname_or_handle': 'word2vec_gensim', 'separately': 'None', 'sep_limit': 10485760, 'ignore': frozenset(), 'datetime': '2024-04-28T01:07:50.799137', 'gensim': '4.3.0', 'python': '3.11.5 | packaged by Anaconda, Inc. | (main, Sep 11 2023, 13:26:23) [MSC v.1916 64 bit (AMD64)]', 'platform': 'Windows-10-10.0.22621-SP0', 'event': 'saving'}\n",
      "2024-04-28 01:07:50,800 : INFO : not storing attribute cum_table\n",
      "2024-04-28 01:07:50,879 : INFO : saved word2vec_gensim\n",
      "2024-04-28 01:07:50,893 : INFO : storing vocabulary in vocabulary\n",
      "2024-04-28 01:07:50,925 : INFO : storing 47134x200 projection weights into word2vec_org\n"
     ]
    }
   ],
   "source": [
    "# window=30\n",
    "!python word2vec.py"
   ]
  },
  {
   "cell_type": "code",
   "execution_count": 37,
   "metadata": {},
   "outputs": [
    {
     "name": "stdout",
     "output_type": "stream",
     "text": [
      "{\"score\": 0.7170033849093149, \"errorMsg\": \"success\", \"code\": 0, \"data\": [{\"score\": 0.7170033849093149}]}\n"
     ]
    }
   ],
   "source": [
    "!python evaluation.py score.npy"
   ]
  },
  {
   "cell_type": "code",
   "execution_count": 38,
   "metadata": {},
   "outputs": [
    {
     "data": {
      "image/png": "[encoded data removed]",
      "text/plain": [
       "<Figure size 640x480 with 2 Axes>"
      ]
     },
     "metadata": {},
     "output_type": "display_data"
    }
   ],
   "source": [
    "import matplotlib.pyplot as plt\n",
    "\n",
    "# 数据\n",
    "window_size = [5, 10, 15, 20, 25, 30]\n",
    "score = [0.6440411455933666, 0.684678346325392, 0.7034369918501572, 0.7132489339996146, 0.7193900469514843, 0.7170033849093149]\n",
    "time = [50, 49, 44, 45, 42, 47]\n",
    "\n",
    "# 创建画布和坐标轴对象\n",
    "fig, ax1 = plt.subplots()\n",
    "\n",
    "# 绘制score折线图\n",
    "ax1.plot(window_size, score, '-', marker='o', label='Score')\n",
    "ax1.set_xlabel('Window Size')\n",
    "ax1.set_ylabel('Score')\n",
    "ax1.tick_params('y')\n",
    "ax1.set_xticks(window_size)\n",
    "\n",
    "# 创建第二个坐标轴对象，共享x轴\n",
    "ax2 = ax1.twinx()\n",
    "# 绘制time折线图\n",
    "ax2.plot(window_size, time, '--', marker='s', label='Time',color='orange')\n",
    "ax2.set_ylabel('Time (s)')\n",
    "ax2.tick_params('y')\n",
    "\n",
    "# 添加图例\n",
    "lines1, labels1 = ax1.get_legend_handles_labels()\n",
    "lines2, labels2 = ax2.get_legend_handles_labels()\n",
    "lines = lines1 + lines2\n",
    "labels = labels1 + labels2\n",
    "ax1.legend(lines, labels, loc='upper right')\n",
    "\n",
    "# 添加网格线\n",
    "ax1.grid(True)\n",
    "\n",
    "# 显示图形\n",
    "plt.show()"
   ]
  },
  {
   "cell_type": "markdown",
   "metadata": {},
   "source": [
    "## 3 min_count 影响"
   ]
  },
  {
   "cell_type": "code",
   "execution_count": 39,
   "metadata": {},
   "outputs": [
    {
     "name": "stdout",
     "output_type": "stream",
     "text": [
      "Total time: 44 s\n"
     ]
    },
    {
     "name": "stderr",
     "output_type": "stream",
     "text": [
      "2024-04-28 01:16:10,155 : INFO : collecting all words and their counts\n",
      "2024-04-28 01:16:10,156 : INFO : PROGRESS: at sentence #0, processed 0 words, keeping 0 word types\n",
      "2024-04-28 01:16:13,123 : INFO : collected 253854 word types from a corpus of 17005207 raw words and 1701 sentences\n",
      "2024-04-28 01:16:13,123 : INFO : Creating a fresh vocabulary\n",
      "2024-04-28 01:16:13,304 : INFO : Word2Vec lifecycle event {'msg': 'effective_min_count=5 retains 71290 unique words (28.08% of original 253854, drops 182564)', 'datetime': '2024-04-28T01:16:13.288019', 'gensim': '4.3.0', 'python': '3.11.5 | packaged by Anaconda, Inc. | (main, Sep 11 2023, 13:26:23) [MSC v.1916 64 bit (AMD64)]', 'platform': 'Windows-10-10.0.22621-SP0', 'event': 'prepare_vocab'}\n",
      "2024-04-28 01:16:13,304 : INFO : Word2Vec lifecycle event {'msg': 'effective_min_count=5 leaves 16718844 word corpus (98.32% of original 17005207, drops 286363)', 'datetime': '2024-04-28T01:16:13.304387', 'gensim': '4.3.0', 'python': '3.11.5 | packaged by Anaconda, Inc. | (main, Sep 11 2023, 13:26:23) [MSC v.1916 64 bit (AMD64)]', 'platform': 'Windows-10-10.0.22621-SP0', 'event': 'prepare_vocab'}\n",
      "2024-04-28 01:16:13,496 : INFO : deleting the raw counts dictionary of 253854 items\n",
      "2024-04-28 01:16:13,500 : INFO : sample=0.001 downsamples 38 most-common words\n",
      "2024-04-28 01:16:13,500 : INFO : Word2Vec lifecycle event {'msg': 'downsampling leaves estimated 12506280.016269669 word corpus (74.8%% of prior 16718844)', 'datetime': '2024-04-28T01:16:13.500715', 'gensim': '4.3.0', 'python': '3.11.5 | packaged by Anaconda, Inc. | (main, Sep 11 2023, 13:26:23) [MSC v.1916 64 bit (AMD64)]', 'platform': 'Windows-10-10.0.22621-SP0', 'event': 'prepare_vocab'}\n",
      "2024-04-28 01:16:13,821 : INFO : estimated required memory for 71290 words and 200 dimensions: 149709000 bytes\n",
      "2024-04-28 01:16:13,821 : INFO : resetting layer weights\n",
      "2024-04-28 01:16:13,876 : INFO : Word2Vec lifecycle event {'update': False, 'trim_rule': 'None', 'datetime': '2024-04-28T01:16:13.876121', 'gensim': '4.3.0', 'python': '3.11.5 | packaged by Anaconda, Inc. | (main, Sep 11 2023, 13:26:23) [MSC v.1916 64 bit (AMD64)]', 'platform': 'Windows-10-10.0.22621-SP0', 'event': 'build_vocab'}\n",
      "2024-04-28 01:16:13,876 : INFO : Word2Vec lifecycle event {'msg': 'training model with 16 workers on 71290 vocabulary and 200 features, using sg=0 hs=0 sample=0.001 negative=5 window=10 shrink_windows=True', 'datetime': '2024-04-28T01:16:13.876121', 'gensim': '4.3.0', 'python': '3.11.5 | packaged by Anaconda, Inc. | (main, Sep 11 2023, 13:26:23) [MSC v.1916 64 bit (AMD64)]', 'platform': 'Windows-10-10.0.22621-SP0', 'event': 'train'}\n",
      "2024-04-28 01:16:14,885 : INFO : EPOCH 0 - PROGRESS: at 14.64% examples, 1810578 words/s, in_qsize 0, out_qsize 0\n",
      "2024-04-28 01:16:15,887 : INFO : EPOCH 0 - PROGRESS: at 29.92% examples, 1866313 words/s, in_qsize 0, out_qsize 0\n",
      "2024-04-28 01:16:16,888 : INFO : EPOCH 0 - PROGRESS: at 44.15% examples, 1840409 words/s, in_qsize 0, out_qsize 0\n",
      "2024-04-28 01:16:17,888 : INFO : EPOCH 0 - PROGRESS: at 59.91% examples, 1875241 words/s, in_qsize 0, out_qsize 0\n",
      "2024-04-28 01:16:18,902 : INFO : EPOCH 0 - PROGRESS: at 76.31% examples, 1903925 words/s, in_qsize 0, out_qsize 4\n",
      "2024-04-28 01:16:19,903 : INFO : EPOCH 0 - PROGRESS: at 90.77% examples, 1886566 words/s, in_qsize 0, out_qsize 1\n",
      "2024-04-28 01:16:20,465 : INFO : EPOCH 0: training on 17005207 raw words (12506146 effective words) took 6.6s, 1899356 effective words/s\n",
      "2024-04-28 01:16:21,470 : INFO : EPOCH 1 - PROGRESS: at 15.70% examples, 1944987 words/s, in_qsize 0, out_qsize 0\n",
      "2024-04-28 01:16:22,476 : INFO : EPOCH 1 - PROGRESS: at 30.34% examples, 1888824 words/s, in_qsize 0, out_qsize 1\n",
      "2024-04-28 01:16:23,480 : INFO : EPOCH 1 - PROGRESS: at 45.33% examples, 1885513 words/s, in_qsize 0, out_qsize 0\n",
      "2024-04-28 01:16:24,482 : INFO : EPOCH 1 - PROGRESS: at 59.49% examples, 1858599 words/s, in_qsize 0, out_qsize 1\n",
      "2024-04-28 01:16:25,488 : INFO : EPOCH 1 - PROGRESS: at 73.49% examples, 1836247 words/s, in_qsize 0, out_qsize 0\n",
      "2024-04-28 01:16:26,489 : INFO : EPOCH 1 - PROGRESS: at 87.95% examples, 1827733 words/s, in_qsize 0, out_qsize 0\n",
      "2024-04-28 01:16:27,313 : INFO : EPOCH 1: training on 17005207 raw words (12506054 effective words) took 6.8s, 1826816 effective words/s\n",
      "2024-04-28 01:16:28,328 : INFO : EPOCH 2 - PROGRESS: at 13.05% examples, 1606182 words/s, in_qsize 1, out_qsize 0\n",
      "2024-04-28 01:16:29,328 : INFO : EPOCH 2 - PROGRESS: at 26.04% examples, 1618094 words/s, in_qsize 0, out_qsize 0\n",
      "2024-04-28 01:16:30,341 : INFO : EPOCH 2 - PROGRESS: at 37.33% examples, 1547481 words/s, in_qsize 0, out_qsize 0\n",
      "2024-04-28 01:16:31,344 : INFO : EPOCH 2 - PROGRESS: at 48.27% examples, 1503098 words/s, in_qsize 0, out_qsize 0\n",
      "2024-04-28 01:16:32,349 : INFO : EPOCH 2 - PROGRESS: at 61.49% examples, 1533272 words/s, in_qsize 0, out_qsize 0\n",
      "2024-04-28 01:16:33,351 : INFO : EPOCH 2 - PROGRESS: at 75.13% examples, 1561249 words/s, in_qsize 0, out_qsize 0\n",
      "2024-04-28 01:16:34,368 : INFO : EPOCH 2 - PROGRESS: at 86.89% examples, 1542287 words/s, in_qsize 0, out_qsize 0\n",
      "2024-04-28 01:16:35,368 : INFO : EPOCH 2 - PROGRESS: at 98.30% examples, 1526952 words/s, in_qsize 0, out_qsize 0\n",
      "2024-04-28 01:16:35,474 : INFO : EPOCH 2: training on 17005207 raw words (12504302 effective words) took 8.2s, 1533132 effective words/s\n",
      "2024-04-28 01:16:36,483 : INFO : EPOCH 3 - PROGRESS: at 15.17% examples, 1874110 words/s, in_qsize 0, out_qsize 0\n",
      "2024-04-28 01:16:37,488 : INFO : EPOCH 3 - PROGRESS: at 29.34% examples, 1823631 words/s, in_qsize 0, out_qsize 0\n",
      "2024-04-28 01:16:38,493 : INFO : EPOCH 3 - PROGRESS: at 42.80% examples, 1779305 words/s, in_qsize 0, out_qsize 0\n",
      "2024-04-28 01:16:39,497 : INFO : EPOCH 3 - PROGRESS: at 56.44% examples, 1761719 words/s, in_qsize 1, out_qsize 0\n",
      "2024-04-28 01:16:40,498 : INFO : EPOCH 3 - PROGRESS: at 69.43% examples, 1734914 words/s, in_qsize 0, out_qsize 0\n",
      "2024-04-28 01:16:41,497 : INFO : EPOCH 3 - PROGRESS: at 81.95% examples, 1704056 words/s, in_qsize 0, out_qsize 0\n",
      "2024-04-28 01:16:42,498 : INFO : EPOCH 3 - PROGRESS: at 95.59% examples, 1703999 words/s, in_qsize 0, out_qsize 1\n",
      "2024-04-28 01:16:42,798 : INFO : EPOCH 3: training on 17005207 raw words (12507510 effective words) took 7.3s, 1708801 effective words/s\n",
      "2024-04-28 01:16:43,811 : INFO : EPOCH 4 - PROGRESS: at 13.11% examples, 1608510 words/s, in_qsize 9, out_qsize 3\n",
      "2024-04-28 01:16:44,813 : INFO : EPOCH 4 - PROGRESS: at 26.98% examples, 1673777 words/s, in_qsize 0, out_qsize 0\n",
      "2024-04-28 01:16:45,818 : INFO : EPOCH 4 - PROGRESS: at 38.68% examples, 1605621 words/s, in_qsize 0, out_qsize 1\n",
      "2024-04-28 01:16:46,820 : INFO : EPOCH 4 - PROGRESS: at 51.44% examples, 1604157 words/s, in_qsize 0, out_qsize 0\n",
      "2024-04-28 01:16:47,822 : INFO : EPOCH 4 - PROGRESS: at 64.43% examples, 1608796 words/s, in_qsize 0, out_qsize 0\n",
      "2024-04-28 01:16:48,826 : INFO : EPOCH 4 - PROGRESS: at 76.90% examples, 1598237 words/s, in_qsize 0, out_qsize 0\n",
      "2024-04-28 01:16:49,828 : INFO : EPOCH 4 - PROGRESS: at 91.06% examples, 1621628 words/s, in_qsize 0, out_qsize 0\n",
      "2024-04-28 01:16:50,454 : INFO : EPOCH 4: training on 17005207 raw words (12507254 effective words) took 7.7s, 1633908 effective words/s\n",
      "2024-04-28 01:16:50,454 : INFO : Word2Vec lifecycle event {'msg': 'training on 85026035 raw words (62531266 effective words) took 36.6s, 1709505 effective words/s', 'datetime': '2024-04-28T01:16:50.454357', 'gensim': '4.3.0', 'python': '3.11.5 | packaged by Anaconda, Inc. | (main, Sep 11 2023, 13:26:23) [MSC v.1916 64 bit (AMD64)]', 'platform': 'Windows-10-10.0.22621-SP0', 'event': 'train'}\n",
      "2024-04-28 01:16:50,454 : INFO : Word2Vec lifecycle event {'params': 'Word2Vec<vocab=71290, vector_size=200, alpha=0.025>', 'datetime': '2024-04-28T01:16:50.454357', 'gensim': '4.3.0', 'python': '3.11.5 | packaged by Anaconda, Inc. | (main, Sep 11 2023, 13:26:23) [MSC v.1916 64 bit (AMD64)]', 'platform': 'Windows-10-10.0.22621-SP0', 'event': 'created'}\n",
      "2024-04-28 01:16:50,454 : INFO : Word2Vec lifecycle event {'fname_or_handle': 'word2vec_gensim', 'separately': 'None', 'sep_limit': 10485760, 'ignore': frozenset(), 'datetime': '2024-04-28T01:16:50.454357', 'gensim': '4.3.0', 'python': '3.11.5 | packaged by Anaconda, Inc. | (main, Sep 11 2023, 13:26:23) [MSC v.1916 64 bit (AMD64)]', 'platform': 'Windows-10-10.0.22621-SP0', 'event': 'saving'}\n",
      "2024-04-28 01:16:50,466 : INFO : storing np array 'vectors' to word2vec_gensim.wv.vectors.npy\n",
      "2024-04-28 01:16:50,493 : INFO : storing np array 'syn1neg' to word2vec_gensim.syn1neg.npy\n",
      "2024-04-28 01:16:50,520 : INFO : not storing attribute cum_table\n",
      "2024-04-28 01:16:50,538 : INFO : saved word2vec_gensim\n",
      "2024-04-28 01:16:50,572 : INFO : storing vocabulary in vocabulary\n",
      "2024-04-28 01:16:50,635 : INFO : storing 71290x200 projection weights into word2vec_org\n"
     ]
    }
   ],
   "source": [
    "# min_count=5\n",
    "!python word2vec.py"
   ]
  },
  {
   "cell_type": "code",
   "execution_count": 40,
   "metadata": {},
   "outputs": [
    {
     "name": "stdout",
     "output_type": "stream",
     "text": [
      "{\"score\": 0.6927590997286565, \"errorMsg\": \"success\", \"code\": 0, \"data\": [{\"score\": 0.6927590997286565}]}\n"
     ]
    }
   ],
   "source": [
    "!python evaluation.py score.npy"
   ]
  },
  {
   "cell_type": "code",
   "execution_count": 41,
   "metadata": {},
   "outputs": [
    {
     "name": "stdout",
     "output_type": "stream",
     "text": [
      "Total time: 39 s\n"
     ]
    },
    {
     "name": "stderr",
     "output_type": "stream",
     "text": [
      "2024-04-28 01:17:33,575 : INFO : collecting all words and their counts\n",
      "2024-04-28 01:17:33,576 : INFO : PROGRESS: at sentence #0, processed 0 words, keeping 0 word types\n",
      "2024-04-28 01:17:36,579 : INFO : collected 253854 word types from a corpus of 17005207 raw words and 1701 sentences\n",
      "2024-04-28 01:17:36,579 : INFO : Creating a fresh vocabulary\n",
      "2024-04-28 01:17:36,707 : INFO : Word2Vec lifecycle event {'msg': 'effective_min_count=10 retains 47134 unique words (18.57% of original 253854, drops 206720)', 'datetime': '2024-04-28T01:17:36.692557', 'gensim': '4.3.0', 'python': '3.11.5 | packaged by Anaconda, Inc. | (main, Sep 11 2023, 13:26:23) [MSC v.1916 64 bit (AMD64)]', 'platform': 'Windows-10-10.0.22621-SP0', 'event': 'prepare_vocab'}\n",
      "2024-04-28 01:17:36,707 : INFO : Word2Vec lifecycle event {'msg': 'effective_min_count=10 leaves 16561031 word corpus (97.39% of original 17005207, drops 444176)', 'datetime': '2024-04-28T01:17:36.707596', 'gensim': '4.3.0', 'python': '3.11.5 | packaged by Anaconda, Inc. | (main, Sep 11 2023, 13:26:23) [MSC v.1916 64 bit (AMD64)]', 'platform': 'Windows-10-10.0.22621-SP0', 'event': 'prepare_vocab'}\n",
      "2024-04-28 01:17:36,832 : INFO : deleting the raw counts dictionary of 253854 items\n",
      "2024-04-28 01:17:36,835 : INFO : sample=0.001 downsamples 38 most-common words\n",
      "2024-04-28 01:17:36,835 : INFO : Word2Vec lifecycle event {'msg': 'downsampling leaves estimated 12333563.370024087 word corpus (74.5%% of prior 16561031)', 'datetime': '2024-04-28T01:17:36.835057', 'gensim': '4.3.0', 'python': '3.11.5 | packaged by Anaconda, Inc. | (main, Sep 11 2023, 13:26:23) [MSC v.1916 64 bit (AMD64)]', 'platform': 'Windows-10-10.0.22621-SP0', 'event': 'prepare_vocab'}\n",
      "2024-04-28 01:17:37,009 : INFO : estimated required memory for 47134 words and 200 dimensions: 98981400 bytes\n",
      "2024-04-28 01:17:37,009 : INFO : resetting layer weights\n",
      "2024-04-28 01:17:37,038 : INFO : Word2Vec lifecycle event {'update': False, 'trim_rule': 'None', 'datetime': '2024-04-28T01:17:37.038104', 'gensim': '4.3.0', 'python': '3.11.5 | packaged by Anaconda, Inc. | (main, Sep 11 2023, 13:26:23) [MSC v.1916 64 bit (AMD64)]', 'platform': 'Windows-10-10.0.22621-SP0', 'event': 'build_vocab'}\n",
      "2024-04-28 01:17:37,038 : INFO : Word2Vec lifecycle event {'msg': 'training model with 16 workers on 47134 vocabulary and 200 features, using sg=0 hs=0 sample=0.001 negative=5 window=10 shrink_windows=True', 'datetime': '2024-04-28T01:17:37.038104', 'gensim': '4.3.0', 'python': '3.11.5 | packaged by Anaconda, Inc. | (main, Sep 11 2023, 13:26:23) [MSC v.1916 64 bit (AMD64)]', 'platform': 'Windows-10-10.0.22621-SP0', 'event': 'train'}\n",
      "2024-04-28 01:17:38,049 : INFO : EPOCH 0 - PROGRESS: at 17.58% examples, 2139359 words/s, in_qsize 0, out_qsize 0\n",
      "2024-04-28 01:17:39,050 : INFO : EPOCH 0 - PROGRESS: at 34.51% examples, 2123027 words/s, in_qsize 0, out_qsize 0\n",
      "2024-04-28 01:17:40,050 : INFO : EPOCH 0 - PROGRESS: at 48.50% examples, 1993074 words/s, in_qsize 0, out_qsize 0\n",
      "2024-04-28 01:17:41,052 : INFO : EPOCH 0 - PROGRESS: at 62.96% examples, 1941608 words/s, in_qsize 0, out_qsize 1\n",
      "2024-04-28 01:17:42,053 : INFO : EPOCH 0 - PROGRESS: at 79.84% examples, 1966732 words/s, in_qsize 0, out_qsize 0\n",
      "2024-04-28 01:17:43,055 : INFO : EPOCH 0 - PROGRESS: at 97.53% examples, 2000588 words/s, in_qsize 1, out_qsize 0\n",
      "2024-04-28 01:17:43,208 : INFO : EPOCH 0: training on 17005207 raw words (12332368 effective words) took 6.2s, 1999670 effective words/s\n",
      "2024-04-28 01:17:44,213 : INFO : EPOCH 1 - PROGRESS: at 14.87% examples, 1818616 words/s, in_qsize 0, out_qsize 0\n",
      "2024-04-28 01:17:45,216 : INFO : EPOCH 1 - PROGRESS: at 30.69% examples, 1889510 words/s, in_qsize 0, out_qsize 0\n",
      "2024-04-28 01:17:46,216 : INFO : EPOCH 1 - PROGRESS: at 49.62% examples, 2041980 words/s, in_qsize 0, out_qsize 0\n",
      "2024-04-28 01:17:47,218 : INFO : EPOCH 1 - PROGRESS: at 65.61% examples, 2025114 words/s, in_qsize 0, out_qsize 1\n",
      "2024-04-28 01:17:48,223 : INFO : EPOCH 1 - PROGRESS: at 80.66% examples, 1987238 words/s, in_qsize 1, out_qsize 1\n",
      "2024-04-28 01:17:49,223 : INFO : EPOCH 1 - PROGRESS: at 95.53% examples, 1960899 words/s, in_qsize 0, out_qsize 0\n",
      "2024-04-28 01:17:49,542 : INFO : EPOCH 1: training on 17005207 raw words (12334384 effective words) took 6.3s, 1948362 effective words/s\n",
      "2024-04-28 01:17:50,554 : INFO : EPOCH 2 - PROGRESS: at 13.29% examples, 1616284 words/s, in_qsize 0, out_qsize 0\n",
      "2024-04-28 01:17:51,560 : INFO : EPOCH 2 - PROGRESS: at 27.40% examples, 1676950 words/s, in_qsize 0, out_qsize 0\n",
      "2024-04-28 01:17:52,565 : INFO : EPOCH 2 - PROGRESS: at 42.92% examples, 1758265 words/s, in_qsize 0, out_qsize 0\n",
      "2024-04-28 01:17:53,568 : INFO : EPOCH 2 - PROGRESS: at 57.55% examples, 1770464 words/s, in_qsize 0, out_qsize 1\n",
      "2024-04-28 01:17:54,569 : INFO : EPOCH 2 - PROGRESS: at 71.90% examples, 1770972 words/s, in_qsize 1, out_qsize 1\n",
      "2024-04-28 01:17:55,587 : INFO : EPOCH 2 - PROGRESS: at 85.48% examples, 1747071 words/s, in_qsize 0, out_qsize 0\n",
      "2024-04-28 01:17:56,506 : INFO : EPOCH 2: training on 17005207 raw words (12334685 effective words) took 7.0s, 1772376 effective words/s\n",
      "2024-04-28 01:17:57,519 : INFO : EPOCH 3 - PROGRESS: at 14.87% examples, 1807601 words/s, in_qsize 0, out_qsize 1\n",
      "2024-04-28 01:17:58,522 : INFO : EPOCH 3 - PROGRESS: at 29.81% examples, 1828681 words/s, in_qsize 1, out_qsize 1\n",
      "2024-04-28 01:17:59,523 : INFO : EPOCH 3 - PROGRESS: at 44.21% examples, 1814447 words/s, in_qsize 0, out_qsize 0\n",
      "2024-04-28 01:18:00,526 : INFO : EPOCH 3 - PROGRESS: at 58.14% examples, 1790868 words/s, in_qsize 0, out_qsize 1\n",
      "2024-04-28 01:18:01,526 : INFO : EPOCH 3 - PROGRESS: at 73.37% examples, 1809663 words/s, in_qsize 0, out_qsize 1\n",
      "2024-04-28 01:18:02,530 : INFO : EPOCH 3 - PROGRESS: at 88.48% examples, 1814119 words/s, in_qsize 0, out_qsize 0\n",
      "2024-04-28 01:18:03,289 : INFO : EPOCH 3: training on 17005207 raw words (12332931 effective words) took 6.8s, 1819642 effective words/s\n",
      "2024-04-28 01:18:04,297 : INFO : EPOCH 4 - PROGRESS: at 14.58% examples, 1778992 words/s, in_qsize 0, out_qsize 0\n",
      "2024-04-28 01:18:05,298 : INFO : EPOCH 4 - PROGRESS: at 28.75% examples, 1767361 words/s, in_qsize 0, out_qsize 0\n",
      "2024-04-28 01:18:06,304 : INFO : EPOCH 4 - PROGRESS: at 42.27% examples, 1735410 words/s, in_qsize 0, out_qsize 1\n",
      "2024-04-28 01:18:07,304 : INFO : EPOCH 4 - PROGRESS: at 56.91% examples, 1754722 words/s, in_qsize 0, out_qsize 0\n",
      "2024-04-28 01:18:08,312 : INFO : EPOCH 4 - PROGRESS: at 71.31% examples, 1757490 words/s, in_qsize 0, out_qsize 0\n",
      "2024-04-28 01:18:09,318 : INFO : EPOCH 4 - PROGRESS: at 86.07% examples, 1763204 words/s, in_qsize 0, out_qsize 1\n",
      "2024-04-28 01:18:10,243 : INFO : EPOCH 4: training on 17005207 raw words (12333404 effective words) took 6.9s, 1774658 effective words/s\n",
      "2024-04-28 01:18:10,244 : INFO : Word2Vec lifecycle event {'msg': 'training on 85026035 raw words (61667772 effective words) took 33.2s, 1857179 effective words/s', 'datetime': '2024-04-28T01:18:10.244191', 'gensim': '4.3.0', 'python': '3.11.5 | packaged by Anaconda, Inc. | (main, Sep 11 2023, 13:26:23) [MSC v.1916 64 bit (AMD64)]', 'platform': 'Windows-10-10.0.22621-SP0', 'event': 'train'}\n",
      "2024-04-28 01:18:10,244 : INFO : Word2Vec lifecycle event {'params': 'Word2Vec<vocab=47134, vector_size=200, alpha=0.025>', 'datetime': '2024-04-28T01:18:10.244191', 'gensim': '4.3.0', 'python': '3.11.5 | packaged by Anaconda, Inc. | (main, Sep 11 2023, 13:26:23) [MSC v.1916 64 bit (AMD64)]', 'platform': 'Windows-10-10.0.22621-SP0', 'event': 'created'}\n",
      "2024-04-28 01:18:10,244 : INFO : Word2Vec lifecycle event {'fname_or_handle': 'word2vec_gensim', 'separately': 'None', 'sep_limit': 10485760, 'ignore': frozenset(), 'datetime': '2024-04-28T01:18:10.244191', 'gensim': '4.3.0', 'python': '3.11.5 | packaged by Anaconda, Inc. | (main, Sep 11 2023, 13:26:23) [MSC v.1916 64 bit (AMD64)]', 'platform': 'Windows-10-10.0.22621-SP0', 'event': 'saving'}\n",
      "2024-04-28 01:18:10,244 : INFO : not storing attribute cum_table\n",
      "2024-04-28 01:18:10,333 : INFO : saved word2vec_gensim\n",
      "2024-04-28 01:18:10,360 : INFO : storing vocabulary in vocabulary\n",
      "2024-04-28 01:18:10,406 : INFO : storing 47134x200 projection weights into word2vec_org\n"
     ]
    }
   ],
   "source": [
    "# min_count=10\n",
    "!python word2vec.py"
   ]
  },
  {
   "cell_type": "code",
   "execution_count": 42,
   "metadata": {},
   "outputs": [
    {
     "name": "stdout",
     "output_type": "stream",
     "text": [
      "{\"score\": 0.6934430495037492, \"errorMsg\": \"success\", \"code\": 0, \"data\": [{\"score\": 0.6934430495037492}]}\n"
     ]
    }
   ],
   "source": [
    "!python evaluation.py score.npy"
   ]
  },
  {
   "cell_type": "code",
   "execution_count": 43,
   "metadata": {},
   "outputs": [
    {
     "name": "stdout",
     "output_type": "stream",
     "text": [
      "Total time: 36 s"
     ]
    },
    {
     "name": "stderr",
     "output_type": "stream",
     "text": [
      "2024-04-28 01:18:50,746 : INFO : collecting all words and their counts\n",
      "2024-04-28 01:18:50,748 : INFO : PROGRESS: at sentence #0, processed 0 words, keeping 0 word types\n",
      "2024-04-28 01:18:53,907 : INFO : collected 253854 word types from a corpus of 17005207 raw words and 1701 sentences\n",
      "2024-04-28 01:18:53,907 : INFO : Creating a fresh vocabulary\n",
      "2024-04-28 01:18:54,023 : INFO : Word2Vec lifecycle event {'msg': 'effective_min_count=15 retains 37430 unique words (14.74% of original 253854, drops 216424)', 'datetime': '2024-04-28T01:18:54.005124', 'gensim': '4.3.0', 'python': '3.11.5 | packaged by Anaconda, Inc. | (main, Sep 11 2023, 13:26:23) [MSC v.1916 64 bit (AMD64)]', 'platform': 'Windows-10-10.0.22621-SP0', 'event': 'prepare_vocab'}\n",
      "2024-04-28 01:18:54,023 : INFO : Word2Vec lifecycle event {'msg': 'effective_min_count=15 leaves 16447173 word corpus (96.72% of original 17005207, drops 558034)', 'datetime': '2024-04-28T01:18:54.023811', 'gensim': '4.3.0', 'python': '3.11.5 | packaged by Anaconda, Inc. | (main, Sep 11 2023, 13:26:23) [MSC v.1916 64 bit (AMD64)]', 'platform': 'Windows-10-10.0.22621-SP0', 'event': 'prepare_vocab'}\n",
      "2024-04-28 01:18:54,122 : INFO : deleting the raw counts dictionary of 253854 items\n",
      "2024-04-28 01:18:54,125 : INFO : sample=0.001 downsamples 38 most-common words\n",
      "2024-04-28 01:18:54,126 : INFO : Word2Vec lifecycle event {'msg': 'downsampling leaves estimated 12208926.392982136 word corpus (74.2%% of prior 16447173)', 'datetime': '2024-04-28T01:18:54.126367', 'gensim': '4.3.0', 'python': '3.11.5 | packaged by Anaconda, Inc. | (main, Sep 11 2023, 13:26:23) [MSC v.1916 64 bit (AMD64)]', 'platform': 'Windows-10-10.0.22621-SP0', 'event': 'prepare_vocab'}\n",
      "2024-04-28 01:18:54,281 : INFO : estimated required memory for 37430 words and 200 dimensions: 78603000 bytes\n",
      "2024-04-28 01:18:54,281 : INFO : resetting layer weights\n",
      "2024-04-28 01:18:54,306 : INFO : Word2Vec lifecycle event {'update': False, 'trim_rule': 'None', 'datetime': '2024-04-28T01:18:54.306556', 'gensim': '4.3.0', 'python': '3.11.5 | packaged by Anaconda, Inc. | (main, Sep 11 2023, 13:26:23) [MSC v.1916 64 bit (AMD64)]', 'platform': 'Windows-10-10.0.22621-SP0', 'event': 'build_vocab'}\n",
      "2024-04-28 01:18:54,306 : INFO : Word2Vec lifecycle event {'msg': 'training model with 16 workers on 37430 vocabulary and 200 features, using sg=0 hs=0 sample=0.001 negative=5 window=10 shrink_windows=True', 'datetime': '2024-04-28T01:18:54.306556', 'gensim': '4.3.0', 'python': '3.11.5 | packaged by Anaconda, Inc. | (main, Sep 11 2023, 13:26:23) [MSC v.1916 64 bit (AMD64)]', 'platform': 'Windows-10-10.0.22621-SP0', 'event': 'train'}\n",
      "2024-04-28 01:18:55,311 : INFO : EPOCH 0 - PROGRESS: at 17.52% examples, 2126081 words/s, in_qsize 0, out_qsize 0\n",
      "2024-04-28 01:18:56,316 : INFO : EPOCH 0 - PROGRESS: at 36.10% examples, 2203684 words/s, in_qsize 0, out_qsize 0\n",
      "2024-04-28 01:18:57,319 : INFO : EPOCH 0 - PROGRESS: at 54.61% examples, 2223139 words/s, in_qsize 0, out_qsize 1\n",
      "2024-04-28 01:18:58,321 : INFO : EPOCH 0 - PROGRESS: at 71.25% examples, 2175920 words/s, in_qsize 0, out_qsize 0\n",
      "2024-04-28 01:18:59,324 : INFO : EPOCH 0 - PROGRESS: at 86.95% examples, 2118868 words/s, in_qsize 0, out_qsize 0\n",
      "2024-04-28 01:19:00,207 : INFO : EPOCH 0: training on 17005207 raw words (12209412 effective words) took 5.9s, 2070755 effective words/s\n",
      "2024-04-28 01:19:01,214 : INFO : EPOCH 1 - PROGRESS: at 15.70% examples, 1896292 words/s, in_qsize 0, out_qsize 0\n",
      "2024-04-28 01:19:02,218 : INFO : EPOCH 1 - PROGRESS: at 32.51% examples, 1979626 words/s, in_qsize 0, out_qsize 0\n",
      "2024-04-28 01:19:03,220 : INFO : EPOCH 1 - PROGRESS: at 49.97% examples, 2032841 words/s, in_qsize 0, out_qsize 0\n",
      "2024-04-28 01:19:04,226 : INFO : EPOCH 1 - PROGRESS: at 67.49% examples, 2058197 words/s, in_qsize 0, out_qsize 1\n",
      "2024-04-28 01:19:05,227 : INFO : EPOCH 1 - PROGRESS: at 83.36% examples, 2030825 words/s, in_qsize 0, out_qsize 0\n",
      "2024-04-28 01:19:06,146 : INFO : EPOCH 1: training on 17005207 raw words (12210082 effective words) took 5.9s, 2057239 effective words/s\n",
      "2024-04-28 01:19:07,150 : INFO : EPOCH 2 - PROGRESS: at 17.05% examples, 2063938 words/s, in_qsize 0, out_qsize 0\n",
      "2024-04-28 01:19:08,157 : INFO : EPOCH 2 - PROGRESS: at 34.45% examples, 2098440 words/s, in_qsize 0, out_qsize 1\n",
      "2024-04-28 01:19:09,158 : INFO : EPOCH 2 - PROGRESS: at 50.68% examples, 2061938 words/s, in_qsize 0, out_qsize 2\n",
      "2024-04-28 01:19:10,164 : INFO : EPOCH 2 - PROGRESS: at 67.90% examples, 2070902 words/s, in_qsize 0, out_qsize 1\n",
      "2024-04-28 01:19:11,166 : INFO : EPOCH 2 - PROGRESS: at 84.48% examples, 2057776 words/s, in_qsize 0, out_qsize 0\n",
      "2024-04-28 01:19:12,059 : INFO : EPOCH 2: training on 17005207 raw words (12209553 effective words) took 5.9s, 2065585 effective words/s\n",
      "2024-04-28 01:19:13,061 : INFO : EPOCH 3 - PROGRESS: at 16.52% examples, 2002575 words/s, in_qsize 0, out_qsize 1\n",
      "2024-04-28 01:19:14,065 : INFO : EPOCH 3 - PROGRESS: at 32.86% examples, 2004546 words/s, in_qsize 0, out_qsize 1\n",
      "2024-04-28 01:19:15,068 : INFO : EPOCH 3 - PROGRESS: at 50.26% examples, 2045943 words/s, in_qsize 0, out_qsize 1\n",
      "2024-04-28 01:19:16,071 : INFO : EPOCH 3 - PROGRESS: at 66.55% examples, 2031727 words/s, in_qsize 0, out_qsize 0\n",
      "2024-04-28 01:19:17,078 : INFO : EPOCH 3 - PROGRESS: at 83.13% examples, 2024355 words/s, in_qsize 1, out_qsize 0\n",
      "2024-04-28 01:19:18,082 : INFO : EPOCH 3 - PROGRESS: at 99.53% examples, 2018652 words/s, in_qsize 0, out_qsize 1\n",
      "2024-04-28 01:19:18,098 : INFO : EPOCH 3: training on 17005207 raw words (12206953 effective words) took 6.0s, 2022328 effective words/s\n",
      "2024-04-28 01:19:19,104 : INFO : EPOCH 4 - PROGRESS: at 16.81% examples, 2031996 words/s, in_qsize 0, out_qsize 0\n",
      "2024-04-28 01:19:20,105 : INFO : EPOCH 4 - PROGRESS: at 33.80% examples, 2060059 words/s, in_qsize 1, out_qsize 0\n",
      "2024-04-28 01:19:21,110 : INFO : EPOCH 4 - PROGRESS: at 50.32% examples, 2046147 words/s, in_qsize 0, out_qsize 0\n",
      "2024-04-28 01:19:22,114 : INFO : EPOCH 4 - PROGRESS: at 66.31% examples, 2022000 words/s, in_qsize 0, out_qsize 0\n",
      "2024-04-28 01:19:23,115 : INFO : EPOCH 4 - PROGRESS: at 82.42% examples, 2007923 words/s, in_qsize 0, out_qsize 0\n",
      "2024-04-28 01:19:24,115 : INFO : EPOCH 4 - PROGRESS: at 99.00% examples, 2009456 words/s, in_qsize 0, out_qsize 0\n",
      "2024-04-28 01:19:24,166 : INFO : EPOCH 4: training on 17005207 raw words (12209205 effective words) took 6.1s, 2012477 effective words/s\n",
      "2024-04-28 01:19:24,166 : INFO : Word2Vec lifecycle event {'msg': 'training on 85026035 raw words (61045205 effective words) took 29.9s, 2044340 effective words/s', 'datetime': '2024-04-28T01:19:24.166704', 'gensim': '4.3.0', 'python': '3.11.5 | packaged by Anaconda, Inc. | (main, Sep 11 2023, 13:26:23) [MSC v.1916 64 bit (AMD64)]', 'platform': 'Windows-10-10.0.22621-SP0', 'event': 'train'}\n",
      "2024-04-28 01:19:24,166 : INFO : Word2Vec lifecycle event {'params': 'Word2Vec<vocab=37430, vector_size=200, alpha=0.025>', 'datetime': '2024-04-28T01:19:24.166704', 'gensim': '4.3.0', 'python': '3.11.5 | packaged by Anaconda, Inc. | (main, Sep 11 2023, 13:26:23) [MSC v.1916 64 bit (AMD64)]', 'platform': 'Windows-10-10.0.22621-SP0', 'event': 'created'}\n",
      "2024-04-28 01:19:24,166 : INFO : Word2Vec lifecycle event {'fname_or_handle': 'word2vec_gensim', 'separately': 'None', 'sep_limit': 10485760, 'ignore': frozenset(), 'datetime': '2024-04-28T01:19:24.166704', 'gensim': '4.3.0', 'python': '3.11.5 | packaged by Anaconda, Inc. | (main, Sep 11 2023, 13:26:23) [MSC v.1916 64 bit (AMD64)]', 'platform': 'Windows-10-10.0.22621-SP0', 'event': 'saving'}\n",
      "2024-04-28 01:19:24,167 : INFO : not storing attribute cum_table\n",
      "2024-04-28 01:19:24,237 : INFO : saved word2vec_gensim\n",
      "2024-04-28 01:19:24,272 : INFO : storing vocabulary in vocabulary\n",
      "2024-04-28 01:19:24,305 : INFO : storing 37430x200 projection weights into word2vec_org\n"
     ]
    },
    {
     "name": "stdout",
     "output_type": "stream",
     "text": [
      "\n"
     ]
    }
   ],
   "source": [
    "# min_count=15\n",
    "!python word2vec.py"
   ]
  },
  {
   "cell_type": "code",
   "execution_count": 44,
   "metadata": {},
   "outputs": [
    {
     "name": "stdout",
     "output_type": "stream",
     "text": [
      "{\"score\": 0.6904133055101986, \"errorMsg\": \"success\", \"code\": 0, \"data\": [{\"score\": 0.6904133055101986}]}\n"
     ]
    }
   ],
   "source": [
    "!python evaluation.py score.npy"
   ]
  },
  {
   "cell_type": "code",
   "execution_count": 47,
   "metadata": {},
   "outputs": [
    {
     "name": "stdout",
     "output_type": "stream",
     "text": [
      "Total time: 35 s\n"
     ]
    },
    {
     "name": "stderr",
     "output_type": "stream",
     "text": [
      "2024-04-28 01:21:44,621 : INFO : collecting all words and their counts\n",
      "2024-04-28 01:21:44,621 : INFO : PROGRESS: at sentence #0, processed 0 words, keeping 0 word types\n",
      "2024-04-28 01:21:47,571 : INFO : collected 253854 word types from a corpus of 17005207 raw words and 1701 sentences\n",
      "2024-04-28 01:21:47,571 : INFO : Creating a fresh vocabulary\n",
      "2024-04-28 01:21:47,678 : INFO : Word2Vec lifecycle event {'msg': 'effective_min_count=20 retains 31892 unique words (12.56% of original 253854, drops 221962)', 'datetime': '2024-04-28T01:21:47.662831', 'gensim': '4.3.0', 'python': '3.11.5 | packaged by Anaconda, Inc. | (main, Sep 11 2023, 13:26:23) [MSC v.1916 64 bit (AMD64)]', 'platform': 'Windows-10-10.0.22621-SP0', 'event': 'prepare_vocab'}\n",
      "2024-04-28 01:21:47,678 : INFO : Word2Vec lifecycle event {'msg': 'effective_min_count=20 leaves 16354036 word corpus (96.17% of original 17005207, drops 651171)', 'datetime': '2024-04-28T01:21:47.678577', 'gensim': '4.3.0', 'python': '3.11.5 | packaged by Anaconda, Inc. | (main, Sep 11 2023, 13:26:23) [MSC v.1916 64 bit (AMD64)]', 'platform': 'Windows-10-10.0.22621-SP0', 'event': 'prepare_vocab'}\n",
      "2024-04-28 01:21:47,756 : INFO : deleting the raw counts dictionary of 253854 items\n",
      "2024-04-28 01:21:47,761 : INFO : sample=0.001 downsamples 38 most-common words\n",
      "2024-04-28 01:21:47,762 : INFO : Word2Vec lifecycle event {'msg': 'downsampling leaves estimated 12106955.455068141 word corpus (74.0%% of prior 16354036)', 'datetime': '2024-04-28T01:21:47.761158', 'gensim': '4.3.0', 'python': '3.11.5 | packaged by Anaconda, Inc. | (main, Sep 11 2023, 13:26:23) [MSC v.1916 64 bit (AMD64)]', 'platform': 'Windows-10-10.0.22621-SP0', 'event': 'prepare_vocab'}\n",
      "2024-04-28 01:21:47,888 : INFO : estimated required memory for 31892 words and 200 dimensions: 66973200 bytes\n",
      "2024-04-28 01:21:47,888 : INFO : resetting layer weights\n",
      "2024-04-28 01:21:47,914 : INFO : Word2Vec lifecycle event {'update': False, 'trim_rule': 'None', 'datetime': '2024-04-28T01:21:47.914021', 'gensim': '4.3.0', 'python': '3.11.5 | packaged by Anaconda, Inc. | (main, Sep 11 2023, 13:26:23) [MSC v.1916 64 bit (AMD64)]', 'platform': 'Windows-10-10.0.22621-SP0', 'event': 'build_vocab'}\n",
      "2024-04-28 01:21:47,914 : INFO : Word2Vec lifecycle event {'msg': 'training model with 16 workers on 31892 vocabulary and 200 features, using sg=0 hs=0 sample=0.001 negative=5 window=10 shrink_windows=True', 'datetime': '2024-04-28T01:21:47.914021', 'gensim': '4.3.0', 'python': '3.11.5 | packaged by Anaconda, Inc. | (main, Sep 11 2023, 13:26:23) [MSC v.1916 64 bit (AMD64)]', 'platform': 'Windows-10-10.0.22621-SP0', 'event': 'train'}\n",
      "2024-04-28 01:21:48,926 : INFO : EPOCH 0 - PROGRESS: at 17.87% examples, 2140877 words/s, in_qsize 0, out_qsize 1\n",
      "2024-04-28 01:21:49,926 : INFO : EPOCH 0 - PROGRESS: at 32.22% examples, 1947105 words/s, in_qsize 0, out_qsize 0\n",
      "2024-04-28 01:21:50,930 : INFO : EPOCH 0 - PROGRESS: at 48.09% examples, 1940119 words/s, in_qsize 0, out_qsize 0\n",
      "2024-04-28 01:21:51,931 : INFO : EPOCH 0 - PROGRESS: at 63.32% examples, 1916849 words/s, in_qsize 0, out_qsize 0\n",
      "2024-04-28 01:21:52,932 : INFO : EPOCH 0 - PROGRESS: at 79.95% examples, 1933320 words/s, in_qsize 0, out_qsize 0\n",
      "2024-04-28 01:21:53,937 : INFO : EPOCH 0 - PROGRESS: at 95.71% examples, 1926963 words/s, in_qsize 0, out_qsize 0\n",
      "2024-04-28 01:21:54,197 : INFO : EPOCH 0: training on 17005207 raw words (12106841 effective words) took 6.3s, 1928878 effective words/s\n",
      "2024-04-28 01:21:55,206 : INFO : EPOCH 1 - PROGRESS: at 16.75% examples, 2005884 words/s, in_qsize 0, out_qsize 1\n",
      "2024-04-28 01:21:56,207 : INFO : EPOCH 1 - PROGRESS: at 33.74% examples, 2040130 words/s, in_qsize 0, out_qsize 0\n",
      "2024-04-28 01:21:57,208 : INFO : EPOCH 1 - PROGRESS: at 51.15% examples, 2064753 words/s, in_qsize 0, out_qsize 0\n",
      "2024-04-28 01:21:58,217 : INFO : EPOCH 1 - PROGRESS: at 68.25% examples, 2063554 words/s, in_qsize 0, out_qsize 0\n",
      "2024-04-28 01:21:59,218 : INFO : EPOCH 1 - PROGRESS: at 84.83% examples, 2048840 words/s, in_qsize 0, out_qsize 0\n",
      "2024-04-28 01:22:00,129 : INFO : EPOCH 1: training on 17005207 raw words (12108308 effective words) took 5.9s, 2042488 effective words/s\n",
      "2024-04-28 01:22:01,141 : INFO : EPOCH 2 - PROGRESS: at 17.05% examples, 2028893 words/s, in_qsize 0, out_qsize 1\n",
      "2024-04-28 01:22:02,142 : INFO : EPOCH 2 - PROGRESS: at 34.86% examples, 2102238 words/s, in_qsize 0, out_qsize 0\n",
      "2024-04-28 01:22:03,143 : INFO : EPOCH 2 - PROGRESS: at 51.91% examples, 2091712 words/s, in_qsize 1, out_qsize 0\n",
      "2024-04-28 01:22:04,144 : INFO : EPOCH 2 - PROGRESS: at 69.14% examples, 2091136 words/s, in_qsize 0, out_qsize 0\n",
      "2024-04-28 01:22:05,146 : INFO : EPOCH 2 - PROGRESS: at 86.18% examples, 2082054 words/s, in_qsize 0, out_qsize 0\n",
      "2024-04-28 01:22:06,023 : INFO : EPOCH 2: training on 17005207 raw words (12105825 effective words) took 5.9s, 2054471 effective words/s\n",
      "2024-04-28 01:22:07,033 : INFO : EPOCH 3 - PROGRESS: at 17.05% examples, 2036077 words/s, in_qsize 1, out_qsize 1\n",
      "2024-04-28 01:22:08,038 : INFO : EPOCH 3 - PROGRESS: at 34.57% examples, 2083283 words/s, in_qsize 0, out_qsize 0\n",
      "2024-04-28 01:22:09,040 : INFO : EPOCH 3 - PROGRESS: at 50.73% examples, 2043595 words/s, in_qsize 0, out_qsize 0\n",
      "2024-04-28 01:22:10,044 : INFO : EPOCH 3 - PROGRESS: at 66.37% examples, 2005513 words/s, in_qsize 0, out_qsize 1\n",
      "2024-04-28 01:22:11,046 : INFO : EPOCH 3 - PROGRESS: at 83.66% examples, 2019785 words/s, in_qsize 1, out_qsize 1\n",
      "2024-04-28 01:22:11,988 : INFO : EPOCH 3: training on 17005207 raw words (12108995 effective words) took 6.0s, 2030907 effective words/s\n",
      "2024-04-28 01:22:12,992 : INFO : EPOCH 4 - PROGRESS: at 17.70% examples, 2125210 words/s, in_qsize 0, out_qsize 0\n",
      "2024-04-28 01:22:14,002 : INFO : EPOCH 4 - PROGRESS: at 33.92% examples, 2043798 words/s, in_qsize 0, out_qsize 0\n",
      "2024-04-28 01:22:15,002 : INFO : EPOCH 4 - PROGRESS: at 50.38% examples, 2029963 words/s, in_qsize 0, out_qsize 0\n",
      "2024-04-28 01:22:16,004 : INFO : EPOCH 4 - PROGRESS: at 67.61% examples, 2044736 words/s, in_qsize 0, out_qsize 0\n",
      "2024-04-28 01:22:17,007 : INFO : EPOCH 4 - PROGRESS: at 84.95% examples, 2051640 words/s, in_qsize 0, out_qsize 0\n",
      "2024-04-28 01:22:17,834 : INFO : EPOCH 4: training on 17005207 raw words (12106587 effective words) took 5.8s, 2071568 effective words/s\n",
      "2024-04-28 01:22:17,834 : INFO : Word2Vec lifecycle event {'msg': 'training on 85026035 raw words (60536556 effective words) took 29.9s, 2023284 effective words/s', 'datetime': '2024-04-28T01:22:17.834258', 'gensim': '4.3.0', 'python': '3.11.5 | packaged by Anaconda, Inc. | (main, Sep 11 2023, 13:26:23) [MSC v.1916 64 bit (AMD64)]', 'platform': 'Windows-10-10.0.22621-SP0', 'event': 'train'}\n",
      "2024-04-28 01:22:17,834 : INFO : Word2Vec lifecycle event {'params': 'Word2Vec<vocab=31892, vector_size=200, alpha=0.025>', 'datetime': '2024-04-28T01:22:17.834258', 'gensim': '4.3.0', 'python': '3.11.5 | packaged by Anaconda, Inc. | (main, Sep 11 2023, 13:26:23) [MSC v.1916 64 bit (AMD64)]', 'platform': 'Windows-10-10.0.22621-SP0', 'event': 'created'}\n",
      "2024-04-28 01:22:17,834 : INFO : Word2Vec lifecycle event {'fname_or_handle': 'word2vec_gensim', 'separately': 'None', 'sep_limit': 10485760, 'ignore': frozenset(), 'datetime': '2024-04-28T01:22:17.834258', 'gensim': '4.3.0', 'python': '3.11.5 | packaged by Anaconda, Inc. | (main, Sep 11 2023, 13:26:23) [MSC v.1916 64 bit (AMD64)]', 'platform': 'Windows-10-10.0.22621-SP0', 'event': 'saving'}\n",
      "2024-04-28 01:22:17,835 : INFO : not storing attribute cum_table\n",
      "2024-04-28 01:22:17,885 : INFO : saved word2vec_gensim\n",
      "2024-04-28 01:22:17,899 : INFO : storing vocabulary in vocabulary\n",
      "2024-04-28 01:22:17,927 : INFO : storing 31892x200 projection weights into word2vec_org\n"
     ]
    }
   ],
   "source": [
    "# min_count=20\n",
    "!python word2vec.py"
   ]
  },
  {
   "cell_type": "code",
   "execution_count": 48,
   "metadata": {},
   "outputs": [
    {
     "name": "stdout",
     "output_type": "stream",
     "text": [
      "{\"score\": 0.6893439535738417, \"errorMsg\": \"success\", \"code\": 0, \"data\": [{\"score\": 0.6893439535738417}]}\n"
     ]
    }
   ],
   "source": [
    "!python evaluation.py score.npy"
   ]
  },
  {
   "cell_type": "code",
   "execution_count": 49,
   "metadata": {},
   "outputs": [
    {
     "name": "stdout",
     "output_type": "stream",
     "text": [
      "Total time: 33 s\n"
     ]
    },
    {
     "name": "stderr",
     "output_type": "stream",
     "text": [
      "2024-04-28 01:23:04,771 : INFO : collecting all words and their counts\n",
      "2024-04-28 01:23:04,772 : INFO : PROGRESS: at sentence #0, processed 0 words, keeping 0 word types\n",
      "2024-04-28 01:23:07,719 : INFO : collected 253854 word types from a corpus of 17005207 raw words and 1701 sentences\n",
      "2024-04-28 01:23:07,719 : INFO : Creating a fresh vocabulary\n",
      "2024-04-28 01:23:07,827 : INFO : Word2Vec lifecycle event {'msg': 'effective_min_count=25 retains 27957 unique words (11.01% of original 253854, drops 225897)', 'datetime': '2024-04-28T01:23:07.807477', 'gensim': '4.3.0', 'python': '3.11.5 | packaged by Anaconda, Inc. | (main, Sep 11 2023, 13:26:23) [MSC v.1916 64 bit (AMD64)]', 'platform': 'Windows-10-10.0.22621-SP0', 'event': 'prepare_vocab'}\n",
      "2024-04-28 01:23:07,827 : INFO : Word2Vec lifecycle event {'msg': 'effective_min_count=25 leaves 16268093 word corpus (95.67% of original 17005207, drops 737114)', 'datetime': '2024-04-28T01:23:07.827287', 'gensim': '4.3.0', 'python': '3.11.5 | packaged by Anaconda, Inc. | (main, Sep 11 2023, 13:26:23) [MSC v.1916 64 bit (AMD64)]', 'platform': 'Windows-10-10.0.22621-SP0', 'event': 'prepare_vocab'}\n",
      "2024-04-28 01:23:07,903 : INFO : deleting the raw counts dictionary of 253854 items\n",
      "2024-04-28 01:23:07,909 : INFO : sample=0.001 downsamples 38 most-common words\n",
      "2024-04-28 01:23:07,910 : INFO : Word2Vec lifecycle event {'msg': 'downsampling leaves estimated 12012847.46861104 word corpus (73.8%% of prior 16268093)', 'datetime': '2024-04-28T01:23:07.910073', 'gensim': '4.3.0', 'python': '3.11.5 | packaged by Anaconda, Inc. | (main, Sep 11 2023, 13:26:23) [MSC v.1916 64 bit (AMD64)]', 'platform': 'Windows-10-10.0.22621-SP0', 'event': 'prepare_vocab'}\n",
      "2024-04-28 01:23:08,019 : INFO : estimated required memory for 27957 words and 200 dimensions: 58709700 bytes\n",
      "2024-04-28 01:23:08,019 : INFO : resetting layer weights\n",
      "2024-04-28 01:23:08,037 : INFO : Word2Vec lifecycle event {'update': False, 'trim_rule': 'None', 'datetime': '2024-04-28T01:23:08.037753', 'gensim': '4.3.0', 'python': '3.11.5 | packaged by Anaconda, Inc. | (main, Sep 11 2023, 13:26:23) [MSC v.1916 64 bit (AMD64)]', 'platform': 'Windows-10-10.0.22621-SP0', 'event': 'build_vocab'}\n",
      "2024-04-28 01:23:08,037 : INFO : Word2Vec lifecycle event {'msg': 'training model with 16 workers on 27957 vocabulary and 200 features, using sg=0 hs=0 sample=0.001 negative=5 window=10 shrink_windows=True', 'datetime': '2024-04-28T01:23:08.037753', 'gensim': '4.3.0', 'python': '3.11.5 | packaged by Anaconda, Inc. | (main, Sep 11 2023, 13:26:23) [MSC v.1916 64 bit (AMD64)]', 'platform': 'Windows-10-10.0.22621-SP0', 'event': 'train'}\n",
      "2024-04-28 01:23:09,045 : INFO : EPOCH 0 - PROGRESS: at 11.64% examples, 1382952 words/s, in_qsize 0, out_qsize 1\n",
      "2024-04-28 01:23:10,046 : INFO : EPOCH 0 - PROGRESS: at 31.51% examples, 1891291 words/s, in_qsize 0, out_qsize 0\n",
      "2024-04-28 01:23:11,048 : INFO : EPOCH 0 - PROGRESS: at 50.21% examples, 2012850 words/s, in_qsize 0, out_qsize 0\n",
      "2024-04-28 01:23:12,047 : INFO : EPOCH 0 - PROGRESS: at 68.84% examples, 2071031 words/s, in_qsize 0, out_qsize 0\n",
      "2024-04-28 01:23:13,051 : INFO : EPOCH 0 - PROGRESS: at 87.13% examples, 2091403 words/s, in_qsize 0, out_qsize 1\n",
      "2024-04-28 01:23:13,741 : INFO : EPOCH 0: training on 17005207 raw words (12014167 effective words) took 5.7s, 2108184 effective words/s\n",
      "2024-04-28 01:23:14,744 : INFO : EPOCH 1 - PROGRESS: at 19.28% examples, 2301452 words/s, in_qsize 0, out_qsize 1\n",
      "2024-04-28 01:23:15,744 : INFO : EPOCH 1 - PROGRESS: at 40.45% examples, 2431932 words/s, in_qsize 0, out_qsize 0\n",
      "2024-04-28 01:23:16,746 : INFO : EPOCH 1 - PROGRESS: at 60.67% examples, 2434037 words/s, in_qsize 0, out_qsize 1\n",
      "2024-04-28 01:23:17,748 : INFO : EPOCH 1 - PROGRESS: at 82.48% examples, 2476045 words/s, in_qsize 1, out_qsize 0\n",
      "2024-04-28 01:23:18,617 : INFO : EPOCH 1: training on 17005207 raw words (12010854 effective words) took 4.9s, 2464482 effective words/s\n",
      "2024-04-28 01:23:19,622 : INFO : EPOCH 2 - PROGRESS: at 18.69% examples, 2228385 words/s, in_qsize 0, out_qsize 0\n",
      "2024-04-28 01:23:20,624 : INFO : EPOCH 2 - PROGRESS: at 37.15% examples, 2231030 words/s, in_qsize 0, out_qsize 0\n",
      "2024-04-28 01:23:21,625 : INFO : EPOCH 2 - PROGRESS: at 55.03% examples, 2204354 words/s, in_qsize 0, out_qsize 0\n",
      "2024-04-28 01:23:22,626 : INFO : EPOCH 2 - PROGRESS: at 73.02% examples, 2195990 words/s, in_qsize 1, out_qsize 0\n",
      "2024-04-28 01:23:23,630 : INFO : EPOCH 2 - PROGRESS: at 90.71% examples, 2176291 words/s, in_qsize 0, out_qsize 0\n",
      "2024-04-28 01:23:24,148 : INFO : EPOCH 2: training on 17005207 raw words (12012032 effective words) took 5.5s, 2172570 effective words/s\n",
      "2024-04-28 01:23:25,154 : INFO : EPOCH 3 - PROGRESS: at 17.28% examples, 2054374 words/s, in_qsize 1, out_qsize 1\n",
      "2024-04-28 01:23:26,155 : INFO : EPOCH 3 - PROGRESS: at 34.33% examples, 2059614 words/s, in_qsize 0, out_qsize 1\n",
      "2024-04-28 01:23:27,160 : INFO : EPOCH 3 - PROGRESS: at 51.15% examples, 2046759 words/s, in_qsize 0, out_qsize 0\n",
      "2024-04-28 01:23:28,161 : INFO : EPOCH 3 - PROGRESS: at 68.25% examples, 2050298 words/s, in_qsize 1, out_qsize 0\n",
      "2024-04-28 01:23:29,170 : INFO : EPOCH 3 - PROGRESS: at 86.07% examples, 2061404 words/s, in_qsize 0, out_qsize 0\n",
      "2024-04-28 01:23:29,976 : INFO : EPOCH 3: training on 17005207 raw words (12012517 effective words) took 5.8s, 2061552 effective words/s\n",
      "2024-04-28 01:23:30,979 : INFO : EPOCH 4 - PROGRESS: at 16.40% examples, 1956233 words/s, in_qsize 0, out_qsize 0\n",
      "2024-04-28 01:23:31,982 : INFO : EPOCH 4 - PROGRESS: at 33.10% examples, 1986391 words/s, in_qsize 0, out_qsize 1\n",
      "2024-04-28 01:23:32,983 : INFO : EPOCH 4 - PROGRESS: at 50.50% examples, 2023464 words/s, in_qsize 0, out_qsize 1\n",
      "2024-04-28 01:23:33,987 : INFO : EPOCH 4 - PROGRESS: at 67.67% examples, 2033328 words/s, in_qsize 0, out_qsize 0\n",
      "2024-04-28 01:23:34,989 : INFO : EPOCH 4 - PROGRESS: at 83.89% examples, 2012924 words/s, in_qsize 0, out_qsize 0\n",
      "2024-04-28 01:23:35,905 : INFO : EPOCH 4: training on 17005207 raw words (12010895 effective words) took 5.9s, 2026615 effective words/s\n",
      "2024-04-28 01:23:35,905 : INFO : Word2Vec lifecycle event {'msg': 'training on 85026035 raw words (60060465 effective words) took 27.9s, 2155181 effective words/s', 'datetime': '2024-04-28T01:23:35.905293', 'gensim': '4.3.0', 'python': '3.11.5 | packaged by Anaconda, Inc. | (main, Sep 11 2023, 13:26:23) [MSC v.1916 64 bit (AMD64)]', 'platform': 'Windows-10-10.0.22621-SP0', 'event': 'train'}\n",
      "2024-04-28 01:23:35,905 : INFO : Word2Vec lifecycle event {'params': 'Word2Vec<vocab=27957, vector_size=200, alpha=0.025>', 'datetime': '2024-04-28T01:23:35.905293', 'gensim': '4.3.0', 'python': '3.11.5 | packaged by Anaconda, Inc. | (main, Sep 11 2023, 13:26:23) [MSC v.1916 64 bit (AMD64)]', 'platform': 'Windows-10-10.0.22621-SP0', 'event': 'created'}\n",
      "2024-04-28 01:23:35,905 : INFO : Word2Vec lifecycle event {'fname_or_handle': 'word2vec_gensim', 'separately': 'None', 'sep_limit': 10485760, 'ignore': frozenset(), 'datetime': '2024-04-28T01:23:35.905293', 'gensim': '4.3.0', 'python': '3.11.5 | packaged by Anaconda, Inc. | (main, Sep 11 2023, 13:26:23) [MSC v.1916 64 bit (AMD64)]', 'platform': 'Windows-10-10.0.22621-SP0', 'event': 'saving'}\n",
      "2024-04-28 01:23:35,905 : INFO : not storing attribute cum_table\n",
      "2024-04-28 01:23:35,961 : INFO : saved word2vec_gensim\n",
      "2024-04-28 01:23:35,977 : INFO : storing vocabulary in vocabulary\n",
      "2024-04-28 01:23:36,007 : INFO : storing 27957x200 projection weights into word2vec_org\n"
     ]
    }
   ],
   "source": [
    "# min_count=25\n",
    "!python word2vec.py"
   ]
  },
  {
   "cell_type": "code",
   "execution_count": 50,
   "metadata": {},
   "outputs": [
    {
     "name": "stdout",
     "output_type": "stream",
     "text": [
      "{\"score\": 0.704707239257633, \"errorMsg\": \"success\", \"code\": 0, \"data\": [{\"score\": 0.704707239257633}]}\n"
     ]
    }
   ],
   "source": [
    "!python evaluation.py score.npy"
   ]
  },
  {
   "cell_type": "code",
   "execution_count": 51,
   "metadata": {},
   "outputs": [
    {
     "name": "stdout",
     "output_type": "stream",
     "text": [
      "Total time: 33 s"
     ]
    },
    {
     "name": "stderr",
     "output_type": "stream",
     "text": [
      "2024-04-28 01:24:25,033 : INFO : collecting all words and their counts\n",
      "2024-04-28 01:24:25,033 : INFO : PROGRESS: at sentence #0, processed 0 words, keeping 0 word types\n",
      "2024-04-28 01:24:28,065 : INFO : collected 253854 word types from a corpus of 17005207 raw words and 1701 sentences\n",
      "2024-04-28 01:24:28,065 : INFO : Creating a fresh vocabulary\n",
      "2024-04-28 01:24:28,158 : INFO : Word2Vec lifecycle event {'msg': 'effective_min_count=30 retains 25097 unique words (9.89% of original 253854, drops 228757)', 'datetime': '2024-04-28T01:24:28.140177', 'gensim': '4.3.0', 'python': '3.11.5 | packaged by Anaconda, Inc. | (main, Sep 11 2023, 13:26:23) [MSC v.1916 64 bit (AMD64)]', 'platform': 'Windows-10-10.0.22621-SP0', 'event': 'prepare_vocab'}\n",
      "2024-04-28 01:24:28,158 : INFO : Word2Vec lifecycle event {'msg': 'effective_min_count=30 leaves 16191060 word corpus (95.21% of original 17005207, drops 814147)', 'datetime': '2024-04-28T01:24:28.158058', 'gensim': '4.3.0', 'python': '3.11.5 | packaged by Anaconda, Inc. | (main, Sep 11 2023, 13:26:23) [MSC v.1916 64 bit (AMD64)]', 'platform': 'Windows-10-10.0.22621-SP0', 'event': 'prepare_vocab'}\n",
      "2024-04-28 01:24:28,225 : INFO : deleting the raw counts dictionary of 253854 items\n",
      "2024-04-28 01:24:28,231 : INFO : sample=0.001 downsamples 38 most-common words\n",
      "2024-04-28 01:24:28,233 : INFO : Word2Vec lifecycle event {'msg': 'downsampling leaves estimated 11928484.964182662 word corpus (73.7%% of prior 16191060)', 'datetime': '2024-04-28T01:24:28.233076', 'gensim': '4.3.0', 'python': '3.11.5 | packaged by Anaconda, Inc. | (main, Sep 11 2023, 13:26:23) [MSC v.1916 64 bit (AMD64)]', 'platform': 'Windows-10-10.0.22621-SP0', 'event': 'prepare_vocab'}\n",
      "2024-04-28 01:24:28,327 : INFO : estimated required memory for 25097 words and 200 dimensions: 52703700 bytes\n",
      "2024-04-28 01:24:28,328 : INFO : resetting layer weights\n",
      "2024-04-28 01:24:28,341 : INFO : Word2Vec lifecycle event {'update': False, 'trim_rule': 'None', 'datetime': '2024-04-28T01:24:28.341406', 'gensim': '4.3.0', 'python': '3.11.5 | packaged by Anaconda, Inc. | (main, Sep 11 2023, 13:26:23) [MSC v.1916 64 bit (AMD64)]', 'platform': 'Windows-10-10.0.22621-SP0', 'event': 'build_vocab'}\n",
      "2024-04-28 01:24:28,341 : INFO : Word2Vec lifecycle event {'msg': 'training model with 16 workers on 25097 vocabulary and 200 features, using sg=0 hs=0 sample=0.001 negative=5 window=10 shrink_windows=True', 'datetime': '2024-04-28T01:24:28.341406', 'gensim': '4.3.0', 'python': '3.11.5 | packaged by Anaconda, Inc. | (main, Sep 11 2023, 13:26:23) [MSC v.1916 64 bit (AMD64)]', 'platform': 'Windows-10-10.0.22621-SP0', 'event': 'train'}\n",
      "2024-04-28 01:24:29,347 : INFO : EPOCH 0 - PROGRESS: at 21.05% examples, 2492961 words/s, in_qsize 0, out_qsize 0\n",
      "2024-04-28 01:24:30,347 : INFO : EPOCH 0 - PROGRESS: at 41.86% examples, 2498809 words/s, in_qsize 0, out_qsize 0\n",
      "2024-04-28 01:24:31,349 : INFO : EPOCH 0 - PROGRESS: at 60.79% examples, 2420637 words/s, in_qsize 0, out_qsize 1\n",
      "2024-04-28 01:24:32,349 : INFO : EPOCH 0 - PROGRESS: at 77.13% examples, 2300977 words/s, in_qsize 0, out_qsize 0\n",
      "2024-04-28 01:24:33,351 : INFO : EPOCH 0 - PROGRESS: at 93.47% examples, 2228075 words/s, in_qsize 0, out_qsize 0\n",
      "2024-04-28 01:24:33,765 : INFO : EPOCH 0: training on 17005207 raw words (11926947 effective words) took 5.4s, 2200704 effective words/s\n",
      "2024-04-28 01:24:34,779 : INFO : EPOCH 1 - PROGRESS: at 17.17% examples, 2012021 words/s, in_qsize 0, out_qsize 2\n",
      "2024-04-28 01:24:35,783 : INFO : EPOCH 1 - PROGRESS: at 35.33% examples, 2096580 words/s, in_qsize 0, out_qsize 0\n",
      "2024-04-28 01:24:36,786 : INFO : EPOCH 1 - PROGRESS: at 52.44% examples, 2078035 words/s, in_qsize 0, out_qsize 1\n",
      "2024-04-28 01:24:37,788 : INFO : EPOCH 1 - PROGRESS: at 68.67% examples, 2043372 words/s, in_qsize 0, out_qsize 1\n",
      "2024-04-28 01:24:38,789 : INFO : EPOCH 1 - PROGRESS: at 86.18% examples, 2049565 words/s, in_qsize 0, out_qsize 0\n",
      "2024-04-28 01:24:39,645 : INFO : EPOCH 1: training on 17005207 raw words (11929589 effective words) took 5.9s, 2029891 effective words/s\n",
      "2024-04-28 01:24:40,650 : INFO : EPOCH 2 - PROGRESS: at 17.93% examples, 2120769 words/s, in_qsize 0, out_qsize 2\n",
      "2024-04-28 01:24:41,650 : INFO : EPOCH 2 - PROGRESS: at 35.45% examples, 2114704 words/s, in_qsize 0, out_qsize 0\n",
      "2024-04-28 01:24:42,653 : INFO : EPOCH 2 - PROGRESS: at 53.79% examples, 2139373 words/s, in_qsize 0, out_qsize 0\n",
      "2024-04-28 01:24:43,659 : INFO : EPOCH 2 - PROGRESS: at 72.25% examples, 2154841 words/s, in_qsize 0, out_qsize 0\n",
      "2024-04-28 01:24:44,669 : INFO : EPOCH 2 - PROGRESS: at 90.24% examples, 2145628 words/s, in_qsize 1, out_qsize 0\n",
      "2024-04-28 01:24:45,195 : INFO : EPOCH 2: training on 17005207 raw words (11928349 effective words) took 5.5s, 2149966 effective words/s\n",
      "2024-04-28 01:24:46,198 : INFO : EPOCH 3 - PROGRESS: at 17.58% examples, 2082718 words/s, in_qsize 0, out_qsize 0\n",
      "2024-04-28 01:24:47,199 : INFO : EPOCH 3 - PROGRESS: at 35.45% examples, 2116901 words/s, in_qsize 0, out_qsize 1\n",
      "2024-04-28 01:24:48,199 : INFO : EPOCH 3 - PROGRESS: at 53.20% examples, 2119008 words/s, in_qsize 0, out_qsize 0\n",
      "2024-04-28 01:24:49,202 : INFO : EPOCH 3 - PROGRESS: at 71.25% examples, 2129362 words/s, in_qsize 0, out_qsize 0\n",
      "2024-04-28 01:24:50,201 : INFO : EPOCH 3 - PROGRESS: at 89.48% examples, 2134578 words/s, in_qsize 0, out_qsize 0\n",
      "2024-04-28 01:24:50,770 : INFO : EPOCH 3: training on 17005207 raw words (11927965 effective words) took 5.6s, 2140354 effective words/s\n",
      "2024-04-28 01:24:51,776 : INFO : EPOCH 4 - PROGRESS: at 17.05% examples, 2012021 words/s, in_qsize 0, out_qsize 0\n",
      "2024-04-28 01:24:52,779 : INFO : EPOCH 4 - PROGRESS: at 34.45% examples, 2051316 words/s, in_qsize 0, out_qsize 0\n",
      "2024-04-28 01:24:53,781 : INFO : EPOCH 4 - PROGRESS: at 51.73% examples, 2056787 words/s, in_qsize 0, out_qsize 0\n",
      "2024-04-28 01:24:54,781 : INFO : EPOCH 4 - PROGRESS: at 69.08% examples, 2061479 words/s, in_qsize 0, out_qsize 0\n",
      "2024-04-28 01:24:55,784 : INFO : EPOCH 4 - PROGRESS: at 87.71% examples, 2089367 words/s, in_qsize 0, out_qsize 0\n",
      "2024-04-28 01:24:56,484 : INFO : EPOCH 4: training on 17005207 raw words (11928410 effective words) took 5.7s, 2088803 effective words/s\n",
      "2024-04-28 01:24:56,484 : INFO : Word2Vec lifecycle event {'msg': 'training on 85026035 raw words (59641260 effective words) took 28.1s, 2119262 effective words/s', 'datetime': '2024-04-28T01:24:56.484100', 'gensim': '4.3.0', 'python': '3.11.5 | packaged by Anaconda, Inc. | (main, Sep 11 2023, 13:26:23) [MSC v.1916 64 bit (AMD64)]', 'platform': 'Windows-10-10.0.22621-SP0', 'event': 'train'}\n",
      "2024-04-28 01:24:56,484 : INFO : Word2Vec lifecycle event {'params': 'Word2Vec<vocab=25097, vector_size=200, alpha=0.025>', 'datetime': '2024-04-28T01:24:56.484100', 'gensim': '4.3.0', 'python': '3.11.5 | packaged by Anaconda, Inc. | (main, Sep 11 2023, 13:26:23) [MSC v.1916 64 bit (AMD64)]', 'platform': 'Windows-10-10.0.22621-SP0', 'event': 'created'}\n",
      "2024-04-28 01:24:56,484 : INFO : Word2Vec lifecycle event {'fname_or_handle': 'word2vec_gensim', 'separately': 'None', 'sep_limit': 10485760, 'ignore': frozenset(), 'datetime': '2024-04-28T01:24:56.484100', 'gensim': '4.3.0', 'python': '3.11.5 | packaged by Anaconda, Inc. | (main, Sep 11 2023, 13:26:23) [MSC v.1916 64 bit (AMD64)]', 'platform': 'Windows-10-10.0.22621-SP0', 'event': 'saving'}\n",
      "2024-04-28 01:24:56,484 : INFO : not storing attribute cum_table\n",
      "2024-04-28 01:24:56,525 : INFO : saved word2vec_gensim\n",
      "2024-04-28 01:24:56,534 : INFO : storing vocabulary in vocabulary\n",
      "2024-04-28 01:24:56,555 : INFO : storing 25097x200 projection weights into word2vec_org\n"
     ]
    },
    {
     "name": "stdout",
     "output_type": "stream",
     "text": [
      "\n"
     ]
    }
   ],
   "source": [
    "# min_count=30\n",
    "!python word2vec.py"
   ]
  },
  {
   "cell_type": "code",
   "execution_count": 52,
   "metadata": {},
   "outputs": [
    {
     "name": "stdout",
     "output_type": "stream",
     "text": [
      "{\"score\": 0.6936508753087103, \"errorMsg\": \"success\", \"code\": 0, \"data\": [{\"score\": 0.6936508753087103}]}\n"
     ]
    }
   ],
   "source": [
    "!python evaluation.py score.npy"
   ]
  },
  {
   "cell_type": "code",
   "execution_count": 53,
   "metadata": {},
   "outputs": [
    {
     "data": {
      "image/png": "[encoded data removed]",
      "text/plain": [
       "<Figure size 640x480 with 2 Axes>"
      ]
     },
     "metadata": {},
     "output_type": "display_data"
    }
   ],
   "source": [
    "import matplotlib.pyplot as plt\n",
    "\n",
    "# 数据\n",
    "min_count_size = [5, 10, 15, 20, 25, 30]\n",
    "score = [0.6927590997286565, 0.6934430495037492, 0.6904133055101986, 0.6893439535738417, 0.704707239257633, 0.6936508753087103]\n",
    "time = [44, 39, 36, 35, 33, 33]\n",
    "\n",
    "# 创建画布和坐标轴对象\n",
    "fig, ax1 = plt.subplots()\n",
    "\n",
    "# 绘制score折线图\n",
    "ax1.plot(min_count_size, score, '-', marker='o', label='Score')\n",
    "ax1.set_xlabel('min count size')\n",
    "ax1.set_ylabel('Score')\n",
    "ax1.tick_params('y')\n",
    "ax1.set_xticks(min_count_size)\n",
    "\n",
    "# 创建第二个坐标轴对象，共享x轴\n",
    "ax2 = ax1.twinx()\n",
    "# 绘制time折线图\n",
    "ax2.plot(min_count_size, time, '--', marker='s', label='Time',color='orange')\n",
    "ax2.set_ylabel('Time (s)')\n",
    "ax2.tick_params('y')\n",
    "\n",
    "# 添加图例\n",
    "lines1, labels1 = ax1.get_legend_handles_labels()\n",
    "lines2, labels2 = ax2.get_legend_handles_labels()\n",
    "lines = lines1 + lines2\n",
    "labels = labels1 + labels2\n",
    "ax1.legend(lines, labels, loc='upper right')\n",
    "\n",
    "# 添加网格线\n",
    "ax1.grid(True)\n",
    "\n",
    "# 显示图形\n",
    "plt.show()"
   ]
  },
  {
   "cell_type": "markdown",
   "metadata": {},
   "source": [
    "## 3 实验改进"
   ]
  },
  {
   "cell_type": "code",
   "execution_count": 54,
   "metadata": {},
   "outputs": [
    {
     "name": "stdout",
     "output_type": "stream",
     "text": [
      "Total time: 147 s\n"
     ]
    },
    {
     "name": "stderr",
     "output_type": "stream",
     "text": [
      "2024-04-28 01:32:28,570 : INFO : collecting all words and their counts\n",
      "2024-04-28 01:32:28,571 : INFO : PROGRESS: at sentence #0, processed 0 words, keeping 0 word types\n",
      "2024-04-28 01:32:31,568 : INFO : collected 253854 word types from a corpus of 17005207 raw words and 1701 sentences\n",
      "2024-04-28 01:32:31,568 : INFO : Creating a fresh vocabulary\n",
      "2024-04-28 01:32:31,703 : INFO : Word2Vec lifecycle event {'msg': 'effective_min_count=10 retains 47134 unique words (18.57% of original 253854, drops 206720)', 'datetime': '2024-04-28T01:32:31.688129', 'gensim': '4.3.0', 'python': '3.11.5 | packaged by Anaconda, Inc. | (main, Sep 11 2023, 13:26:23) [MSC v.1916 64 bit (AMD64)]', 'platform': 'Windows-10-10.0.22621-SP0', 'event': 'prepare_vocab'}\n",
      "2024-04-28 01:32:31,703 : INFO : Word2Vec lifecycle event {'msg': 'effective_min_count=10 leaves 16561031 word corpus (97.39% of original 17005207, drops 444176)', 'datetime': '2024-04-28T01:32:31.703889', 'gensim': '4.3.0', 'python': '3.11.5 | packaged by Anaconda, Inc. | (main, Sep 11 2023, 13:26:23) [MSC v.1916 64 bit (AMD64)]', 'platform': 'Windows-10-10.0.22621-SP0', 'event': 'prepare_vocab'}\n",
      "2024-04-28 01:32:31,821 : INFO : deleting the raw counts dictionary of 253854 items\n",
      "2024-04-28 01:32:31,824 : INFO : sample=0.001 downsamples 38 most-common words\n",
      "2024-04-28 01:32:31,825 : INFO : Word2Vec lifecycle event {'msg': 'downsampling leaves estimated 12333563.370024087 word corpus (74.5%% of prior 16561031)', 'datetime': '2024-04-28T01:32:31.825774', 'gensim': '4.3.0', 'python': '3.11.5 | packaged by Anaconda, Inc. | (main, Sep 11 2023, 13:26:23) [MSC v.1916 64 bit (AMD64)]', 'platform': 'Windows-10-10.0.22621-SP0', 'event': 'prepare_vocab'}\n",
      "2024-04-28 01:32:32,000 : INFO : estimated required memory for 47134 words and 200 dimensions: 98981400 bytes\n",
      "2024-04-28 01:32:32,001 : INFO : resetting layer weights\n",
      "2024-04-28 01:32:32,028 : INFO : Word2Vec lifecycle event {'update': False, 'trim_rule': 'None', 'datetime': '2024-04-28T01:32:32.028229', 'gensim': '4.3.0', 'python': '3.11.5 | packaged by Anaconda, Inc. | (main, Sep 11 2023, 13:26:23) [MSC v.1916 64 bit (AMD64)]', 'platform': 'Windows-10-10.0.22621-SP0', 'event': 'build_vocab'}\n",
      "2024-04-28 01:32:32,028 : INFO : Word2Vec lifecycle event {'msg': 'training model with 16 workers on 47134 vocabulary and 200 features, using sg=1 hs=0 sample=0.001 negative=5 window=10 shrink_windows=True', 'datetime': '2024-04-28T01:32:32.028229', 'gensim': '4.3.0', 'python': '3.11.5 | packaged by Anaconda, Inc. | (main, Sep 11 2023, 13:26:23) [MSC v.1916 64 bit (AMD64)]', 'platform': 'Windows-10-10.0.22621-SP0', 'event': 'train'}\n",
      "2024-04-28 01:32:33,038 : INFO : EPOCH 0 - PROGRESS: at 6.00% examples, 730654 words/s, in_qsize 32, out_qsize 0\n",
      "2024-04-28 01:32:34,063 : INFO : EPOCH 0 - PROGRESS: at 11.93% examples, 718654 words/s, in_qsize 31, out_qsize 0\n",
      "2024-04-28 01:32:35,075 : INFO : EPOCH 0 - PROGRESS: at 17.58% examples, 708605 words/s, in_qsize 31, out_qsize 0\n",
      "2024-04-28 01:32:36,084 : INFO : EPOCH 0 - PROGRESS: at 23.28% examples, 706384 words/s, in_qsize 31, out_qsize 0\n",
      "2024-04-28 01:32:37,105 : INFO : EPOCH 0 - PROGRESS: at 27.87% examples, 676702 words/s, in_qsize 31, out_qsize 0\n",
      "2024-04-28 01:32:38,142 : INFO : EPOCH 0 - PROGRESS: at 33.27% examples, 672470 words/s, in_qsize 31, out_qsize 0\n",
      "2024-04-28 01:32:39,155 : INFO : EPOCH 0 - PROGRESS: at 38.86% examples, 674110 words/s, in_qsize 31, out_qsize 0\n",
      "2024-04-28 01:32:40,233 : INFO : EPOCH 0 - PROGRESS: at 40.62% examples, 612194 words/s, in_qsize 32, out_qsize 0\n",
      "2024-04-28 01:32:41,374 : INFO : EPOCH 0 - PROGRESS: at 41.21% examples, 545425 words/s, in_qsize 32, out_qsize 0\n",
      "2024-04-28 01:32:44,013 : INFO : EPOCH 0 - PROGRESS: at 41.45% examples, 427421 words/s, in_qsize 31, out_qsize 0\n",
      "2024-04-28 01:32:46,083 : INFO : EPOCH 0 - PROGRESS: at 41.80% examples, 367582 words/s, in_qsize 31, out_qsize 1\n",
      "2024-04-28 01:32:47,147 : INFO : EPOCH 0 - PROGRESS: at 42.45% examples, 347056 words/s, in_qsize 32, out_qsize 4\n",
      "2024-04-28 01:32:48,158 : INFO : EPOCH 0 - PROGRESS: at 43.68% examples, 334680 words/s, in_qsize 32, out_qsize 0\n",
      "2024-04-28 01:32:49,187 : INFO : EPOCH 0 - PROGRESS: at 44.68% examples, 321900 words/s, in_qsize 31, out_qsize 0\n",
      "2024-04-28 01:32:50,188 : INFO : EPOCH 0 - PROGRESS: at 45.50% examples, 309719 words/s, in_qsize 31, out_qsize 0\n",
      "2024-04-28 01:32:51,267 : INFO : EPOCH 0 - PROGRESS: at 46.50% examples, 298846 words/s, in_qsize 31, out_qsize 0\n",
      "2024-04-28 01:32:52,325 : INFO : EPOCH 0 - PROGRESS: at 47.56% examples, 289765 words/s, in_qsize 32, out_qsize 0\n",
      "2024-04-28 01:32:53,349 : INFO : EPOCH 0 - PROGRESS: at 48.50% examples, 281291 words/s, in_qsize 31, out_qsize 0\n",
      "2024-04-28 01:32:54,365 : INFO : EPOCH 0 - PROGRESS: at 49.56% examples, 274403 words/s, in_qsize 31, out_qsize 0\n",
      "2024-04-28 01:32:55,387 : INFO : EPOCH 0 - PROGRESS: at 50.85% examples, 269244 words/s, in_qsize 32, out_qsize 0\n",
      "2024-04-28 01:32:56,557 : INFO : EPOCH 0 - PROGRESS: at 51.85% examples, 261418 words/s, in_qsize 32, out_qsize 0\n",
      "2024-04-28 01:32:57,775 : INFO : EPOCH 0 - PROGRESS: at 52.91% examples, 254094 words/s, in_qsize 32, out_qsize 0\n",
      "2024-04-28 01:32:58,937 : INFO : EPOCH 0 - PROGRESS: at 54.14% examples, 248864 words/s, in_qsize 30, out_qsize 1\n",
      "2024-04-28 01:32:59,937 : INFO : EPOCH 0 - PROGRESS: at 55.38% examples, 245411 words/s, in_qsize 31, out_qsize 0\n",
      "2024-04-28 01:33:00,992 : INFO : EPOCH 0 - PROGRESS: at 55.97% examples, 239037 words/s, in_qsize 27, out_qsize 4\n",
      "2024-04-28 01:33:02,107 : INFO : EPOCH 0 - PROGRESS: at 57.26% examples, 235458 words/s, in_qsize 32, out_qsize 0\n",
      "2024-04-28 01:33:03,213 : INFO : EPOCH 0 - PROGRESS: at 58.44% examples, 231773 words/s, in_qsize 32, out_qsize 0\n",
      "2024-04-28 01:33:04,220 : INFO : EPOCH 0 - PROGRESS: at 59.49% examples, 228582 words/s, in_qsize 31, out_qsize 0\n",
      "2024-04-28 01:33:05,297 : INFO : EPOCH 0 - PROGRESS: at 60.61% examples, 225350 words/s, in_qsize 31, out_qsize 0\n",
      "2024-04-28 01:33:06,438 : INFO : EPOCH 0 - PROGRESS: at 61.61% examples, 221470 words/s, in_qsize 31, out_qsize 1\n",
      "2024-04-28 01:33:07,509 : INFO : EPOCH 0 - PROGRESS: at 62.73% examples, 218662 words/s, in_qsize 31, out_qsize 0\n",
      "2024-04-28 01:33:08,640 : INFO : EPOCH 0 - PROGRESS: at 63.84% examples, 215722 words/s, in_qsize 31, out_qsize 0\n",
      "2024-04-28 01:33:09,657 : INFO : EPOCH 0 - PROGRESS: at 64.90% examples, 213321 words/s, in_qsize 31, out_qsize 0\n",
      "2024-04-28 01:33:10,717 : INFO : EPOCH 0 - PROGRESS: at 65.96% examples, 210859 words/s, in_qsize 32, out_qsize 0\n",
      "2024-04-28 01:33:11,826 : INFO : EPOCH 0 - PROGRESS: at 66.90% examples, 207934 words/s, in_qsize 32, out_qsize 0\n",
      "2024-04-28 01:33:12,877 : INFO : EPOCH 0 - PROGRESS: at 68.14% examples, 206332 words/s, in_qsize 30, out_qsize 1\n",
      "2024-04-28 01:33:13,928 : INFO : EPOCH 0 - PROGRESS: at 69.02% examples, 203780 words/s, in_qsize 31, out_qsize 1\n",
      "2024-04-28 01:33:15,003 : INFO : EPOCH 0 - PROGRESS: at 70.25% examples, 202208 words/s, in_qsize 32, out_qsize 0\n",
      "2024-04-28 01:33:16,231 : INFO : EPOCH 0 - PROGRESS: at 71.43% examples, 199950 words/s, in_qsize 31, out_qsize 0\n",
      "2024-04-28 01:33:17,343 : INFO : EPOCH 0 - PROGRESS: at 72.55% examples, 198063 words/s, in_qsize 31, out_qsize 0\n",
      "2024-04-28 01:33:18,369 : INFO : EPOCH 0 - PROGRESS: at 73.37% examples, 195897 words/s, in_qsize 32, out_qsize 0\n",
      "2024-04-28 01:33:19,408 : INFO : EPOCH 0 - PROGRESS: at 74.37% examples, 194212 words/s, in_qsize 31, out_qsize 0\n",
      "2024-04-28 01:33:20,427 : INFO : EPOCH 0 - PROGRESS: at 75.43% examples, 192659 words/s, in_qsize 32, out_qsize 0\n",
      "2024-04-28 01:33:21,435 : INFO : EPOCH 0 - PROGRESS: at 76.78% examples, 191987 words/s, in_qsize 30, out_qsize 1\n",
      "2024-04-28 01:33:22,444 : INFO : EPOCH 0 - PROGRESS: at 82.25% examples, 201385 words/s, in_qsize 31, out_qsize 0\n",
      "2024-04-28 01:33:23,446 : INFO : EPOCH 0 - PROGRESS: at 87.48% examples, 210001 words/s, in_qsize 31, out_qsize 0\n",
      "2024-04-28 01:33:24,453 : INFO : EPOCH 0 - PROGRESS: at 92.30% examples, 217287 words/s, in_qsize 31, out_qsize 0\n",
      "2024-04-28 01:33:25,475 : INFO : EPOCH 0 - PROGRESS: at 98.12% examples, 226467 words/s, in_qsize 32, out_qsize 0\n",
      "2024-04-28 01:33:25,888 : INFO : EPOCH 0: training on 17005207 raw words (12333789 effective words) took 53.9s, 229012 effective words/s\n",
      "2024-04-28 01:33:26,920 : INFO : EPOCH 1 - PROGRESS: at 3.53% examples, 425003 words/s, in_qsize 31, out_qsize 0\n",
      "2024-04-28 01:33:27,946 : INFO : EPOCH 1 - PROGRESS: at 8.00% examples, 476593 words/s, in_qsize 31, out_qsize 0\n",
      "2024-04-28 01:33:28,958 : INFO : EPOCH 1 - PROGRESS: at 11.58% examples, 461823 words/s, in_qsize 31, out_qsize 0\n",
      "2024-04-28 01:33:29,969 : INFO : EPOCH 1 - PROGRESS: at 15.23% examples, 457431 words/s, in_qsize 31, out_qsize 0\n",
      "2024-04-28 01:33:30,973 : INFO : EPOCH 1 - PROGRESS: at 18.11% examples, 437359 words/s, in_qsize 31, out_qsize 0\n",
      "2024-04-28 01:33:32,017 : INFO : EPOCH 1 - PROGRESS: at 21.34% examples, 427890 words/s, in_qsize 31, out_qsize 0\n",
      "2024-04-28 01:33:33,037 : INFO : EPOCH 1 - PROGRESS: at 24.87% examples, 428071 words/s, in_qsize 31, out_qsize 0\n",
      "2024-04-28 01:33:34,042 : INFO : EPOCH 1 - PROGRESS: at 28.51% examples, 431329 words/s, in_qsize 31, out_qsize 0\n",
      "2024-04-28 01:33:35,075 : INFO : EPOCH 1 - PROGRESS: at 32.63% examples, 438793 words/s, in_qsize 31, out_qsize 0\n",
      "2024-04-28 01:33:36,077 : INFO : EPOCH 1 - PROGRESS: at 36.51% examples, 443189 words/s, in_qsize 31, out_qsize 0\n",
      "2024-04-28 01:33:37,082 : INFO : EPOCH 1 - PROGRESS: at 40.27% examples, 444907 words/s, in_qsize 31, out_qsize 0\n",
      "2024-04-28 01:33:38,085 : INFO : EPOCH 1 - PROGRESS: at 44.80% examples, 454367 words/s, in_qsize 31, out_qsize 0\n",
      "2024-04-28 01:33:39,095 : INFO : EPOCH 1 - PROGRESS: at 49.38% examples, 462562 words/s, in_qsize 31, out_qsize 0\n",
      "2024-04-28 01:33:40,114 : INFO : EPOCH 1 - PROGRESS: at 53.73% examples, 467244 words/s, in_qsize 31, out_qsize 0\n",
      "2024-04-28 01:33:41,122 : INFO : EPOCH 1 - PROGRESS: at 58.38% examples, 474102 words/s, in_qsize 31, out_qsize 0\n",
      "2024-04-28 01:33:42,123 : INFO : EPOCH 1 - PROGRESS: at 63.02% examples, 480287 words/s, in_qsize 31, out_qsize 0\n",
      "2024-04-28 01:33:43,125 : INFO : EPOCH 1 - PROGRESS: at 67.90% examples, 487372 words/s, in_qsize 31, out_qsize 0\n",
      "2024-04-28 01:33:44,135 : INFO : EPOCH 1 - PROGRESS: at 72.90% examples, 494419 words/s, in_qsize 31, out_qsize 0\n",
      "2024-04-28 01:33:45,169 : INFO : EPOCH 1 - PROGRESS: at 77.72% examples, 497953 words/s, in_qsize 31, out_qsize 0\n",
      "2024-04-28 01:33:46,181 : INFO : EPOCH 1 - PROGRESS: at 82.77% examples, 503620 words/s, in_qsize 31, out_qsize 0\n",
      "2024-04-28 01:33:47,183 : INFO : EPOCH 1 - PROGRESS: at 87.65% examples, 508215 words/s, in_qsize 31, out_qsize 0\n",
      "2024-04-28 01:33:48,184 : INFO : EPOCH 1 - PROGRESS: at 92.48% examples, 512024 words/s, in_qsize 31, out_qsize 0\n",
      "2024-04-28 01:33:49,200 : INFO : EPOCH 1 - PROGRESS: at 97.35% examples, 515398 words/s, in_qsize 31, out_qsize 0\n",
      "2024-04-28 01:33:49,697 : INFO : EPOCH 1: training on 17005207 raw words (12335029 effective words) took 23.8s, 518162 effective words/s\n",
      "2024-04-28 01:33:50,710 : INFO : EPOCH 2 - PROGRESS: at 4.53% examples, 554018 words/s, in_qsize 31, out_qsize 0\n",
      "2024-04-28 01:33:51,723 : INFO : EPOCH 2 - PROGRESS: at 9.76% examples, 590845 words/s, in_qsize 31, out_qsize 0\n",
      "2024-04-28 01:33:52,733 : INFO : EPOCH 2 - PROGRESS: at 15.11% examples, 610638 words/s, in_qsize 31, out_qsize 0\n",
      "2024-04-28 01:33:53,735 : INFO : EPOCH 2 - PROGRESS: at 19.75% examples, 600974 words/s, in_qsize 31, out_qsize 0\n",
      "2024-04-28 01:33:54,742 : INFO : EPOCH 2 - PROGRESS: at 23.57% examples, 575460 words/s, in_qsize 31, out_qsize 0\n",
      "2024-04-28 01:33:55,745 : INFO : EPOCH 2 - PROGRESS: at 27.45% examples, 559928 words/s, in_qsize 30, out_qsize 1\n",
      "2024-04-28 01:33:56,757 : INFO : EPOCH 2 - PROGRESS: at 32.22% examples, 563852 words/s, in_qsize 31, out_qsize 0\n",
      "2024-04-28 01:33:57,770 : INFO : EPOCH 2 - PROGRESS: at 37.21% examples, 570252 words/s, in_qsize 31, out_qsize 0\n",
      "2024-04-28 01:33:58,777 : INFO : EPOCH 2 - PROGRESS: at 41.98% examples, 571919 words/s, in_qsize 31, out_qsize 0\n",
      "2024-04-28 01:33:59,796 : INFO : EPOCH 2 - PROGRESS: at 47.09% examples, 577057 words/s, in_qsize 31, out_qsize 0\n",
      "2024-04-28 01:34:00,798 : INFO : EPOCH 2 - PROGRESS: at 52.26% examples, 582469 words/s, in_qsize 31, out_qsize 0\n",
      "2024-04-28 01:34:01,804 : INFO : EPOCH 2 - PROGRESS: at 57.32% examples, 585920 words/s, in_qsize 31, out_qsize 0\n",
      "2024-04-28 01:34:02,821 : INFO : EPOCH 2 - PROGRESS: at 62.43% examples, 588718 words/s, in_qsize 31, out_qsize 0\n",
      "2024-04-28 01:34:03,841 : INFO : EPOCH 2 - PROGRESS: at 67.14% examples, 587353 words/s, in_qsize 31, out_qsize 0\n",
      "2024-04-28 01:34:04,849 : INFO : EPOCH 2 - PROGRESS: at 72.31% examples, 590638 words/s, in_qsize 31, out_qsize 0\n",
      "2024-04-28 01:34:05,863 : INFO : EPOCH 2 - PROGRESS: at 77.60% examples, 593079 words/s, in_qsize 32, out_qsize 0\n",
      "2024-04-28 01:34:06,873 : INFO : EPOCH 2 - PROGRESS: at 82.77% examples, 595074 words/s, in_qsize 31, out_qsize 0\n",
      "2024-04-28 01:34:07,875 : INFO : EPOCH 2 - PROGRESS: at 87.89% examples, 596962 words/s, in_qsize 31, out_qsize 0\n",
      "2024-04-28 01:34:08,880 : INFO : EPOCH 2 - PROGRESS: at 92.77% examples, 597012 words/s, in_qsize 31, out_qsize 0\n",
      "2024-04-28 01:34:09,896 : INFO : EPOCH 2 - PROGRESS: at 97.71% examples, 596940 words/s, in_qsize 31, out_qsize 0\n",
      "2024-04-28 01:34:10,322 : INFO : EPOCH 2: training on 17005207 raw words (12336117 effective words) took 20.6s, 598264 effective words/s\n",
      "2024-04-28 01:34:11,340 : INFO : EPOCH 3 - PROGRESS: at 4.53% examples, 550065 words/s, in_qsize 31, out_qsize 0\n",
      "2024-04-28 01:34:12,345 : INFO : EPOCH 3 - PROGRESS: at 9.58% examples, 580091 words/s, in_qsize 31, out_qsize 0\n",
      "2024-04-28 01:34:13,349 : INFO : EPOCH 3 - PROGRESS: at 14.17% examples, 573863 words/s, in_qsize 31, out_qsize 0\n",
      "2024-04-28 01:34:14,349 : INFO : EPOCH 3 - PROGRESS: at 19.22% examples, 585948 words/s, in_qsize 31, out_qsize 0\n",
      "2024-04-28 01:34:15,354 : INFO : EPOCH 3 - PROGRESS: at 23.87% examples, 583936 words/s, in_qsize 31, out_qsize 0\n",
      "2024-04-28 01:34:16,389 : INFO : EPOCH 3 - PROGRESS: at 28.63% examples, 581893 words/s, in_qsize 31, out_qsize 0\n",
      "2024-04-28 01:34:17,411 : INFO : EPOCH 3 - PROGRESS: at 33.51% examples, 583958 words/s, in_qsize 31, out_qsize 0\n",
      "2024-04-28 01:34:18,421 : INFO : EPOCH 3 - PROGRESS: at 38.33% examples, 585094 words/s, in_qsize 31, out_qsize 0\n",
      "2024-04-28 01:34:19,432 : INFO : EPOCH 3 - PROGRESS: at 43.33% examples, 588162 words/s, in_qsize 31, out_qsize 0\n",
      "2024-04-28 01:34:20,467 : INFO : EPOCH 3 - PROGRESS: at 47.38% examples, 577706 words/s, in_qsize 31, out_qsize 0\n",
      "2024-04-28 01:34:21,492 : INFO : EPOCH 3 - PROGRESS: at 52.20% examples, 577992 words/s, in_qsize 31, out_qsize 0\n",
      "2024-04-28 01:34:22,506 : INFO : EPOCH 3 - PROGRESS: at 57.32% examples, 581950 words/s, in_qsize 31, out_qsize 0\n",
      "2024-04-28 01:34:23,511 : INFO : EPOCH 3 - PROGRESS: at 62.08% examples, 582282 words/s, in_qsize 30, out_qsize 0\n",
      "2024-04-28 01:34:24,555 : INFO : EPOCH 3 - PROGRESS: at 66.90% examples, 581470 words/s, in_qsize 31, out_qsize 0\n",
      "2024-04-28 01:34:25,569 : INFO : EPOCH 3 - PROGRESS: at 71.96% examples, 583888 words/s, in_qsize 31, out_qsize 0\n",
      "2024-04-28 01:34:26,593 : INFO : EPOCH 3 - PROGRESS: at 76.95% examples, 584306 words/s, in_qsize 31, out_qsize 0\n",
      "2024-04-28 01:34:27,593 : INFO : EPOCH 3 - PROGRESS: at 81.60% examples, 583332 words/s, in_qsize 31, out_qsize 0\n",
      "2024-04-28 01:34:28,597 : INFO : EPOCH 3 - PROGRESS: at 86.01% examples, 581035 words/s, in_qsize 31, out_qsize 0\n",
      "2024-04-28 01:34:29,617 : INFO : EPOCH 3 - PROGRESS: at 90.01% examples, 575982 words/s, in_qsize 32, out_qsize 0\n",
      "2024-04-28 01:34:30,625 : INFO : EPOCH 3 - PROGRESS: at 94.24% examples, 572819 words/s, in_qsize 30, out_qsize 1\n",
      "2024-04-28 01:34:31,651 : INFO : EPOCH 3 - PROGRESS: at 98.94% examples, 572275 words/s, in_qsize 18, out_qsize 0\n",
      "2024-04-28 01:34:31,812 : INFO : EPOCH 3: training on 17005207 raw words (12333386 effective words) took 21.5s, 573986 effective words/s\n",
      "2024-04-28 01:34:32,823 : INFO : EPOCH 4 - PROGRESS: at 4.23% examples, 519400 words/s, in_qsize 31, out_qsize 0\n",
      "2024-04-28 01:34:33,842 : INFO : EPOCH 4 - PROGRESS: at 8.99% examples, 542890 words/s, in_qsize 30, out_qsize 0\n",
      "2024-04-28 01:34:34,861 : INFO : EPOCH 4 - PROGRESS: at 13.87% examples, 558247 words/s, in_qsize 31, out_qsize 0\n",
      "2024-04-28 01:34:35,890 : INFO : EPOCH 4 - PROGRESS: at 18.93% examples, 569784 words/s, in_qsize 31, out_qsize 0\n",
      "2024-04-28 01:34:36,922 : INFO : EPOCH 4 - PROGRESS: at 23.87% examples, 575197 words/s, in_qsize 31, out_qsize 0\n",
      "2024-04-28 01:34:37,935 : INFO : EPOCH 4 - PROGRESS: at 28.75% examples, 579050 words/s, in_qsize 31, out_qsize 0\n",
      "2024-04-28 01:34:38,958 : INFO : EPOCH 4 - PROGRESS: at 33.39% examples, 577393 words/s, in_qsize 31, out_qsize 0\n",
      "2024-04-28 01:34:39,961 : INFO : EPOCH 4 - PROGRESS: at 38.27% examples, 580682 words/s, in_qsize 30, out_qsize 0\n",
      "2024-04-28 01:34:40,969 : INFO : EPOCH 4 - PROGRESS: at 43.33% examples, 585173 words/s, in_qsize 31, out_qsize 0\n",
      "2024-04-28 01:34:42,001 : INFO : EPOCH 4 - PROGRESS: at 48.32% examples, 586670 words/s, in_qsize 31, out_qsize 0\n",
      "2024-04-28 01:34:43,018 : INFO : EPOCH 4 - PROGRESS: at 52.91% examples, 584134 words/s, in_qsize 31, out_qsize 0\n",
      "2024-04-28 01:34:44,028 : INFO : EPOCH 4 - PROGRESS: at 57.38% examples, 581041 words/s, in_qsize 31, out_qsize 0\n",
      "2024-04-28 01:34:45,042 : INFO : EPOCH 4 - PROGRESS: at 62.08% examples, 580508 words/s, in_qsize 31, out_qsize 0\n",
      "2024-04-28 01:34:46,059 : INFO : EPOCH 4 - PROGRESS: at 67.14% examples, 582929 words/s, in_qsize 31, out_qsize 0\n",
      "2024-04-28 01:34:47,067 : INFO : EPOCH 4 - PROGRESS: at 72.08% examples, 584500 words/s, in_qsize 30, out_qsize 0\n",
      "2024-04-28 01:34:48,079 : INFO : EPOCH 4 - PROGRESS: at 77.01% examples, 584823 words/s, in_qsize 31, out_qsize 0\n",
      "2024-04-28 01:34:49,091 : INFO : EPOCH 4 - PROGRESS: at 81.89% examples, 585092 words/s, in_qsize 31, out_qsize 0\n",
      "2024-04-28 01:34:50,121 : INFO : EPOCH 4 - PROGRESS: at 86.95% examples, 586180 words/s, in_qsize 31, out_qsize 0\n",
      "2024-04-28 01:34:51,123 : INFO : EPOCH 4 - PROGRESS: at 91.95% examples, 587632 words/s, in_qsize 31, out_qsize 0\n",
      "2024-04-28 01:34:52,127 : INFO : EPOCH 4 - PROGRESS: at 96.77% examples, 587769 words/s, in_qsize 31, out_qsize 0\n",
      "2024-04-28 01:34:52,725 : INFO : EPOCH 4: training on 17005207 raw words (12332961 effective words) took 20.9s, 589801 effective words/s\n",
      "2024-04-28 01:34:52,726 : INFO : Word2Vec lifecycle event {'msg': 'training on 85026035 raw words (61671282 effective words) took 140.7s, 438325 effective words/s', 'datetime': '2024-04-28T01:34:52.726472', 'gensim': '4.3.0', 'python': '3.11.5 | packaged by Anaconda, Inc. | (main, Sep 11 2023, 13:26:23) [MSC v.1916 64 bit (AMD64)]', 'platform': 'Windows-10-10.0.22621-SP0', 'event': 'train'}\n",
      "2024-04-28 01:34:52,726 : INFO : Word2Vec lifecycle event {'params': 'Word2Vec<vocab=47134, vector_size=200, alpha=0.025>', 'datetime': '2024-04-28T01:34:52.726472', 'gensim': '4.3.0', 'python': '3.11.5 | packaged by Anaconda, Inc. | (main, Sep 11 2023, 13:26:23) [MSC v.1916 64 bit (AMD64)]', 'platform': 'Windows-10-10.0.22621-SP0', 'event': 'created'}\n",
      "2024-04-28 01:34:52,726 : INFO : Word2Vec lifecycle event {'fname_or_handle': 'word2vec_gensim', 'separately': 'None', 'sep_limit': 10485760, 'ignore': frozenset(), 'datetime': '2024-04-28T01:34:52.726472', 'gensim': '4.3.0', 'python': '3.11.5 | packaged by Anaconda, Inc. | (main, Sep 11 2023, 13:26:23) [MSC v.1916 64 bit (AMD64)]', 'platform': 'Windows-10-10.0.22621-SP0', 'event': 'saving'}\n",
      "2024-04-28 01:34:52,737 : INFO : not storing attribute cum_table\n",
      "2024-04-28 01:34:52,813 : INFO : saved word2vec_gensim\n",
      "2024-04-28 01:34:52,838 : INFO : storing vocabulary in vocabulary\n",
      "2024-04-28 01:34:52,873 : INFO : storing 47134x200 projection weights into word2vec_org\n"
     ]
    }
   ],
   "source": [
    "# Skip-Gram\n",
    "!python word2vec.py"
   ]
  },
  {
   "cell_type": "code",
   "execution_count": 55,
   "metadata": {},
   "outputs": [
    {
     "name": "stdout",
     "output_type": "stream",
     "text": [
      "{\"score\": 0.7124438700653573, \"errorMsg\": \"success\", \"code\": 0, \"data\": [{\"score\": 0.7124438700653573}]}\n"
     ]
    }
   ],
   "source": [
    "!python evaluation.py score.npy"
   ]
  },
  {
   "cell_type": "code",
   "execution_count": 57,
   "metadata": {},
   "outputs": [
    {
     "name": "stdout",
     "output_type": "stream",
     "text": [
      "Total time: 104 s\n"
     ]
    },
    {
     "name": "stderr",
     "output_type": "stream",
     "text": [
      "2024-04-28 01:48:29,056 : INFO : collecting all words and their counts\n",
      "2024-04-28 01:48:29,056 : INFO : PROGRESS: at sentence #0, processed 0 words, keeping 0 word types\n",
      "2024-04-28 01:48:32,449 : INFO : collected 253854 word types from a corpus of 17005207 raw words and 1701 sentences\n",
      "2024-04-28 01:48:32,449 : INFO : Creating a fresh vocabulary\n",
      "2024-04-28 01:48:32,583 : INFO : Word2Vec lifecycle event {'msg': 'effective_min_count=10 retains 47134 unique words (18.57% of original 253854, drops 206720)', 'datetime': '2024-04-28T01:48:32.566744', 'gensim': '4.3.0', 'python': '3.11.5 | packaged by Anaconda, Inc. | (main, Sep 11 2023, 13:26:23) [MSC v.1916 64 bit (AMD64)]', 'platform': 'Windows-10-10.0.22621-SP0', 'event': 'prepare_vocab'}\n",
      "2024-04-28 01:48:32,583 : INFO : Word2Vec lifecycle event {'msg': 'effective_min_count=10 leaves 16561031 word corpus (97.39% of original 17005207, drops 444176)', 'datetime': '2024-04-28T01:48:32.583635', 'gensim': '4.3.0', 'python': '3.11.5 | packaged by Anaconda, Inc. | (main, Sep 11 2023, 13:26:23) [MSC v.1916 64 bit (AMD64)]', 'platform': 'Windows-10-10.0.22621-SP0', 'event': 'prepare_vocab'}\n",
      "2024-04-28 01:48:32,729 : INFO : deleting the raw counts dictionary of 253854 items\n",
      "2024-04-28 01:48:32,736 : INFO : sample=0.001 downsamples 38 most-common words\n",
      "2024-04-28 01:48:32,738 : INFO : Word2Vec lifecycle event {'msg': 'downsampling leaves estimated 12333563.370024087 word corpus (74.5%% of prior 16561031)', 'datetime': '2024-04-28T01:48:32.738248', 'gensim': '4.3.0', 'python': '3.11.5 | packaged by Anaconda, Inc. | (main, Sep 11 2023, 13:26:23) [MSC v.1916 64 bit (AMD64)]', 'platform': 'Windows-10-10.0.22621-SP0', 'event': 'prepare_vocab'}\n",
      "2024-04-28 01:48:32,958 : INFO : estimated required memory for 47134 words and 200 dimensions: 98981400 bytes\n",
      "2024-04-28 01:48:32,958 : INFO : resetting layer weights\n",
      "2024-04-28 01:48:33,003 : INFO : Word2Vec lifecycle event {'update': False, 'trim_rule': 'None', 'datetime': '2024-04-28T01:48:33.003849', 'gensim': '4.3.0', 'python': '3.11.5 | packaged by Anaconda, Inc. | (main, Sep 11 2023, 13:26:23) [MSC v.1916 64 bit (AMD64)]', 'platform': 'Windows-10-10.0.22621-SP0', 'event': 'build_vocab'}\n",
      "2024-04-28 01:48:33,004 : INFO : Word2Vec lifecycle event {'msg': 'training model with 16 workers on 47134 vocabulary and 200 features, using sg=0 hs=0 sample=0.001 negative=5 window=10 shrink_windows=True', 'datetime': '2024-04-28T01:48:33.004366', 'gensim': '4.3.0', 'python': '3.11.5 | packaged by Anaconda, Inc. | (main, Sep 11 2023, 13:26:23) [MSC v.1916 64 bit (AMD64)]', 'platform': 'Windows-10-10.0.22621-SP0', 'event': 'train'}\n",
      "2024-04-28 01:48:34,016 : INFO : EPOCH 0 - PROGRESS: at 17.23% examples, 2101011 words/s, in_qsize 0, out_qsize 1\n",
      "2024-04-28 01:48:35,015 : INFO : EPOCH 0 - PROGRESS: at 34.10% examples, 2100425 words/s, in_qsize 0, out_qsize 0\n",
      "2024-04-28 01:48:36,018 : INFO : EPOCH 0 - PROGRESS: at 50.68% examples, 2084595 words/s, in_qsize 0, out_qsize 0\n",
      "2024-04-28 01:48:37,018 : INFO : EPOCH 0 - PROGRESS: at 67.25% examples, 2074972 words/s, in_qsize 0, out_qsize 0\n",
      "2024-04-28 01:48:38,023 : INFO : EPOCH 0 - PROGRESS: at 84.83% examples, 2089396 words/s, in_qsize 0, out_qsize 0\n",
      "2024-04-28 01:48:39,024 : INFO : EPOCH 0 - PROGRESS: at 97.18% examples, 1994138 words/s, in_qsize 0, out_qsize 0\n",
      "2024-04-28 01:48:39,349 : INFO : EPOCH 0: training on 17005207 raw words (12334507 effective words) took 6.3s, 1946189 effective words/s\n",
      "2024-04-28 01:48:40,355 : INFO : EPOCH 1 - PROGRESS: at 13.46% examples, 1644485 words/s, in_qsize 0, out_qsize 0\n",
      "2024-04-28 01:48:41,359 : INFO : EPOCH 1 - PROGRESS: at 28.75% examples, 1766592 words/s, in_qsize 0, out_qsize 0\n",
      "2024-04-28 01:48:42,359 : INFO : EPOCH 1 - PROGRESS: at 44.39% examples, 1825155 words/s, in_qsize 0, out_qsize 0\n",
      "2024-04-28 01:48:43,365 : INFO : EPOCH 1 - PROGRESS: at 58.38% examples, 1799222 words/s, in_qsize 0, out_qsize 2\n",
      "2024-04-28 01:48:44,371 : INFO : EPOCH 1 - PROGRESS: at 73.13% examples, 1803122 words/s, in_qsize 1, out_qsize 1\n",
      "2024-04-28 01:48:45,375 : INFO : EPOCH 1 - PROGRESS: at 88.36% examples, 1811195 words/s, in_qsize 0, out_qsize 0\n",
      "2024-04-28 01:48:46,317 : INFO : EPOCH 1: training on 17005207 raw words (12334589 effective words) took 7.0s, 1771288 effective words/s\n",
      "2024-04-28 01:48:47,322 : INFO : EPOCH 2 - PROGRESS: at 12.35% examples, 1506198 words/s, in_qsize 0, out_qsize 0\n",
      "2024-04-28 01:48:48,324 : INFO : EPOCH 2 - PROGRESS: at 22.69% examples, 1391175 words/s, in_qsize 0, out_qsize 0\n",
      "2024-04-28 01:48:49,324 : INFO : EPOCH 2 - PROGRESS: at 36.98% examples, 1520866 words/s, in_qsize 1, out_qsize 0\n",
      "2024-04-28 01:48:50,329 : INFO : EPOCH 2 - PROGRESS: at 50.73% examples, 1564864 words/s, in_qsize 0, out_qsize 0\n",
      "2024-04-28 01:48:51,332 : INFO : EPOCH 2 - PROGRESS: at 58.73% examples, 1449205 words/s, in_qsize 0, out_qsize 0\n",
      "2024-04-28 01:48:52,343 : INFO : EPOCH 2 - PROGRESS: at 70.61% examples, 1449800 words/s, in_qsize 0, out_qsize 0\n",
      "2024-04-28 01:48:53,347 : INFO : EPOCH 2 - PROGRESS: at 80.95% examples, 1422288 words/s, in_qsize 0, out_qsize 0\n",
      "2024-04-28 01:48:54,353 : INFO : EPOCH 2 - PROGRESS: at 95.71% examples, 1469937 words/s, in_qsize 0, out_qsize 0\n",
      "2024-04-28 01:48:54,813 : INFO : EPOCH 2: training on 17005207 raw words (12333496 effective words) took 8.5s, 1452153 effective words/s\n",
      "2024-04-28 01:48:55,817 : INFO : EPOCH 3 - PROGRESS: at 15.40% examples, 1886362 words/s, in_qsize 0, out_qsize 0\n",
      "2024-04-28 01:48:56,819 : INFO : EPOCH 3 - PROGRESS: at 30.34% examples, 1868842 words/s, in_qsize 0, out_qsize 1\n",
      "2024-04-28 01:48:57,827 : INFO : EPOCH 3 - PROGRESS: at 46.85% examples, 1924993 words/s, in_qsize 0, out_qsize 0\n",
      "2024-04-28 01:48:58,828 : INFO : EPOCH 3 - PROGRESS: at 61.79% examples, 1905038 words/s, in_qsize 0, out_qsize 1\n",
      "2024-04-28 01:48:59,830 : INFO : EPOCH 3 - PROGRESS: at 75.13% examples, 1853048 words/s, in_qsize 1, out_qsize 0\n",
      "2024-04-28 01:49:00,850 : INFO : EPOCH 3 - PROGRESS: at 85.77% examples, 1755152 words/s, in_qsize 31, out_qsize 0\n",
      "2024-04-28 01:49:01,858 : INFO : EPOCH 3 - PROGRESS: at 90.48% examples, 1585375 words/s, in_qsize 29, out_qsize 3\n",
      "2024-04-28 01:49:02,889 : INFO : EPOCH 3 - PROGRESS: at 96.53% examples, 1475075 words/s, in_qsize 28, out_qsize 1\n",
      "2024-04-28 01:49:03,480 : INFO : EPOCH 3: training on 17005207 raw words (12334896 effective words) took 8.7s, 1423307 effective words/s\n",
      "2024-04-28 01:49:04,495 : INFO : EPOCH 4 - PROGRESS: at 4.59% examples, 561819 words/s, in_qsize 31, out_qsize 0\n",
      "2024-04-28 01:49:05,514 : INFO : EPOCH 4 - PROGRESS: at 9.99% examples, 603381 words/s, in_qsize 20, out_qsize 2\n",
      "2024-04-28 01:49:06,514 : INFO : EPOCH 4 - PROGRESS: at 15.52% examples, 627950 words/s, in_qsize 31, out_qsize 0\n",
      "2024-04-28 01:49:07,520 : INFO : EPOCH 4 - PROGRESS: at 20.63% examples, 627796 words/s, in_qsize 30, out_qsize 1\n",
      "2024-04-28 01:49:08,552 : INFO : EPOCH 4 - PROGRESS: at 25.87% examples, 628797 words/s, in_qsize 32, out_qsize 0\n",
      "2024-04-28 01:49:09,553 : INFO : EPOCH 4 - PROGRESS: at 31.16% examples, 633931 words/s, in_qsize 28, out_qsize 3\n",
      "2024-04-28 01:49:10,600 : INFO : EPOCH 4 - PROGRESS: at 36.33% examples, 631720 words/s, in_qsize 31, out_qsize 3\n",
      "2024-04-28 01:49:11,611 : INFO : EPOCH 4 - PROGRESS: at 41.56% examples, 632668 words/s, in_qsize 31, out_qsize 1\n",
      "2024-04-28 01:49:12,612 : INFO : EPOCH 4 - PROGRESS: at 47.68% examples, 646305 words/s, in_qsize 31, out_qsize 0\n",
      "2024-04-28 01:49:13,656 : INFO : EPOCH 4 - PROGRESS: at 52.50% examples, 638458 words/s, in_qsize 30, out_qsize 1\n",
      "2024-04-28 01:49:14,656 : INFO : EPOCH 4 - PROGRESS: at 57.08% examples, 632139 words/s, in_qsize 31, out_qsize 0\n",
      "2024-04-28 01:49:15,684 : INFO : EPOCH 4 - PROGRESS: at 61.55% examples, 624392 words/s, in_qsize 31, out_qsize 0\n",
      "2024-04-28 01:49:16,680 : INFO : EPOCH 4 - PROGRESS: at 66.96% examples, 627669 words/s, in_qsize 31, out_qsize 0\n",
      "2024-04-28 01:49:17,684 : INFO : EPOCH 4 - PROGRESS: at 72.13% examples, 628607 words/s, in_qsize 31, out_qsize 0\n",
      "2024-04-28 01:49:18,684 : INFO : EPOCH 4 - PROGRESS: at 77.48% examples, 629590 words/s, in_qsize 31, out_qsize 0\n",
      "2024-04-28 01:49:19,693 : INFO : EPOCH 4 - PROGRESS: at 82.83% examples, 630886 words/s, in_qsize 31, out_qsize 1\n",
      "2024-04-28 01:49:20,696 : INFO : EPOCH 4 - PROGRESS: at 88.30% examples, 633174 words/s, in_qsize 31, out_qsize 0\n",
      "2024-04-28 01:49:21,727 : INFO : EPOCH 4 - PROGRESS: at 93.89% examples, 635174 words/s, in_qsize 31, out_qsize 1\n",
      "2024-04-28 01:49:22,726 : INFO : EPOCH 4: training on 17005207 raw words (12333442 effective words) took 19.2s, 641100 effective words/s\n",
      "2024-04-28 01:49:23,794 : INFO : EPOCH 5 - PROGRESS: at 4.82% examples, 560488 words/s, in_qsize 31, out_qsize 0\n",
      "2024-04-28 01:49:24,811 : INFO : EPOCH 5 - PROGRESS: at 10.11% examples, 595122 words/s, in_qsize 32, out_qsize 0\n",
      "2024-04-28 01:49:25,819 : INFO : EPOCH 5 - PROGRESS: at 15.17% examples, 602035 words/s, in_qsize 30, out_qsize 1\n",
      "2024-04-28 01:49:26,844 : INFO : EPOCH 5 - PROGRESS: at 20.22% examples, 603848 words/s, in_qsize 31, out_qsize 0\n",
      "2024-04-28 01:49:27,872 : INFO : EPOCH 5 - PROGRESS: at 25.93% examples, 620518 words/s, in_qsize 32, out_qsize 1\n",
      "2024-04-28 01:49:28,897 : INFO : EPOCH 5 - PROGRESS: at 30.92% examples, 619185 words/s, in_qsize 27, out_qsize 1\n",
      "2024-04-28 01:49:29,896 : INFO : EPOCH 5 - PROGRESS: at 35.68% examples, 615796 words/s, in_qsize 32, out_qsize 0\n",
      "2024-04-28 01:49:30,925 : INFO : EPOCH 5 - PROGRESS: at 40.80% examples, 615562 words/s, in_qsize 32, out_qsize 1\n",
      "2024-04-28 01:49:31,967 : INFO : EPOCH 5 - PROGRESS: at 45.97% examples, 615678 words/s, in_qsize 31, out_qsize 0\n",
      "2024-04-28 01:49:33,046 : INFO : EPOCH 5 - PROGRESS: at 50.97% examples, 610990 words/s, in_qsize 32, out_qsize 0\n",
      "2024-04-28 01:49:34,058 : INFO : EPOCH 5 - PROGRESS: at 56.61% examples, 618211 words/s, in_qsize 30, out_qsize 1\n",
      "2024-04-28 01:49:35,063 : INFO : EPOCH 5 - PROGRESS: at 62.14% examples, 623238 words/s, in_qsize 32, out_qsize 0\n",
      "2024-04-28 01:49:36,084 : INFO : EPOCH 5 - PROGRESS: at 67.08% examples, 621419 words/s, in_qsize 30, out_qsize 3\n",
      "2024-04-28 01:49:37,087 : INFO : EPOCH 5 - PROGRESS: at 72.72% examples, 626697 words/s, in_qsize 30, out_qsize 1\n",
      "2024-04-28 01:49:38,108 : INFO : EPOCH 5 - PROGRESS: at 78.07% examples, 626611 words/s, in_qsize 30, out_qsize 1\n",
      "2024-04-28 01:49:39,137 : INFO : EPOCH 5 - PROGRESS: at 84.07% examples, 632066 words/s, in_qsize 30, out_qsize 1\n",
      "2024-04-28 01:49:40,151 : INFO : EPOCH 5 - PROGRESS: at 89.24% examples, 632160 words/s, in_qsize 30, out_qsize 1\n",
      "2024-04-28 01:49:41,151 : INFO : EPOCH 5 - PROGRESS: at 94.36% examples, 631868 words/s, in_qsize 32, out_qsize 0\n",
      "2024-04-28 01:49:42,156 : INFO : EPOCH 5 - PROGRESS: at 99.47% examples, 631650 words/s, in_qsize 7, out_qsize 5\n",
      "2024-04-28 01:49:42,180 : INFO : EPOCH 5: training on 17005207 raw words (12332604 effective words) took 19.5s, 634025 effective words/s\n",
      "2024-04-28 01:49:43,201 : INFO : EPOCH 6 - PROGRESS: at 4.70% examples, 570044 words/s, in_qsize 28, out_qsize 3\n",
      "2024-04-28 01:49:44,201 : INFO : EPOCH 6 - PROGRESS: at 10.17% examples, 615618 words/s, in_qsize 32, out_qsize 0\n",
      "2024-04-28 01:49:45,245 : INFO : EPOCH 6 - PROGRESS: at 15.17% examples, 607837 words/s, in_qsize 31, out_qsize 0\n",
      "2024-04-28 01:49:46,326 : INFO : EPOCH 6 - PROGRESS: at 20.22% examples, 599536 words/s, in_qsize 28, out_qsize 3\n",
      "2024-04-28 01:49:47,338 : INFO : EPOCH 6 - PROGRESS: at 25.75% examples, 615705 words/s, in_qsize 31, out_qsize 1\n",
      "2024-04-28 01:49:48,349 : INFO : EPOCH 6 - PROGRESS: at 30.98% examples, 619431 words/s, in_qsize 31, out_qsize 0\n",
      "2024-04-28 01:49:49,396 : INFO : EPOCH 6 - PROGRESS: at 35.27% examples, 604860 words/s, in_qsize 30, out_qsize 1\n",
      "2024-04-28 01:49:50,406 : INFO : EPOCH 6 - PROGRESS: at 41.80% examples, 628687 words/s, in_qsize 31, out_qsize 0\n",
      "2024-04-28 01:49:51,404 : INFO : EPOCH 6 - PROGRESS: at 47.21% examples, 633155 words/s, in_qsize 29, out_qsize 2\n",
      "2024-04-28 01:49:52,415 : INFO : EPOCH 6 - PROGRESS: at 53.26% examples, 643851 words/s, in_qsize 29, out_qsize 3\n",
      "2024-04-28 01:49:53,423 : INFO : EPOCH 6 - PROGRESS: at 58.73% examples, 646626 words/s, in_qsize 32, out_qsize 0\n",
      "2024-04-28 01:49:54,418 : INFO : EPOCH 6 - PROGRESS: at 72.96% examples, 737765 words/s, in_qsize 0, out_qsize 0\n",
      "2024-04-28 01:49:55,419 : INFO : EPOCH 6 - PROGRESS: at 95.41% examples, 889395 words/s, in_qsize 0, out_qsize 0\n",
      "2024-04-28 01:49:55,698 : INFO : EPOCH 6: training on 17005207 raw words (12334180 effective words) took 13.5s, 912542 effective words/s\n",
      "2024-04-28 01:49:56,706 : INFO : EPOCH 7 - PROGRESS: at 21.81% examples, 2671254 words/s, in_qsize 0, out_qsize 0\n",
      "2024-04-28 01:49:57,709 : INFO : EPOCH 7 - PROGRESS: at 43.62% examples, 2690230 words/s, in_qsize 0, out_qsize 0\n",
      "2024-04-28 01:49:58,715 : INFO : EPOCH 7 - PROGRESS: at 65.49% examples, 2692848 words/s, in_qsize 0, out_qsize 0\n",
      "2024-04-28 01:49:59,717 : INFO : EPOCH 7 - PROGRESS: at 87.13% examples, 2682579 words/s, in_qsize 0, out_qsize 0\n",
      "2024-04-28 01:50:00,380 : INFO : EPOCH 7: training on 17005207 raw words (12335939 effective words) took 4.7s, 2638018 effective words/s\n",
      "2024-04-28 01:50:01,385 : INFO : EPOCH 8 - PROGRESS: at 23.34% examples, 2864625 words/s, in_qsize 0, out_qsize 1\n",
      "2024-04-28 01:50:02,388 : INFO : EPOCH 8 - PROGRESS: at 44.68% examples, 2759286 words/s, in_qsize 0, out_qsize 0\n",
      "2024-04-28 01:50:03,387 : INFO : EPOCH 8 - PROGRESS: at 65.96% examples, 2713743 words/s, in_qsize 0, out_qsize 0\n",
      "2024-04-28 01:50:04,392 : INFO : EPOCH 8 - PROGRESS: at 88.24% examples, 2718416 words/s, in_qsize 0, out_qsize 0\n",
      "2024-04-28 01:50:04,969 : INFO : EPOCH 8: training on 17005207 raw words (12334143 effective words) took 4.6s, 2691070 effective words/s\n",
      "2024-04-28 01:50:05,974 : INFO : EPOCH 9 - PROGRESS: at 17.99% examples, 2197454 words/s, in_qsize 1, out_qsize 1\n",
      "2024-04-28 01:50:06,973 : INFO : EPOCH 9 - PROGRESS: at 36.16% examples, 2229223 words/s, in_qsize 0, out_qsize 0\n",
      "2024-04-28 01:50:07,977 : INFO : EPOCH 9 - PROGRESS: at 54.38% examples, 2235448 words/s, in_qsize 0, out_qsize 0\n",
      "2024-04-28 01:50:08,981 : INFO : EPOCH 9 - PROGRESS: at 73.60% examples, 2269526 words/s, in_qsize 0, out_qsize 1\n",
      "2024-04-28 01:50:09,986 : INFO : EPOCH 9 - PROGRESS: at 91.59% examples, 2253213 words/s, in_qsize 0, out_qsize 0\n",
      "2024-04-28 01:50:10,600 : INFO : EPOCH 9: training on 17005207 raw words (12332552 effective words) took 5.6s, 2190332 effective words/s\n",
      "2024-04-28 01:50:10,600 : INFO : Word2Vec lifecycle event {'msg': 'training on 170052070 raw words (123340348 effective words) took 97.6s, 1263761 effective words/s', 'datetime': '2024-04-28T01:50:10.600981', 'gensim': '4.3.0', 'python': '3.11.5 | packaged by Anaconda, Inc. | (main, Sep 11 2023, 13:26:23) [MSC v.1916 64 bit (AMD64)]', 'platform': 'Windows-10-10.0.22621-SP0', 'event': 'train'}\n",
      "2024-04-28 01:50:10,600 : INFO : Word2Vec lifecycle event {'params': 'Word2Vec<vocab=47134, vector_size=200, alpha=0.025>', 'datetime': '2024-04-28T01:50:10.600981', 'gensim': '4.3.0', 'python': '3.11.5 | packaged by Anaconda, Inc. | (main, Sep 11 2023, 13:26:23) [MSC v.1916 64 bit (AMD64)]', 'platform': 'Windows-10-10.0.22621-SP0', 'event': 'created'}\n",
      "2024-04-28 01:50:10,600 : INFO : Word2Vec lifecycle event {'fname_or_handle': 'word2vec_gensim', 'separately': 'None', 'sep_limit': 10485760, 'ignore': frozenset(), 'datetime': '2024-04-28T01:50:10.600981', 'gensim': '4.3.0', 'python': '3.11.5 | packaged by Anaconda, Inc. | (main, Sep 11 2023, 13:26:23) [MSC v.1916 64 bit (AMD64)]', 'platform': 'Windows-10-10.0.22621-SP0', 'event': 'saving'}\n",
      "2024-04-28 01:50:10,600 : INFO : not storing attribute cum_table\n",
      "2024-04-28 01:50:10,660 : INFO : saved word2vec_gensim\n",
      "2024-04-28 01:50:10,679 : INFO : storing vocabulary in vocabulary\n",
      "2024-04-28 01:50:10,712 : INFO : storing 47134x200 projection weights into word2vec_org\n"
     ]
    }
   ],
   "source": [
    "# epoch = 10\n",
    "!python word2vec.py"
   ]
  },
  {
   "cell_type": "code",
   "execution_count": 58,
   "metadata": {},
   "outputs": [
    {
     "name": "stdout",
     "output_type": "stream",
     "text": [
      "{\"score\": 0.7277341821071591, \"errorMsg\": \"success\", \"code\": 0, \"data\": [{\"score\": 0.7277341821071591}]}\n"
     ]
    }
   ],
   "source": [
    "!python evaluation.py score.npy"
   ]
  }
 ],
 "metadata": {
  "kernelspec": {
   "display_name": "base",
   "language": "python",
   "name": "python3"
  },
  "language_info": {
   "codemirror_mode": {
    "name": "ipython",
    "version": 3
   },
   "file_extension": ".py",
   "mimetype": "text/x-python",
   "name": "python",
   "nbconvert_exporter": "python",
   "pygments_lexer": "ipython3",
   "version": "3.11.5"
  }
 },
 "nbformat": 4,
 "nbformat_minor": 2
}
