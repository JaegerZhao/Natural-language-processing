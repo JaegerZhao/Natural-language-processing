{
 "cells": [
  {
   "cell_type": "code",
   "execution_count": 1,
   "metadata": {},
   "outputs": [
    {
     "name": "stdout",
     "output_type": "stream",
     "text": [
      "Epoch 1 | loss: 6.219164\n",
      "Epoch 2 | loss: 0.000000\n",
      "Epoch 3 | loss: 0.000000\n",
      "Epoch 4 | loss: 0.000000\n",
      "Epoch 5 | loss: 0.000000\n",
      "Epoch 6 | loss: 0.000000\n",
      "Epoch 7 | loss: 0.000000\n",
      "Epoch 8 | loss: 0.000000\n",
      "Epoch 9 | loss: 0.000000\n",
      "Epoch 10 | loss: 0.000000\n",
      "Epoch 11 | loss: 0.000000\n",
      "Epoch 12 | loss: 0.000000\n",
      "Epoch 13 | loss: 0.000000\n",
      "Epoch 14 | loss: 0.000000\n",
      "Epoch 15 | loss: 0.000000\n",
      "Epoch 16 | loss: 0.000000\n",
      "Epoch 17 | loss: 0.012650\n",
      "Epoch 18 | loss: 0.000000\n",
      "Epoch 19 | loss: 0.000094\n",
      "Epoch 20 | loss: 0.015199\n",
      "Epoch 21 | loss: 0.000000\n",
      "Epoch 22 | loss: 0.000000\n",
      "Epoch 23 | loss: 0.000000\n",
      "Epoch 24 | loss: 0.000000\n",
      "Epoch 25 | loss: 0.000000\n",
      "Epoch 26 | loss: 0.000000\n",
      "Epoch 27 | loss: 0.000000\n",
      "Epoch 28 | loss: 0.000000\n",
      "Epoch 29 | loss: 0.000000\n",
      "Epoch 30 | loss: 0.000000\n",
      "Epoch 31 | loss: 0.000000\n",
      "Epoch 32 | loss: 0.000000\n",
      "Epoch 33 | loss: 0.000000\n",
      "Epoch 34 | loss: 0.000000\n",
      "Epoch 35 | loss: 0.000000\n",
      "Epoch 36 | loss: 0.000000\n",
      "Epoch 37 | loss: 0.000000\n",
      "Epoch 38 | loss: 0.000000\n",
      "Epoch 39 | loss: 0.000000\n",
      "Epoch 40 | loss: 0.000000\n",
      "Epoch 41 | loss: 0.022406\n",
      "Epoch 42 | loss: 0.000000\n",
      "Epoch 43 | loss: 0.000000\n",
      "Epoch 44 | loss: 0.000000\n",
      "Epoch 45 | loss: 0.000000\n",
      "Epoch 46 | loss: 0.000000\n",
      "Epoch 47 | loss: 0.000000\n",
      "Epoch 48 | loss: 0.000000\n",
      "Epoch 49 | loss: 0.000000\n",
      "Epoch 50 | loss: 0.000000\n",
      "Epoch 51 | loss: 0.000000\n",
      "Epoch 52 | loss: 0.000000\n",
      "Epoch 53 | loss: 0.000000\n",
      "Epoch 54 | loss: 0.000000\n",
      "Epoch 55 | loss: 0.000000\n",
      "Epoch 56 | loss: 0.000000\n",
      "Epoch 57 | loss: 0.000000\n",
      "Epoch 58 | loss: 0.000000\n",
      "Epoch 59 | loss: 0.000000\n",
      "Epoch 60 | loss: 0.000000\n",
      "Epoch 61 | loss: 0.000000\n",
      "Epoch 62 | loss: 0.000000\n",
      "Epoch 63 | loss: 0.000000\n",
      "Epoch 64 | loss: 0.000000\n",
      "Epoch 65 | loss: 0.000000\n",
      "Epoch 66 | loss: 0.000000\n",
      "Epoch 67 | loss: 0.000000\n",
      "Epoch 68 | loss: 0.000000\n",
      "Epoch 69 | loss: 0.000000\n",
      "Epoch 70 | loss: 0.000000\n",
      "Epoch 71 | loss: 0.000000\n",
      "Epoch 72 | loss: 0.000000\n",
      "Epoch 73 | loss: 0.000000\n",
      "Epoch 74 | loss: 0.000000\n",
      "Epoch 75 | loss: 0.000000\n",
      "Epoch 76 | loss: 0.000000\n",
      "Epoch 77 | loss: 0.000000\n",
      "Epoch 78 | loss: 0.000000\n",
      "Epoch 79 | loss: 0.000000\n",
      "Epoch 80 | loss: 0.000000\n",
      "Epoch 81 | loss: 0.000000\n",
      "Epoch 82 | loss: 0.000000\n",
      "Epoch 83 | loss: 0.000000\n",
      "Epoch 84 | loss: 0.000000\n",
      "Epoch 85 | loss: 0.000000\n",
      "Epoch 86 | loss: 0.000000\n",
      "Epoch 87 | loss: 0.000000\n",
      "Epoch 88 | loss: 0.000000\n",
      "Epoch 89 | loss: 0.002568\n",
      "Epoch 90 | loss: 0.000000\n",
      "Epoch 91 | loss: 0.000000\n",
      "Epoch 92 | loss: 0.000000\n",
      "Epoch 93 | loss: 0.000000\n",
      "Epoch 94 | loss: 0.000000\n",
      "Epoch 95 | loss: 0.000000\n",
      "Epoch 96 | loss: 0.000000\n",
      "Epoch 97 | loss: 0.000000\n",
      "Epoch 98 | loss: 0.000000\n",
      "Epoch 99 | loss: 0.000000\n",
      "Epoch 100 | loss: 0.000000\n",
      "Finish Training\n"
     ]
    }
   ],
   "source": [
    "!python TransE.py"
   ]
  },
  {
   "cell_type": "code",
   "execution_count": 1,
   "metadata": {},
   "outputs": [],
   "source": [
    "import torch\n",
    "import torch.nn as nn\n",
    "import torch.nn.functional as F\n",
    "import os\n",
    "import time\n",
    "import numpy as np\n",
    "from TransE import TransE\n",
    "from TransE import Config\n",
    "from load_data import PyTorchTrainDataLoader"
   ]
  },
  {
   "cell_type": "code",
   "execution_count": 2,
   "metadata": {},
   "outputs": [],
   "source": [
    "#初始化模型\n",
    "config = Config()\n",
    "train_dataloader = PyTorchTrainDataLoader(\n",
    "                            in_path = \"./data/\", \n",
    "                            nbatches = config.nbatches,\n",
    "                            threads = 8)\n",
    "    \n",
    "transe = TransE(\n",
    "            ent_tot = train_dataloader.get_ent_tot(),\n",
    "            rel_tot = train_dataloader.get_rel_tot(),\n",
    "            dim = config.hidden_size, #50\n",
    "            p_norm = config.p_norm, \n",
    "            norm_flag = True,\n",
    "            margin=config.margin)"
   ]
  },
  {
   "cell_type": "code",
   "execution_count": 3,
   "metadata": {},
   "outputs": [],
   "source": [
    "#初始化wikidata词条与embedding序号之间的字典\n",
    "ent_dic = {}\n",
    "rel_dic = {}\n",
    "f = open('./data/entity2id.txt','r')\n",
    "next(f)\n",
    "for index in range(train_dataloader.get_ent_tot()):\n",
    "    value,key = f.readline().strip().split()\n",
    "    ent_dic[int(key)] = value\n",
    "f = open('./data/relation2id.txt','r')\n",
    "next(f)\n",
    "for index in range(train_dataloader.get_rel_tot()):\n",
    "    value,key = f.readline().strip().split()\n",
    "    rel_dic[int(key)] = value"
   ]
  },
  {
   "cell_type": "code",
   "execution_count": 4,
   "metadata": {},
   "outputs": [],
   "source": [
    "#载入预训练的embedding参数\n",
    "ent_data = np.loadtxt('entity2vec_margin1.txt')\n",
    "rel_data = np.loadtxt('relation2vec_margin1.txt')\n",
    "ent_data = torch.Tensor(ent_data)\n",
    "rel_data = torch.Tensor(rel_data)\n",
    "transe.ent_embeddings = transe.ent_embeddings.from_pretrained(ent_data)\n",
    "transe.rel_embeddings = transe.rel_embeddings.from_pretrained(rel_data)"
   ]
  },
  {
   "cell_type": "code",
   "execution_count": 5,
   "metadata": {},
   "outputs": [
    {
     "data": {
      "text/plain": [
       "Parameter containing:\n",
       "tensor([[ 1.4980e-03,  7.3000e-05,  1.3100e-04,  ...,  4.2400e-04,\n",
       "          1.6300e-04,  3.2700e-04],\n",
       "        [ 9.4770e-03, -6.1700e-04, -1.0322e-02,  ...,  9.7870e-03,\n",
       "          8.3210e-03,  5.0400e-03],\n",
       "        [-2.8906e-02, -9.3000e-05, -3.7026e-02,  ...,  2.1100e-04,\n",
       "          4.8500e-04, -1.3220e-03],\n",
       "        ...,\n",
       "        [-1.3000e-05,  1.5520e-03,  3.2000e-05,  ..., -1.1334e-02,\n",
       "         -1.6550e-03,  2.2000e-05],\n",
       "        [-2.7000e-05,  1.4000e-05, -4.9370e-03,  ...,  1.9000e-05,\n",
       "          6.7660e-03,  1.0450e-02],\n",
       "        [ 8.7750e-03, -8.1330e-03, -6.9990e-03,  ...,  6.6280e-03,\n",
       "         -0.0000e+00, -9.4220e-03]])"
      ]
     },
     "execution_count": 5,
     "metadata": {},
     "output_type": "execute_result"
    }
   ],
   "source": [
    "transe.ent_embeddings.weight"
   ]
  },
  {
   "cell_type": "code",
   "execution_count": 6,
   "metadata": {},
   "outputs": [
    {
     "data": {
      "text/plain": [
       "Parameter containing:\n",
       "tensor([[-6.4514e-02,  1.1022e-01,  3.7873e-02,  ...,  4.0954e-02,\n",
       "          1.7540e-03,  4.6698e-02],\n",
       "        [ 4.7767e-02,  9.0294e-02, -1.2000e-05,  ...,  5.2598e-02,\n",
       "          6.3662e-02, -2.8098e-02],\n",
       "        [ 2.4515e-02, -1.8321e-02,  1.5092e-02,  ...,  4.1269e-02,\n",
       "         -4.6200e-04,  1.3514e-02],\n",
       "        ...,\n",
       "        [-3.6629e-02, -7.1896e-02,  2.6840e-02,  ..., -6.6022e-02,\n",
       "         -4.3655e-02, -1.1271e-01],\n",
       "        [ 7.8148e-02, -3.2420e-02,  5.9684e-02,  ..., -1.1181e-01,\n",
       "          5.3526e-02,  2.9649e-02],\n",
       "        [-1.5445e-02,  2.4218e-02, -2.9010e-03,  ...,  4.7367e-02,\n",
       "          1.0299e-02,  5.2378e-02]])"
      ]
     },
     "execution_count": 6,
     "metadata": {},
     "output_type": "execute_result"
    }
   ],
   "source": [
    "transe.rel_embeddings.weight"
   ]
  },
  {
   "cell_type": "code",
   "execution_count": 7,
   "metadata": {},
   "outputs": [],
   "source": [
    "#预测Q30+P36最接近的尾实体\n",
    "data = {'batch_h':torch.LongTensor([list(ent_dic.keys())[list(ent_dic.values()).index('Q30')]]),\n",
    "        'batch_r':torch.LongTensor([list(rel_dic.keys())[list(rel_dic.values()).index('P36')]]),\n",
    "        'batch_t':torch.LongTensor([i for i in range(train_dataloader.get_ent_tot())])}"
   ]
  },
  {
   "cell_type": "code",
   "execution_count": 8,
   "metadata": {},
   "outputs": [
    {
     "name": "stdout",
     "output_type": "stream",
     "text": [
      "Q20\n",
      "Q34266\n",
      "Q29\n",
      "Q33946\n",
      "Q41304\n",
      "Q33\n",
      "Q35\n",
      "Q403\n",
      "Q148\n",
      "Q34\n"
     ]
    }
   ],
   "source": [
    "score = transe.predict(data)\n",
    "for index in score.argsort()[0:10]:\n",
    "    print(ent_dic[index])"
   ]
  },
  {
   "cell_type": "code",
   "execution_count": 9,
   "metadata": {},
   "outputs": [
    {
     "data": {
      "text/plain": [
       "1.6899345"
      ]
     },
     "execution_count": 9,
     "metadata": {},
     "output_type": "execute_result"
    }
   ],
   "source": [
    "score_WashingtonDC = score[list(ent_dic.keys())[list(ent_dic.values()).index('Q61')]]\n",
    "score_WashingtonDC"
   ]
  },
  {
   "cell_type": "code",
   "execution_count": 10,
   "metadata": {},
   "outputs": [
    {
     "data": {
      "text/plain": [
       "0.44240236"
      ]
     },
     "execution_count": 10,
     "metadata": {},
     "output_type": "execute_result"
    }
   ],
   "source": [
    "per = (score_WashingtonDC - score.min())/(score.max()-score.min())\n",
    "per"
   ]
  },
  {
   "cell_type": "code",
   "execution_count": 11,
   "metadata": {},
   "outputs": [],
   "source": [
    "data_1 = {'batch_h':torch.LongTensor([list(ent_dic.keys())[list(ent_dic.values()).index('Q30')]]),\n",
    "        'batch_t':torch.LongTensor([list(ent_dic.keys())[list(ent_dic.values()).index('Q49')]]),\n",
    "        'batch_r':torch.LongTensor([i for i in range(train_dataloader.get_rel_tot())])}\n",
    "score_1 = transe.predict(data_1)"
   ]
  },
  {
   "cell_type": "code",
   "execution_count": 12,
   "metadata": {},
   "outputs": [
    {
     "name": "stdout",
     "output_type": "stream",
     "text": [
      "P30\n",
      "P741\n",
      "P58\n",
      "P790\n",
      "P927\n",
      "P123\n",
      "P2321\n",
      "P749\n",
      "P186\n",
      "P750\n"
     ]
    }
   ],
   "source": [
    "for index in score_1.argsort()[0:10]:\n",
    "    print(rel_dic[index])"
   ]
  }
 ],
 "metadata": {
  "kernelspec": {
   "display_name": "base",
   "language": "python",
   "name": "python3"
  },
  "language_info": {
   "codemirror_mode": {
    "name": "ipython",
    "version": 3
   },
   "file_extension": ".py",
   "mimetype": "text/x-python",
   "name": "python",
   "nbconvert_exporter": "python",
   "pygments_lexer": "ipython3",
   "version": "3.11.5"
  }
 },
 "nbformat": 4,
 "nbformat_minor": 2
}
