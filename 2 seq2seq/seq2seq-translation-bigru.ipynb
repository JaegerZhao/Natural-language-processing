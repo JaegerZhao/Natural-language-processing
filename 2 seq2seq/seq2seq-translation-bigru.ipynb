{
 "cells": [
  {
   "cell_type": "markdown",
   "metadata": {},
   "source": [
    "# seq2seq模型——机器翻译\n",
    "\n",
    "初级改进：\n",
    "\n",
    "使用双向GRU替换RNN"
   ]
  },
  {
   "cell_type": "markdown",
   "metadata": {},
   "source": [
    "## 环境依赖"
   ]
  },
  {
   "cell_type": "code",
   "execution_count": 1,
   "metadata": {},
   "outputs": [],
   "source": [
    "import unicodedata\n",
    "import string\n",
    "import re\n",
    "import random\n",
    "import time\n",
    "import math\n",
    "import jieba\n",
    "import pandas as pd\n",
    "\n",
    "import torch\n",
    "import torch.nn as nn\n",
    "from torch import optim\n",
    "import torch.nn.functional as F\n",
    "from sklearn.model_selection import train_test_split"
   ]
  },
  {
   "cell_type": "markdown",
   "metadata": {},
   "source": [
    "## 数据预处理"
   ]
  },
  {
   "cell_type": "code",
   "execution_count": 2,
   "metadata": {},
   "outputs": [],
   "source": [
    "USE_CUDA = torch.cuda.is_available()"
   ]
  },
  {
   "cell_type": "code",
   "execution_count": 3,
   "metadata": {},
   "outputs": [
    {
     "name": "stdout",
     "output_type": "stream",
     "text": [
      "USE_CUDA: True\n"
     ]
    }
   ],
   "source": [
    "print('USE_CUDA: %s' % USE_CUDA)"
   ]
  },
  {
   "cell_type": "code",
   "execution_count": 4,
   "metadata": {},
   "outputs": [],
   "source": [
    "device = torch.device('cuda' if torch.cuda.is_available() else 'cpu')"
   ]
  },
  {
   "cell_type": "code",
   "execution_count": 5,
   "metadata": {},
   "outputs": [
    {
     "name": "stdout",
     "output_type": "stream",
     "text": [
      "device: cuda\n"
     ]
    }
   ],
   "source": [
    "print('device: %s' % device)"
   ]
  },
  {
   "cell_type": "code",
   "execution_count": 6,
   "metadata": {},
   "outputs": [],
   "source": [
    "SEGMENTATION = False    # 是否分词"
   ]
  },
  {
   "cell_type": "markdown",
   "metadata": {},
   "source": [
    "### 文本预处理\n",
    "\n",
    "丢弃除了中文、字母和常用标点之外的符号。"
   ]
  },
  {
   "cell_type": "code",
   "execution_count": 7,
   "metadata": {
    "jupyter": {
     "outputs_hidden": false
    }
   },
   "outputs": [],
   "source": [
    "# Turn a Unicode string to plain ASCII, thanks to http://stackoverflow.com/a/518232/2809427\n",
    "def unicode_to_ascii(s):\n",
    "    return ''.join(\n",
    "        c for c in unicodedata.normalize('NFD', s)\n",
    "        if unicodedata.category(c) != 'Mn'\n",
    "    )\n",
    "\n",
    "# Lowercase, trim, and remove non-letter characters\n",
    "def normalize_string(s):\n",
    "    s = unicode_to_ascii(s.lower().strip())\n",
    "    s = re.sub(r\"([.!?])\", r\" \\1\", s)\n",
    "    s = re.sub(r\"[^a-zA-Z\\u4e00-\\u9fa5.!?，。？]+\", r\" \", s)\n",
    "    return s"
   ]
  },
  {
   "cell_type": "markdown",
   "metadata": {},
   "source": [
    "### 构建词表"
   ]
  },
  {
   "cell_type": "markdown",
   "metadata": {},
   "source": [
    "引入三个特殊的Token:\n",
    "\n",
    "1. `SOS`, \"Start of sentence”，标识句子开始\n",
    "2. `EOS`, “End of sentence”，表示句子结束\n",
    "3. `UNK`, \"Unknown Token\"，标识未登录词"
   ]
  },
  {
   "cell_type": "code",
   "execution_count": 8,
   "metadata": {},
   "outputs": [],
   "source": [
    "SOS_token = 0\n",
    "EOS_token = 1\n",
    "UNK_token = 2\n",
    "\n",
    "class Lang(object):\n",
    "    \"\"\"\n",
    "    词表Vocabulary.\n",
    "    \"\"\"\n",
    "\n",
    "    def __init__(self, name):\n",
    "        self.name = name\n",
    "        self.word2index = {}\n",
    "        self.word2count = {}\n",
    "        self.index2word = {0: \"SOS\", 1: \"EOS\", '2': 'UNK'}\n",
    "        self.n_words = 3 # Count SOS and EOS\n",
    "      \n",
    "    def index_words(self, sentence):\n",
    "        if self.name == 'cn':\n",
    "            words = list(jieba.cut(sentence)) if SEGMENTATION else sentence    \n",
    "            for word in words:\n",
    "                self.index_word(word)\n",
    "        else:\n",
    "            words = sentence.split(' ')\n",
    "            for word in words:\n",
    "                self.index_word(word)\n",
    "\n",
    "    def index_word(self, word):\n",
    "        if word not in self.word2index:\n",
    "            self.word2index[word] = self.n_words\n",
    "            self.word2count[word] = 1\n",
    "            self.index2word[self.n_words] = word\n",
    "            self.n_words += 1\n",
    "        else:\n",
    "            self.word2count[word] += 1"
   ]
  },
  {
   "cell_type": "markdown",
   "metadata": {},
   "source": [
    "读取平行语料，并进行清理。"
   ]
  },
  {
   "cell_type": "code",
   "execution_count": 9,
   "metadata": {},
   "outputs": [],
   "source": [
    "def read_langs(lang1, lang2, reverse=False):\n",
    "    print(\"Reading lines...\")\n",
    "\n",
    "    # Read the file and split into lines\n",
    "    lines = open('%s-%s.txt' % (lang1, lang2)).read().strip().split('\\n')\n",
    "    \n",
    "    # Split every line into pairs and normalize\n",
    "    pairs = [[normalize_string(s) for s in l.split('\\t')] for l in lines]\n",
    "    \n",
    "    # Reverse pairs, make Lang instances\n",
    "    if reverse:\n",
    "        pairs = [list(reversed(p)) for p in pairs]\n",
    "        input_lang = Lang(lang2)\n",
    "        output_lang = Lang(lang1)\n",
    "    else:\n",
    "        input_lang = Lang(lang1)\n",
    "        output_lang = Lang(lang2)\n",
    "        \n",
    "    return input_lang, output_lang, pairs"
   ]
  },
  {
   "cell_type": "markdown",
   "metadata": {},
   "source": [
    "### 准备数据集\n",
    "\n",
    "样例为了加快训练，只保留了不长于10个单词的句对，真正实验中将更多数据考虑进来可能获得更好的效果。"
   ]
  },
  {
   "cell_type": "code",
   "execution_count": 10,
   "metadata": {
    "jupyter": {
     "outputs_hidden": false
    }
   },
   "outputs": [],
   "source": [
    "MAX_LENGTH = 10\n",
    "\n",
    "def filter_pair(p):\n",
    "    return len(p[1].split(' ')) < MAX_LENGTH\n",
    "\n",
    "def filter_pairs(pairs):\n",
    "    return [pair for pair in pairs if filter_pair(pair)]"
   ]
  },
  {
   "cell_type": "markdown",
   "metadata": {},
   "source": [
    "处理数据的全过程：\n",
    "\n",
    "- 读取数据，每一行分别处理，将其转换成句对\n",
    "- 对于文本进行处理，过滤无用符号\n",
    "- 根据已有文本对于单词进行编号，构建符号到编号的映射\n"
   ]
  },
  {
   "cell_type": "code",
   "execution_count": 11,
   "metadata": {
    "jupyter": {
     "outputs_hidden": false
    },
    "scrolled": true
   },
   "outputs": [
    {
     "name": "stdout",
     "output_type": "stream",
     "text": [
      "Reading lines...\n",
      "Read 90000 sentence pairs\n",
      "Trimmed to 68898 sentence pairs\n",
      "Indexing words...\n",
      "['並非所有的乘客都免於受傷。', 'not all of the passengers escaped injury .']\n"
     ]
    }
   ],
   "source": [
    "def prepare_data(lang1_name, lang2_name, reverse=False):\n",
    "    input_lang, output_lang, pairs = read_langs(lang1_name, lang2_name, reverse)\n",
    "    print(\"Read %s sentence pairs\" % len(pairs))\n",
    "    \n",
    "    pairs = filter_pairs(pairs)\n",
    "    print(\"Trimmed to %s sentence pairs\" % len(pairs))\n",
    "    \n",
    "    print(\"Indexing words...\")\n",
    "    for pair in pairs:\n",
    "        input_lang.index_words(pair[0])\n",
    "        output_lang.index_words(pair[1])\n",
    "\n",
    "    return input_lang, output_lang, pairs\n",
    "\n",
    "input_lang, output_lang, pairs = prepare_data('cn', 'eng', False)\n",
    "\n",
    "# Print an example pair\n",
    "print(random.choice(pairs))"
   ]
  },
  {
   "cell_type": "markdown",
   "metadata": {},
   "source": [
    "从数据集中sample出200条数据作为验证集"
   ]
  },
  {
   "cell_type": "code",
   "execution_count": 12,
   "metadata": {},
   "outputs": [],
   "source": [
    "def sample_test_dataset(size=100):\n",
    "\n",
    "    with open('cn-eng-test.txt', 'w+') as f:\n",
    "        f.write('\\n'.join(['\\t'.join(pair) for pair in random.sample(pairs, k=size)]))"
   ]
  },
  {
   "cell_type": "code",
   "execution_count": 13,
   "metadata": {},
   "outputs": [],
   "source": [
    "# sample_test_dataset()"
   ]
  },
  {
   "cell_type": "markdown",
   "metadata": {},
   "source": [
    "### 将文本数据转换为张量\n",
    "\n",
    "为了训练，我们需要将句子变成神经网络可以理解的东西（数字）。每个句子将被分解成单词，然后变成张量，其中每个单词都被索引替换（来自之前的Lang索引）。在创建这些张量时，我们还将附加EOS令牌以表示该句子已结束。\n",
    "\n",
    "![](https://i.imgur.com/LzocpGH.png)"
   ]
  },
  {
   "cell_type": "code",
   "execution_count": 14,
   "metadata": {
    "jupyter": {
     "outputs_hidden": false
    }
   },
   "outputs": [],
   "source": [
    "# Return a list of indexes, one for each word in the sentence\n",
    "def indexes_from_sentence(lang, sentence):\n",
    "    \"\"\"\n",
    "    根据词表，将句子转化成索引列表。\n",
    "\n",
    "    :reutrn list，e.g. [1, 2, 3, 4]\n",
    "    \"\"\"\n",
    "    if lang.name == 'cn':\n",
    "        words = list(jieba.cut(sentence)) if SEGMENTATION else sentence\n",
    "        return [lang.word2index[word] if word in lang.word2index else UNK_token for word in words ]\n",
    "    else:\n",
    "        words = sentence.split(' ')\n",
    "        return [lang.word2index[word] if word in lang.word2index else UNK_token for word in words]\n",
    "\n",
    "def variable_from_sentence(lang, sentence):\n",
    "    \"\"\"\n",
    "    将句子转换成Tensor.\n",
    "    \n",
    "    :return Tensor, shape(n, 1)\n",
    "    \"\"\"\n",
    "    indexes = indexes_from_sentence(lang, sentence)\n",
    "    indexes.append(EOS_token)\n",
    "    var = torch.LongTensor(indexes).view(-1, 1)\n",
    "    if USE_CUDA: var = var.cuda()\n",
    "    return var\n",
    "\n",
    "def variables_from_pair(pair):\n",
    "    \"\"\"\n",
    "    将平行语料对转化成Tensors.\n",
    "    \n",
    "    :return (input_tensor, output_tensor)\n",
    "    \"\"\"\n",
    "    input_variable = variable_from_sentence(input_lang, pair[0])\n",
    "    target_variable = variable_from_sentence(output_lang, pair[1])\n",
    "    return (input_variable, target_variable)"
   ]
  },
  {
   "cell_type": "code",
   "execution_count": 15,
   "metadata": {
    "scrolled": false
   },
   "outputs": [
    {
     "name": "stdout",
     "output_type": "stream",
     "text": [
      "pair: ['昨天晚上我玩得很開心。', 'i had a good time last evening .']\n",
      "input_tensor shape: torch.Size([12, 1]), output_tensor shap: torch.Size([9, 1])\n",
      "input_tensor: tensor([[964],\n",
      "        [ 94],\n",
      "        [552],\n",
      "        [ 77],\n",
      "        [  3],\n",
      "        [163],\n",
      "        [143],\n",
      "        [ 38],\n",
      "        [162],\n",
      "        [ 99],\n",
      "        [ 13],\n",
      "        [  1]], device='cuda:0')\n"
     ]
    }
   ],
   "source": [
    "pair = random.choice(pairs)\n",
    "print('pair: %s' % pair)\n",
    "\n",
    "input_tensor, target_tensor = variables_from_pair(pair)\n",
    "print('input_tensor shape: %s, output_tensor shap: %s' % (input_tensor.shape, target_tensor.shape))\n",
    "print('input_tensor: %s' % input_tensor)"
   ]
  },
  {
   "cell_type": "markdown",
   "metadata": {},
   "source": [
    "## 模型"
   ]
  },
  {
   "cell_type": "markdown",
   "metadata": {},
   "source": [
    "### 编码器"
   ]
  },
  {
   "cell_type": "code",
   "execution_count": 16,
   "metadata": {
    "jupyter": {
     "outputs_hidden": false
    }
   },
   "outputs": [],
   "source": [
    "class EncoderGRU(nn.Module):\n",
    "    \"\"\"GRU 编码器\"\"\"\n",
    "\n",
    "    def __init__(self, input_size, hidden_size, n_layers=1, bidirectional=False):\n",
    "        \"\"\"\n",
    "        初始化\n",
    "        :param input_size, 输入词表大\n",
    "        :param hidden_size, Embedding维度大小，RNN hidden大小\n",
    "        :param n_layers, RNN层数\n",
    "        \"\"\"\n",
    "        super(EncoderGRU, self).__init__()\n",
    "        \n",
    "        self.input_size = input_size\n",
    "        self.hidden_size = hidden_size\n",
    "        self.n_layers = n_layers\n",
    "        self.bidirectional = bidirectional\n",
    "        \n",
    "        self.embedding = nn.Embedding(input_size, hidden_size)\n",
    "        \n",
    "        # 用GRU替换RNN\n",
    "        # self.rnn = nn.RNN(hidden_size, hidden_size, n_layers)\n",
    "        self.rnn = nn.GRU(hidden_size, hidden_size, n_layers, bidirectional=bidirectional)\n",
    "        \n",
    "    def forward(self, word_inputs, hidden):\n",
    "        \"\"\"\n",
    "        前向传播\n",
    "        :param word_inputs, 输入序列 shape(n, 1)\n",
    "        :param hidden, 隐层 shape(seq_len*n_layers, batch_size, hidden_size)\n",
    "        :return output(seq_len, batch, num_directions*hidden_size),\n",
    "                hidden(num_layers*num_directions, hidden_size)\n",
    "        \"\"\"\n",
    "        # Note: we run this all at once (over the whole input sequence)\n",
    "        seq_len = len(word_inputs)\n",
    "        embedded = self.embedding(word_inputs).view(seq_len, 1, -1)\n",
    "        output, hidden = self.rnn(embedded, hidden)\n",
    "        return output, hidden\n",
    "\n",
    "    def init_hidden(self):\n",
    "        num_directions = 2 if self.bidirectional else 1\n",
    "        hidden = torch.zeros(self.n_layers*num_directions, 1, self.hidden_size)\n",
    "        if USE_CUDA: hidden = hidden.cuda()\n",
    "        return hidden"
   ]
  },
  {
   "cell_type": "code",
   "execution_count": 17,
   "metadata": {},
   "outputs": [
    {
     "name": "stdout",
     "output_type": "stream",
     "text": [
      "seq_len: 7, encoder_output shape: torch.Size([8, 1, 200]), encoder_hidden shape: torch.Size([2, 1, 100])\n"
     ]
    }
   ],
   "source": [
    "encoder = EncoderGRU(input_lang.n_words, 100, bidirectional=True)\n",
    "encoder.to(device)\n",
    "\n",
    "pair = random.choice(pairs)\n",
    "\n",
    "encoder_hidden = encoder.init_hidden()\n",
    "encoder_output, encoder_hidden = encoder(variable_from_sentence(input_lang, pair[0]), encoder_hidden)\n",
    "print('seq_len: %s, encoder_output shape: %s, encoder_hidden shape: %s' % (\n",
    "    len(pair[0]), encoder_output.shape, encoder_hidden.shape))"
   ]
  },
  {
   "cell_type": "markdown",
   "metadata": {},
   "source": [
    "### 解码器"
   ]
  },
  {
   "cell_type": "code",
   "execution_count": 18,
   "metadata": {
    "jupyter": {
     "outputs_hidden": false
    }
   },
   "outputs": [],
   "source": [
    "class DecoderGRU(nn.Module):\n",
    "    \"\"\"GRU 解码器\"\"\"\n",
    "\n",
    "    def __init__(self, hidden_size, output_size, n_layers=1, dropout_p=0.1):\n",
    "        super(DecoderGRU, self).__init__()\n",
    "        \n",
    "        # Keep parameters for reference\n",
    "        self.hidden_size = hidden_size\n",
    "        self.output_size = output_size\n",
    "        self.n_layers = n_layers\n",
    "        self.dropout_p = dropout_p\n",
    "        \n",
    "        # Define layers\n",
    "        self.embedding = nn.Embedding(output_size, hidden_size)\n",
    "\n",
    "        # 使用GRU替换RNN\n",
    "        # self.rnn = nn.RNN(hidden_size, hidden_size, n_layers, dropout=dropout_p)\n",
    "        self.rnn = nn.GRU(hidden_size, hidden_size, n_layers, dropout=dropout_p)\n",
    "        self.out = nn.Linear(hidden_size, output_size)\n",
    "    \n",
    "    def forward(self, word_input, last_hidden):\n",
    "        # Note: we run this one step at a time        \n",
    "        word_embedded = self.embedding(word_input).view(1, 1, -1) # S=1 x B x N\n",
    "        rnn_output, hidden = self.rnn(word_embedded, last_hidden)\n",
    "\n",
    "        rnn_output = rnn_output.squeeze(0)\n",
    "        output = F.log_softmax(self.out(rnn_output))\n",
    "\n",
    "        return output, hidden"
   ]
  },
  {
   "cell_type": "code",
   "execution_count": 19,
   "metadata": {},
   "outputs": [
    {
     "name": "stdout",
     "output_type": "stream",
     "text": [
      "decoder_output shape: torch.Size([1, 8948]), decoder_hidden shape: torch.Size([1, 1, 200])\n"
     ]
    },
    {
     "name": "stderr",
     "output_type": "stream",
     "text": [
      "d:\\Software\\Anaconda\\Lib\\site-packages\\torch\\nn\\modules\\rnn.py:82: UserWarning: dropout option adds dropout after all but last recurrent layer, so non-zero dropout expects num_layers greater than 1, but got dropout=0.1 and num_layers=1\n",
      "  warnings.warn(\"dropout option adds dropout after all but last \"\n",
      "C:\\Users\\Administrator\\AppData\\Local\\Temp\\ipykernel_6752\\4185787426.py:27: UserWarning: Implicit dimension choice for log_softmax has been deprecated. Change the call to include dim=X as an argument.\n",
      "  output = F.log_softmax(self.out(rnn_output))\n"
     ]
    }
   ],
   "source": [
    "decoder = DecoderGRU(200, output_lang.n_words)\n",
    "decoder.to(device)\n",
    "\n",
    "decoder_hidden = encoder_hidden.view(1, 1, -1)\n",
    "decoer_output, decoder_hidden = decoder(variable_from_sentence(output_lang, pair[1])[0], decoder_hidden)\n",
    "print('decoder_output shape: %s, decoder_hidden shape: %s' % (decoer_output.shape, decoder_hidden.shape))"
   ]
  },
  {
   "cell_type": "markdown",
   "metadata": {},
   "source": [
    "## 训练"
   ]
  },
  {
   "cell_type": "markdown",
   "metadata": {},
   "source": [
    "\n",
    "为了训练，我们首先通过编码器逐字运行输入语句，并跟踪每个输出和最新的隐藏状态。接下来，为解码器提供解码器的最后一个隐藏状态作为其第一隐藏状态，并向其提供`<SOS>`作为其第一输入。从那里开始，我们迭代地预测来自解码器的下一个单词。\n",
    "    \n",
    "**Teacher Forcing 和 Scheduled Sampling**\n",
    "\n",
    "\"Teacher Forcing\"指的是每次都基于完全准确的上文进行解码，这样训练模型收敛很快，但是会造成实际场景和训练场景有较大差别，因为实际场景上文也都是模型预测的，可能不准确，具体细节可参考[论文](http://minds.jacobs-university.de/sites/default/files/uploads/papers/ESNTutorialRev.pdf)。\n",
    "\n",
    "观察Teacher Forcing的网络的输出，我们可以看到该网络语法连贯，但是偏离正确的翻译。可以将其为学会了如何听老师的指示，而未学习如何独自冒险。\n",
    "\n",
    "解决强迫教师问题的方法称为“计划抽样”（[Scheduled Sampling](https://arxiv.org/abs/1506.03099)），它在训练时仅在使用目标值和预测值之间进行切换。我们将在训练时随机选择,有时我们将使用真实目标作为输入（忽略解码器的输出），有时我们将使用解码器的输出。"
   ]
  },
  {
   "cell_type": "code",
   "execution_count": 20,
   "metadata": {
    "jupyter": {
     "outputs_hidden": false
    }
   },
   "outputs": [],
   "source": [
    "teacher_forcing_ratio = 0.5\n",
    "clip = 5.0\n",
    "\n",
    "def train(input_variable, target_variable, \n",
    "          encoder, decoder, \n",
    "          encoder_optimizer, decoder_optimizer, \n",
    "          criterion, max_length=MAX_LENGTH):\n",
    "\n",
    "    # Zero gradients of both optimizers\n",
    "    encoder_optimizer.zero_grad()\n",
    "    decoder_optimizer.zero_grad()\n",
    "    loss = 0 # Added onto for each word\n",
    "\n",
    "    # Get size of input and target sentences\n",
    "    input_length = input_variable.size()[0]\n",
    "    target_length = target_variable.size()[0]\n",
    "\n",
    "    # Run words through encoder\n",
    "    encoder_hidden = encoder.init_hidden()\n",
    "    encoder_outputs, encoder_hidden = encoder(input_variable, encoder_hidden)\n",
    "    \n",
    "    # Prepare input and output variables\n",
    "    decoder_input = torch.LongTensor([[SOS_token]])\n",
    "    # Use last hidden state from encoder to start decoder\n",
    "    decoder_hidden = encoder_hidden.view(encoder.n_layers, encoder_hidden.shape[1], -1)\n",
    "    if USE_CUDA:\n",
    "        decoder_input = decoder_input.cuda()\n",
    "\n",
    "    # Choose whether to use teacher forcing\n",
    "    use_teacher_forcing = random.random() < teacher_forcing_ratio\n",
    "    if use_teacher_forcing:\n",
    "        \n",
    "        # Teacher forcing: Use the ground-truth target as the next input\n",
    "        for di in range(target_length):\n",
    "            decoder_output, decoder_hidden = decoder(decoder_input, decoder_hidden)\n",
    "            loss += criterion(decoder_output, target_variable[di])\n",
    "            decoder_input = target_variable[di] # Next target is next input\n",
    "\n",
    "    else:\n",
    "        # Without teacher forcing: use network's own prediction as the next input\n",
    "        for di in range(target_length):\n",
    "            decoder_output, decoder_hidden = decoder(decoder_input, decoder_hidden)\n",
    "            loss += criterion(decoder_output, target_variable[di])\n",
    "            \n",
    "            # Get most likely word index (highest value) from output\n",
    "            topv, topi = decoder_output.data.topk(1)\n",
    "            ni = topi[0][0]\n",
    "            \n",
    "            decoder_input = torch.LongTensor([[ni]]) # Chosen word is next input\n",
    "            if USE_CUDA: decoder_input = decoder_input.cuda()\n",
    "\n",
    "            # Stop at end of sentence (not necessary when using known targets)\n",
    "            if ni == EOS_token: break\n",
    "\n",
    "    # Backpropagation\n",
    "    loss.backward()\n",
    "    torch.nn.utils.clip_grad_norm(encoder.parameters(), clip)\n",
    "    torch.nn.utils.clip_grad_norm(decoder.parameters(), clip)\n",
    "    encoder_optimizer.step()\n",
    "    decoder_optimizer.step()\n",
    "    \n",
    "    return loss.item() / target_length"
   ]
  },
  {
   "cell_type": "markdown",
   "metadata": {},
   "source": [
    "下面是用于辅助输出训练情况的函数"
   ]
  },
  {
   "cell_type": "code",
   "execution_count": 21,
   "metadata": {
    "jupyter": {
     "outputs_hidden": false
    }
   },
   "outputs": [],
   "source": [
    "def as_minutes(s):\n",
    "    m = math.floor(s / 60)\n",
    "    s -= m * 60\n",
    "    return '%dm %ds' % (m, s)\n",
    "\n",
    "def time_since(since, percent):\n",
    "    now = time.time()\n",
    "    s = now - since\n",
    "    es = s / (percent)\n",
    "    rs = es - s\n",
    "    return '%s (- %s)' % (as_minutes(s), as_minutes(rs))"
   ]
  },
  {
   "cell_type": "markdown",
   "metadata": {},
   "source": [
    "### 进行训练GRU"
   ]
  },
  {
   "cell_type": "code",
   "execution_count": 22,
   "metadata": {
    "jupyter": {
     "outputs_hidden": false
    },
    "scrolled": false
   },
   "outputs": [
    {
     "name": "stderr",
     "output_type": "stream",
     "text": [
      "C:\\Users\\Administrator\\AppData\\Local\\Temp\\ipykernel_6752\\4185787426.py:27: UserWarning: Implicit dimension choice for log_softmax has been deprecated. Change the call to include dim=X as an argument.\n",
      "  output = F.log_softmax(self.out(rnn_output))\n",
      "C:\\Users\\Administrator\\AppData\\Local\\Temp\\ipykernel_6752\\330726655.py:57: UserWarning: torch.nn.utils.clip_grad_norm is now deprecated in favor of torch.nn.utils.clip_grad_norm_.\n",
      "  torch.nn.utils.clip_grad_norm(encoder.parameters(), clip)\n",
      "C:\\Users\\Administrator\\AppData\\Local\\Temp\\ipykernel_6752\\330726655.py:58: UserWarning: torch.nn.utils.clip_grad_norm is now deprecated in favor of torch.nn.utils.clip_grad_norm_.\n",
      "  torch.nn.utils.clip_grad_norm(decoder.parameters(), clip)\n"
     ]
    },
    {
     "name": "stdout",
     "output_type": "stream",
     "text": [
      "Epoch 1000/150000, 0m 38s (- 96m 7s), 4.9300\n",
      "Epoch 2000/150000, 1m 18s (- 97m 7s), 4.5659\n",
      "Epoch 3000/150000, 1m 58s (- 96m 43s), 4.3506\n",
      "Epoch 4000/150000, 2m 38s (- 96m 19s), 4.1925\n",
      "Epoch 5000/150000, 3m 18s (- 95m 54s), 4.0476\n",
      "Epoch 6000/150000, 3m 58s (- 95m 32s), 4.0093\n",
      "Epoch 7000/150000, 4m 39s (- 95m 2s), 3.8787\n",
      "Epoch 8000/150000, 5m 19s (- 94m 32s), 3.7785\n",
      "Epoch 9000/150000, 5m 59s (- 93m 59s), 3.7760\n",
      "Epoch 10000/150000, 6m 40s (- 93m 23s), 3.6898\n",
      "Epoch 11000/150000, 7m 20s (- 92m 52s), 3.6567\n",
      "Epoch 12000/150000, 8m 1s (- 92m 14s), 3.6361\n",
      "Epoch 13000/150000, 8m 41s (- 91m 39s), 3.5673\n",
      "Epoch 14000/150000, 9m 22s (- 91m 2s), 3.5128\n",
      "Epoch 15000/150000, 10m 2s (- 90m 26s), 3.4889\n",
      "Epoch 16000/150000, 10m 43s (- 89m 48s), 3.3840\n",
      "Epoch 17000/150000, 11m 24s (- 89m 11s), 3.3008\n",
      "Epoch 18000/150000, 12m 4s (- 88m 32s), 3.2787\n",
      "Epoch 19000/150000, 12m 45s (- 87m 56s), 3.2671\n",
      "Epoch 20000/150000, 13m 25s (- 87m 17s), 3.2269\n",
      "Epoch 21000/150000, 14m 5s (- 86m 36s), 3.1554\n",
      "Epoch 22000/150000, 14m 46s (- 85m 58s), 3.0896\n",
      "Epoch 23000/150000, 15m 27s (- 85m 20s), 3.1707\n",
      "Epoch 24000/150000, 16m 7s (- 84m 41s), 3.0313\n",
      "Epoch 25000/150000, 16m 48s (- 84m 1s), 2.9788\n",
      "Epoch 26000/150000, 17m 28s (- 83m 22s), 3.0635\n",
      "Epoch 27000/150000, 18m 9s (- 82m 43s), 2.9783\n",
      "Epoch 28000/150000, 18m 50s (- 82m 4s), 2.9181\n",
      "Epoch 29000/150000, 19m 30s (- 81m 25s), 2.9222\n",
      "Epoch 30000/150000, 20m 11s (- 80m 46s), 2.9179\n",
      "Epoch 31000/150000, 20m 52s (- 80m 8s), 2.8686\n",
      "Epoch 32000/150000, 21m 33s (- 79m 28s), 2.7428\n",
      "Epoch 33000/150000, 22m 13s (- 78m 49s), 2.8129\n",
      "Epoch 34000/150000, 22m 54s (- 78m 8s), 2.7526\n",
      "Epoch 35000/150000, 23m 34s (- 77m 28s), 2.6925\n",
      "Epoch 36000/150000, 24m 15s (- 76m 48s), 2.6604\n",
      "Epoch 37000/150000, 24m 56s (- 76m 9s), 2.6483\n",
      "Epoch 38000/150000, 25m 36s (- 75m 30s), 2.6528\n",
      "Epoch 39000/150000, 26m 17s (- 74m 50s), 2.6314\n",
      "Epoch 40000/150000, 26m 58s (- 74m 9s), 2.5532\n",
      "Epoch 41000/150000, 27m 38s (- 73m 29s), 2.5537\n",
      "Epoch 42000/150000, 28m 19s (- 72m 49s), 2.5047\n",
      "Epoch 43000/150000, 29m 0s (- 72m 10s), 2.5229\n",
      "Epoch 44000/150000, 29m 41s (- 71m 30s), 2.6621\n",
      "Epoch 45000/150000, 30m 21s (- 70m 50s), 2.5740\n",
      "Epoch 46000/150000, 31m 2s (- 70m 10s), 2.4794\n",
      "Epoch 47000/150000, 31m 42s (- 69m 30s), 2.5244\n",
      "Epoch 48000/150000, 32m 23s (- 68m 50s), 2.5135\n",
      "Epoch 49000/150000, 33m 4s (- 68m 10s), 2.4973\n",
      "Epoch 50000/150000, 33m 45s (- 67m 30s), 2.3719\n",
      "Epoch 51000/150000, 34m 25s (- 66m 49s), 2.4020\n",
      "Epoch 52000/150000, 35m 6s (- 66m 9s), 2.4449\n",
      "Epoch 53000/150000, 35m 47s (- 65m 30s), 2.4108\n",
      "Epoch 54000/150000, 36m 28s (- 64m 49s), 2.2758\n",
      "Epoch 55000/150000, 37m 8s (- 64m 10s), 2.3500\n",
      "Epoch 56000/150000, 37m 49s (- 63m 30s), 2.3647\n",
      "Epoch 57000/150000, 38m 30s (- 62m 49s), 2.2230\n",
      "Epoch 58000/150000, 39m 11s (- 62m 9s), 2.2829\n",
      "Epoch 59000/150000, 39m 51s (- 61m 29s), 2.2648\n",
      "Epoch 60000/150000, 40m 32s (- 60m 49s), 2.2378\n",
      "Epoch 61000/150000, 41m 13s (- 60m 9s), 2.2412\n",
      "Epoch 62000/150000, 41m 54s (- 59m 28s), 2.2172\n",
      "Epoch 63000/150000, 42m 35s (- 58m 48s), 2.2599\n",
      "Epoch 64000/150000, 43m 16s (- 58m 8s), 2.2053\n",
      "Epoch 65000/150000, 43m 57s (- 57m 28s), 2.1559\n",
      "Epoch 66000/150000, 44m 37s (- 56m 48s), 2.1953\n",
      "Epoch 67000/150000, 45m 18s (- 56m 7s), 2.2293\n",
      "Epoch 68000/150000, 45m 59s (- 55m 27s), 2.0633\n",
      "Epoch 69000/150000, 46m 40s (- 54m 47s), 2.1136\n",
      "Epoch 70000/150000, 47m 21s (- 54m 7s), 2.0718\n",
      "Epoch 71000/150000, 48m 2s (- 53m 27s), 2.0539\n",
      "Epoch 72000/150000, 48m 43s (- 52m 46s), 2.1073\n",
      "Epoch 73000/150000, 49m 24s (- 52m 6s), 2.1385\n",
      "Epoch 74000/150000, 50m 5s (- 51m 26s), 2.0798\n",
      "Epoch 75000/150000, 50m 46s (- 50m 46s), 2.1020\n",
      "Epoch 76000/150000, 51m 27s (- 50m 6s), 2.0724\n",
      "Epoch 77000/150000, 52m 8s (- 49m 25s), 2.0560\n",
      "Epoch 78000/150000, 52m 49s (- 48m 45s), 1.9553\n",
      "Epoch 79000/150000, 53m 30s (- 48m 5s), 2.0566\n",
      "Epoch 80000/150000, 54m 10s (- 47m 24s), 2.0351\n",
      "Epoch 81000/150000, 54m 51s (- 46m 44s), 1.9078\n",
      "Epoch 82000/150000, 55m 32s (- 46m 3s), 2.0063\n",
      "Epoch 83000/150000, 56m 13s (- 45m 23s), 1.9555\n",
      "Epoch 84000/150000, 56m 54s (- 44m 43s), 2.0301\n",
      "Epoch 85000/150000, 57m 35s (- 44m 2s), 1.9473\n",
      "Epoch 86000/150000, 58m 16s (- 43m 22s), 1.9140\n",
      "Epoch 87000/150000, 58m 57s (- 42m 41s), 1.8647\n",
      "Epoch 88000/150000, 59m 38s (- 42m 1s), 1.8425\n",
      "Epoch 89000/150000, 60m 19s (- 41m 20s), 1.9319\n",
      "Epoch 90000/150000, 61m 0s (- 40m 40s), 1.9194\n",
      "Epoch 91000/150000, 61m 41s (- 39m 59s), 1.7803\n",
      "Epoch 92000/150000, 62m 22s (- 39m 19s), 1.7889\n",
      "Epoch 93000/150000, 63m 3s (- 38m 39s), 1.8827\n",
      "Epoch 94000/150000, 63m 45s (- 37m 58s), 1.8051\n",
      "Epoch 95000/150000, 64m 26s (- 37m 18s), 1.8353\n",
      "Epoch 96000/150000, 65m 6s (- 36m 37s), 1.8620\n",
      "Epoch 97000/150000, 65m 48s (- 35m 57s), 1.8069\n",
      "Epoch 98000/150000, 66m 29s (- 35m 16s), 1.8160\n",
      "Epoch 99000/150000, 67m 9s (- 34m 36s), 1.7945\n",
      "Epoch 100000/150000, 67m 51s (- 33m 55s), 1.7754\n",
      "Epoch 101000/150000, 68m 31s (- 33m 14s), 1.8261\n",
      "Epoch 102000/150000, 69m 12s (- 32m 34s), 1.8785\n",
      "Epoch 103000/150000, 69m 53s (- 31m 53s), 1.7207\n",
      "Epoch 104000/150000, 70m 34s (- 31m 12s), 1.7149\n",
      "Epoch 105000/150000, 71m 15s (- 30m 32s), 1.7454\n",
      "Epoch 106000/150000, 71m 56s (- 29m 51s), 1.7572\n",
      "Epoch 107000/150000, 72m 37s (- 29m 11s), 1.7667\n",
      "Epoch 108000/150000, 73m 18s (- 28m 30s), 1.6749\n",
      "Epoch 109000/150000, 74m 0s (- 27m 50s), 1.7373\n",
      "Epoch 110000/150000, 74m 41s (- 27m 9s), 1.7083\n",
      "Epoch 111000/150000, 75m 22s (- 26m 29s), 1.6381\n",
      "Epoch 112000/150000, 76m 3s (- 25m 48s), 1.7289\n",
      "Epoch 113000/150000, 76m 44s (- 25m 7s), 1.7553\n",
      "Epoch 114000/150000, 77m 25s (- 24m 27s), 1.6492\n",
      "Epoch 115000/150000, 78m 7s (- 23m 46s), 1.7244\n",
      "Epoch 116000/150000, 78m 48s (- 23m 5s), 1.6859\n",
      "Epoch 117000/150000, 79m 29s (- 22m 25s), 1.6471\n",
      "Epoch 118000/150000, 80m 10s (- 21m 44s), 1.6353\n",
      "Epoch 119000/150000, 80m 51s (- 21m 3s), 1.6216\n",
      "Epoch 120000/150000, 81m 32s (- 20m 23s), 1.6433\n",
      "Epoch 121000/150000, 82m 13s (- 19m 42s), 1.7099\n",
      "Epoch 122000/150000, 82m 54s (- 19m 1s), 1.6223\n",
      "Epoch 123000/150000, 83m 35s (- 18m 20s), 1.6759\n",
      "Epoch 124000/150000, 84m 16s (- 17m 40s), 1.5897\n",
      "Epoch 125000/150000, 84m 57s (- 16m 59s), 1.6564\n",
      "Epoch 126000/150000, 85m 38s (- 16m 18s), 1.6419\n",
      "Epoch 127000/150000, 86m 19s (- 15m 38s), 1.6160\n",
      "Epoch 128000/150000, 87m 1s (- 14m 57s), 1.6528\n",
      "Epoch 129000/150000, 87m 42s (- 14m 16s), 1.6397\n",
      "Epoch 130000/150000, 88m 23s (- 13m 35s), 1.5517\n",
      "Epoch 131000/150000, 89m 4s (- 12m 55s), 1.6506\n",
      "Epoch 132000/150000, 89m 45s (- 12m 14s), 1.5175\n",
      "Epoch 133000/150000, 90m 26s (- 11m 33s), 1.6774\n",
      "Epoch 134000/150000, 91m 7s (- 10m 52s), 1.6109\n",
      "Epoch 135000/150000, 91m 48s (- 10m 12s), 1.5375\n",
      "Epoch 136000/150000, 92m 29s (- 9m 31s), 1.5388\n",
      "Epoch 137000/150000, 93m 10s (- 8m 50s), 1.5189\n",
      "Epoch 138000/150000, 93m 51s (- 8m 9s), 1.4967\n",
      "Epoch 139000/150000, 94m 33s (- 7m 28s), 1.5777\n",
      "Epoch 140000/150000, 95m 14s (- 6m 48s), 1.4716\n",
      "Epoch 141000/150000, 95m 56s (- 6m 7s), 1.5564\n",
      "Epoch 142000/150000, 96m 37s (- 5m 26s), 1.4948\n",
      "Epoch 143000/150000, 97m 18s (- 4m 45s), 1.5623\n",
      "Epoch 144000/150000, 98m 0s (- 4m 5s), 1.5244\n",
      "Epoch 145000/150000, 98m 41s (- 3m 24s), 1.4939\n",
      "Epoch 146000/150000, 99m 23s (- 2m 43s), 1.4833\n",
      "Epoch 147000/150000, 100m 4s (- 2m 2s), 1.5083\n",
      "Epoch 148000/150000, 100m 45s (- 1m 21s), 1.4097\n",
      "Epoch 149000/150000, 101m 26s (- 0m 40s), 1.4008\n",
      "Epoch 150000/150000, 102m 7s (- 0m 0s), 1.4062\n"
     ]
    }
   ],
   "source": [
    "hidden_size = 500\n",
    "n_layers = 2\n",
    "dropout_p = 0.05\n",
    "bidirectional = True\n",
    "n_epochs = 150000\n",
    "decoder_hidden_size = hidden_size * 2 if bidirectional else hidden_size\n",
    "\n",
    "# Initialize models\n",
    "encoder = EncoderGRU(input_lang.n_words, hidden_size, n_layers, bidirectional=bidirectional)\n",
    "decoder = DecoderGRU(decoder_hidden_size, output_lang.n_words, n_layers, dropout_p=dropout_p)\n",
    "\n",
    "# Move models to GPU\n",
    "if USE_CUDA:\n",
    "    encoder.cuda()\n",
    "    decoder.cuda()\n",
    "\n",
    "# Initialize optimizers and criterion\n",
    "learning_rate = 0.0001\n",
    "encoder_optimizer = optim.Adam(encoder.parameters(), lr=learning_rate)\n",
    "decoder_optimizer = optim.Adam(decoder.parameters(), lr=learning_rate)\n",
    "criterion = nn.NLLLoss()\n",
    "\n",
    "# Configuring training\n",
    "plot_every = 200\n",
    "print_every = 1000\n",
    "\n",
    "# Keep track of time elapsed and running averages\n",
    "start = time.time()\n",
    "plot_losses = []\n",
    "print_loss_total = 0 # Reset every print_every\n",
    "plot_loss_total = 0 # Reset every plot_every\n",
    "\n",
    "# Begin!\n",
    "for epoch in range(1, n_epochs + 1):\n",
    "    \n",
    "    # Get training data for this cycle\n",
    "    training_pair = variables_from_pair(random.choice(pairs))\n",
    "    input_variable = training_pair[0]\n",
    "    target_variable = training_pair[1]\n",
    "\n",
    "    # Run the train function\n",
    "    loss = train(input_variable, target_variable, encoder, decoder, \n",
    "                 encoder_optimizer, decoder_optimizer, criterion)\n",
    "\n",
    "    # Keep track of loss\n",
    "    print_loss_total += loss\n",
    "    plot_loss_total += loss\n",
    "\n",
    "    if epoch == 0: continue\n",
    "\n",
    "    if epoch % print_every == 0:\n",
    "        print_loss_avg = print_loss_total / print_every\n",
    "        print_loss_total = 0\n",
    "        print_summary = 'Epoch %d/%d, %s, %.4f' % (epoch, n_epochs, time_since(start, epoch / n_epochs), \n",
    "                                                   print_loss_avg)\n",
    "        print(print_summary)\n",
    "\n",
    "    if epoch % plot_every == 0:\n",
    "        plot_loss_avg = plot_loss_total / plot_every\n",
    "        plot_losses.append(plot_loss_avg)\n",
    "        plot_loss_total = 0.05"
   ]
  },
  {
   "cell_type": "markdown",
   "metadata": {},
   "source": [
    "**绘制训练loss**"
   ]
  },
  {
   "cell_type": "code",
   "execution_count": 23,
   "metadata": {
    "jupyter": {
     "outputs_hidden": false
    },
    "scrolled": false
   },
   "outputs": [
    {
     "data": {
      "text/plain": [
       "<Figure size 640x480 with 0 Axes>"
      ]
     },
     "metadata": {},
     "output_type": "display_data"
    },
    {
     "data": {
      "image/png": "[encoded data removed]",
      "text/plain": [
       "<Figure size 640x480 with 1 Axes>"
      ]
     },
     "metadata": {},
     "output_type": "display_data"
    }
   ],
   "source": [
    "import matplotlib.pyplot as plt\n",
    "import matplotlib.ticker as ticker\n",
    "import numpy as np\n",
    "%matplotlib inline\n",
    "\n",
    "def show_plot(points):\n",
    "    plt.figure()\n",
    "    fig, ax = plt.subplots()\n",
    "    loc = ticker.MultipleLocator(base=0.2) # put ticks at regular intervals\n",
    "    ax.yaxis.set_major_locator(loc)\n",
    "    plt.plot(points)\n",
    "\n",
    "show_plot(plot_losses)"
   ]
  },
  {
   "cell_type": "markdown",
   "metadata": {},
   "source": [
    "## 模型验证"
   ]
  },
  {
   "cell_type": "code",
   "execution_count": 24,
   "metadata": {
    "jupyter": {
     "outputs_hidden": false
    }
   },
   "outputs": [],
   "source": [
    "def evaluate(sentence, max_length=MAX_LENGTH):\n",
    "    input_variable = variable_from_sentence(input_lang, sentence)\n",
    "    input_length = input_variable.size()[0]\n",
    "    \n",
    "    # Run through encoder\n",
    "    encoder_hidden = encoder.init_hidden()\n",
    "    encoder_outputs, encoder_hidden = encoder(input_variable, encoder_hidden)\n",
    "\n",
    "    # Create starting vectors for decoder\n",
    "    decoder_input = torch.LongTensor([[SOS_token]]) # SOS\n",
    "    if USE_CUDA:\n",
    "        decoder_input = decoder_input.cuda()\n",
    "\n",
    "    decoder_hidden = encoder_hidden.view(encoder.n_layers, encoder_hidden.shape[1], -1)\n",
    "    \n",
    "    decoded_words = []\n",
    "    decoder_attentions = torch.zeros(max_length, max_length)\n",
    "    \n",
    "    # Run through decoder\n",
    "    for di in range(max_length):\n",
    "        decoder_output, decoder_hidden = decoder(decoder_input, decoder_hidden)\n",
    "        # Choose top word from output\n",
    "        topv, topi = decoder_output.data.topk(1)\n",
    "        ni = topi[0][0]\n",
    "        if ni == EOS_token:\n",
    "            decoded_words.append('<EOS>')\n",
    "            break\n",
    "        else:\n",
    "            decoded_words.append(output_lang.index2word[ni.item()])\n",
    "            \n",
    "        # Next input is chosen word\n",
    "        decoder_input = torch.LongTensor([[ni]])\n",
    "        if USE_CUDA: decoder_input = decoder_input.cuda()\n",
    "    \n",
    "    return decoded_words"
   ]
  },
  {
   "cell_type": "markdown",
   "metadata": {},
   "source": [
    "随机选取一个句子进行验证。"
   ]
  },
  {
   "cell_type": "code",
   "execution_count": 25,
   "metadata": {},
   "outputs": [],
   "source": [
    "def evaluate_randomly():\n",
    "    pair = random.choice(pairs)\n",
    "    \n",
    "    output_words = evaluate(pair[0])\n",
    "    output_sentence = ' '.join(output_words)\n",
    "    \n",
    "    print('>', pair[0])\n",
    "    print('=', pair[1])\n",
    "    print('<', output_sentence)\n",
    "    print('')"
   ]
  },
  {
   "cell_type": "code",
   "execution_count": 26,
   "metadata": {
    "jupyter": {
     "outputs_hidden": false
    },
    "scrolled": false
   },
   "outputs": [
    {
     "name": "stdout",
     "output_type": "stream",
     "text": [
      "> 我講法語和英語。\n",
      "= i speak french and english .\n",
      "< i speak french and english . <EOS>\n",
      "\n"
     ]
    },
    {
     "name": "stderr",
     "output_type": "stream",
     "text": [
      "C:\\Users\\Administrator\\AppData\\Local\\Temp\\ipykernel_6752\\4185787426.py:27: UserWarning: Implicit dimension choice for log_softmax has been deprecated. Change the call to include dim=X as an argument.\n",
      "  output = F.log_softmax(self.out(rnn_output))\n"
     ]
    }
   ],
   "source": [
    "evaluate_randomly()"
   ]
  },
  {
   "cell_type": "code",
   "execution_count": 27,
   "metadata": {
    "scrolled": true
   },
   "outputs": [
    {
     "name": "stderr",
     "output_type": "stream",
     "text": [
      "C:\\Users\\Administrator\\AppData\\Local\\Temp\\ipykernel_6752\\4185787426.py:27: UserWarning: Implicit dimension choice for log_softmax has been deprecated. Change the call to include dim=X as an argument.\n",
      "  output = F.log_softmax(self.out(rnn_output))\n"
     ]
    },
    {
     "data": {
      "text/plain": [
       "'life is fun . <EOS>'"
      ]
     },
     "execution_count": 27,
     "metadata": {},
     "output_type": "execute_result"
    }
   ],
   "source": [
    "' '.join(evaluate('人生是有趣的。'))"
   ]
  },
  {
   "cell_type": "code",
   "execution_count": 28,
   "metadata": {},
   "outputs": [],
   "source": [
    "import collections\n",
    "from torchtext.data.metrics import bleu_score\n",
    "\n",
    "\n",
    "# 读取测试数据集\n",
    "with open('cn-eng-test.txt') as f:\n",
    "    lines = f.read().strip().split('\\n')\n",
    "    \n",
    "    test_pairs = [[normalize_string(s) for s in l.split('\\t')] for l in lines]\n",
    "\n",
    "\n",
    "\n",
    "test_pairs_dict = collections.defaultdict(lambda : [])\n",
    "\n",
    "for pair in test_pairs:\n",
    "    test_pairs_dict[pair[0]].append(pair[1].split(' '))\n",
    "\n",
    "\n",
    "def evaluate_bleu_score():\n",
    "    candicates = []\n",
    "    references = []\n",
    "\n",
    "    for i, pair in enumerate(test_pairs_dict.items(), start=1):\n",
    "        candicate = evaluate(pair[0])\n",
    "        if candicate[-1] == '<EOS>':\n",
    "            candicate.pop(-1)\n",
    "        candicates.append(candicate)\n",
    "        references.append(pair[1])\n",
    "    \n",
    "    score = bleu_score(candicates, references)\n",
    "    return score"
   ]
  },
  {
   "cell_type": "code",
   "execution_count": 29,
   "metadata": {
    "scrolled": true
   },
   "outputs": [
    {
     "name": "stderr",
     "output_type": "stream",
     "text": [
      "C:\\Users\\Administrator\\AppData\\Local\\Temp\\ipykernel_6752\\4185787426.py:27: UserWarning: Implicit dimension choice for log_softmax has been deprecated. Change the call to include dim=X as an argument.\n",
      "  output = F.log_softmax(self.out(rnn_output))\n"
     ]
    },
    {
     "name": "stdout",
     "output_type": "stream",
     "text": [
      "test dataset bleu score: 0.5388663729613064\n"
     ]
    }
   ],
   "source": [
    "print('test dataset bleu score: %s' % evaluate_bleu_score())"
   ]
  },
  {
   "cell_type": "markdown",
   "metadata": {},
   "source": [
    "## 预测"
   ]
  },
  {
   "cell_type": "code",
   "execution_count": 30,
   "metadata": {},
   "outputs": [],
   "source": [
    "def predict():\n",
    "    \"\"\"预测\"\"\"\n",
    "    with open('test.txt') as f:\n",
    "        sentences =  [line.strip() for line in f.readlines()]\n",
    "\n",
    "    output_sentences = []\n",
    "    for sentence in sentences:\n",
    "        output_sentence = ' '.join(evaluate(sentence))\n",
    "        output_sentences.append(output_sentence.strip('<EOS>'))\n",
    "    \n",
    "    with open('result-bigru.txt', 'w') as f:\n",
    "        f.write('\\n'.join(output_sentences))"
   ]
  },
  {
   "cell_type": "code",
   "execution_count": 31,
   "metadata": {},
   "outputs": [
    {
     "name": "stderr",
     "output_type": "stream",
     "text": [
      "C:\\Users\\Administrator\\AppData\\Local\\Temp\\ipykernel_6752\\4185787426.py:27: UserWarning: Implicit dimension choice for log_softmax has been deprecated. Change the call to include dim=X as an argument.\n",
      "  output = F.log_softmax(self.out(rnn_output))\n"
     ]
    }
   ],
   "source": [
    "predict()"
   ]
  },
  {
   "cell_type": "code",
   "execution_count": 32,
   "metadata": {},
   "outputs": [
    {
     "name": "stdout",
     "output_type": "stream",
     "text": [
      "| Original                               | Translation                            |\n",
      "|:---------------------------------------|:---------------------------------------|\n",
      "| 為什麼我一直學不好英語？               | why don t i have any english english ? |\n",
      "| 她讓我坐在她的身邊。                   | she asked her on her side .            |\n",
      "| 這瓶酸奶不含乳糖。                     | this bottle has not gone to .          |\n",
      "| 這瓶酸奶不含乳糖。                     | this bottle has not gone to this       |\n",
      "| 我不能幫你了。                         | i m not help you .                     |\n",
      "| 我不能幫你了。                         | i m not help you .                     |\n",
      "| 湯姆不是一個好司機。                   | tom isn t a good driver .              |\n",
      "| 我會普通話、西南官話、吳語和西班牙語。 | i m getting spanish and my brother .   |\n",
      "| 這個問題沒有那麼簡單。                 | this question is not that . .          |\n",
      "| 他不會說英語也不會說法語。             | he can t speak english and french .    |\n"
     ]
    }
   ],
   "source": [
    "import pandas as pd\n",
    "\n",
    "def read_first_ten_lines(file_path):\n",
    "    with open(file_path, 'r', encoding='utf-8') as file:\n",
    "        lines = [line.strip('\\n') for line in iter(lambda: file.readline(), '')]\n",
    "        return lines[:10]\n",
    "\n",
    "original_texts = read_first_ten_lines('test.txt')\n",
    "translated_texts = read_first_ten_lines('result-bigru.txt')\n",
    "\n",
    "df = pd.DataFrame({\n",
    "    'Original': original_texts,\n",
    "    'Translation': translated_texts\n",
    "}, columns=['Original', 'Translation'])\n",
    "\n",
    "print(df.to_markdown(index=False, tablefmt='pipe'))"
   ]
  },
  {
   "cell_type": "code",
   "execution_count": 34,
   "metadata": {},
   "outputs": [],
   "source": [
    "\n",
    "torch.save(encoder, 'model_storage/nmt-seq2seq-bigru-encoder.pkl')\n",
    "torch.save(decoder, 'model_storage/nmt-seq2seq-bigru-decoder.pkl')"
   ]
  }
 ],
 "metadata": {
  "anaconda-cloud": {},
  "kernelspec": {
   "display_name": "Python 3",
   "language": "python",
   "name": "python3"
  },
  "language_info": {
   "codemirror_mode": {
    "name": "ipython",
    "version": 3
   },
   "file_extension": ".py",
   "mimetype": "text/x-python",
   "name": "python",
   "nbconvert_exporter": "python",
   "pygments_lexer": "ipython3",
   "version": "3.11.5"
  },
  "toc": {
   "base_numbering": 1,
   "nav_menu": {},
   "number_sections": true,
   "sideBar": true,
   "skip_h1_title": false,
   "title_cell": "Table of Contents",
   "title_sidebar": "Contents",
   "toc_cell": false,
   "toc_position": {
    "height": "calc(100% - 180px)",
    "left": "10px",
    "top": "150px",
    "width": "275.753px"
   },
   "toc_section_display": true,
   "toc_window_display": true
  },
  "varInspector": {
   "cols": {
    "lenName": 16,
    "lenType": 16,
    "lenVar": 40
   },
   "kernels_config": {
    "python": {
     "delete_cmd_postfix": "",
     "delete_cmd_prefix": "del ",
     "library": "var_list.py",
     "varRefreshCmd": "print(var_dic_list())"
    },
    "r": {
     "delete_cmd_postfix": ") ",
     "delete_cmd_prefix": "rm(",
     "library": "var_list.r",
     "varRefreshCmd": "cat(var_dic_list()) "
    }
   },
   "oldHeight": 514.7443639999999,
   "position": {
    "height": "40px",
    "left": "1211.8px",
    "right": "20px",
    "top": "120px",
    "width": "360px"
   },
   "types_to_exclude": [
    "module",
    "function",
    "builtin_function_or_method",
    "instance",
    "_Feature"
   ],
   "varInspector_section_display": "none",
   "window_display": false
  }
 },
 "nbformat": 4,
 "nbformat_minor": 4
}
